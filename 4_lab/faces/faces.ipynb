{
 "cells": [
  {
   "cell_type": "code",
   "execution_count": 1,
   "metadata": {},
   "outputs": [],
   "source": [
    "import glob\n",
    "import cv2"
   ]
  },
  {
   "cell_type": "code",
   "execution_count": 2,
   "metadata": {},
   "outputs": [],
   "source": [
    "import numpy as np"
   ]
  },
  {
   "cell_type": "code",
   "execution_count": 3,
   "metadata": {},
   "outputs": [
    {
     "name": "stdout",
     "output_type": "stream",
     "text": [
      "WARNING:tensorflow:From d:\\Git Projects\\ml_ecomm\\4_lab\\venv\\Lib\\site-packages\\tf_keras\\src\\losses.py:2976: The name tf.losses.sparse_softmax_cross_entropy is deprecated. Please use tf.compat.v1.losses.sparse_softmax_cross_entropy instead.\n",
      "\n"
     ]
    }
   ],
   "source": [
    "import tf_keras as keras\n",
    "from tf_keras.datasets import mnist\n",
    "from tf_keras.models import Sequential\n",
    "from tf_keras.layers import Dense, Dropout, Flatten\n",
    "from tf_keras.layers import Conv2D, MaxPooling2D\n",
    "from tf_keras import backend as K"
   ]
  },
  {
   "cell_type": "code",
   "execution_count": 4,
   "metadata": {},
   "outputs": [],
   "source": [
    "from tf_keras.preprocessing.image import ImageDataGenerator"
   ]
  },
  {
   "cell_type": "code",
   "execution_count": 5,
   "metadata": {},
   "outputs": [],
   "source": [
    "from sklearn.model_selection import train_test_split"
   ]
  },
  {
   "cell_type": "code",
   "execution_count": 6,
   "metadata": {},
   "outputs": [],
   "source": [
    "import matplotlib.pyplot as plt\n",
    "%matplotlib inline"
   ]
  },
  {
   "cell_type": "markdown",
   "metadata": {},
   "source": [
    "### Создаём аугментатор"
   ]
  },
  {
   "cell_type": "code",
   "execution_count": 7,
   "metadata": {},
   "outputs": [],
   "source": [
    "datagen = ImageDataGenerator(\n",
    "        rotation_range=20,\n",
    "        width_shift_range=0.2,\n",
    "        height_shift_range=0.2,\n",
    "        shear_range=0.2,\n",
    "        zoom_range=0.2,\n",
    "        horizontal_flip=True,\n",
    "        fill_mode='nearest'\n",
    ")"
   ]
  },
  {
   "cell_type": "markdown",
   "metadata": {},
   "source": [
    "### Выбираем размер изображений"
   ]
  },
  {
   "cell_type": "code",
   "execution_count": 8,
   "metadata": {},
   "outputs": [],
   "source": [
    "img_rows, img_cols = 64, 64\n",
    "input_shape = (img_rows, img_cols, 1)"
   ]
  },
  {
   "cell_type": "markdown",
   "metadata": {},
   "source": [
    "### Загружаем набор данных"
   ]
  },
  {
   "cell_type": "code",
   "execution_count": 10,
   "metadata": {},
   "outputs": [],
   "source": [
    "age_labels = []\n",
    "gender_labels = []\n",
    "images = []\n",
    "\n",
    "for image_name in glob.glob('./UTKFace/*.jpg'):\n",
    "    items = image_name.rsplit('/', 1)[1].rsplit('\\\\', 1)[1].split('_') \n",
    "    \n",
    "    age = int(items[0])\n",
    "    gender = int(items[1])\n",
    "    \n",
    "    age_labels.append(age)\n",
    "    gender_labels.append(gender)\n",
    "    \n",
    "    image = cv2.imread(image_name)\n",
    "    \n",
    "    gray_image = cv2.cvtColor(image, cv2.COLOR_BGR2GRAY)\n",
    "    gray_image = cv2.resize(gray_image, (img_rows, img_cols), interpolation = cv2.INTER_CUBIC)    \n",
    "    gray_image = gray_image.reshape((img_rows, img_cols, 1))\n",
    "    \n",
    "    images.append(gray_image)\n",
    "\n",
    "age_labels = np.array(age_labels)\n",
    "gender_labels = np.array(gender_labels)\n",
    "images = np.array(images)"
   ]
  },
  {
   "cell_type": "code",
   "execution_count": 11,
   "metadata": {},
   "outputs": [],
   "source": [
    "images = images / 255.0 # type: ignore"
   ]
  },
  {
   "cell_type": "code",
   "execution_count": 12,
   "metadata": {},
   "outputs": [],
   "source": [
    "X_train, X_test, y_train, y_test = train_test_split(images, gender_labels, test_size=0.3, random_state=42)\n",
    "# X_train, X_test, y_train, y_test = train_test_split(images, age_labels, test_size=0.3, random_state=42)"
   ]
  },
  {
   "cell_type": "code",
   "execution_count": 13,
   "metadata": {},
   "outputs": [],
   "source": [
    "num_classes = np.unique(gender_labels).shape[0]"
   ]
  },
  {
   "cell_type": "code",
   "execution_count": 14,
   "metadata": {},
   "outputs": [],
   "source": [
    "y_train = keras.utils.to_categorical(y_train, num_classes)\n",
    "y_test = keras.utils.to_categorical(y_test, num_classes)"
   ]
  },
  {
   "cell_type": "markdown",
   "metadata": {},
   "source": [
    "### Создаём модель"
   ]
  },
  {
   "cell_type": "code",
   "execution_count": 15,
   "metadata": {},
   "outputs": [
    {
     "name": "stdout",
     "output_type": "stream",
     "text": [
      "WARNING:tensorflow:From d:\\Git Projects\\ml_ecomm\\4_lab\\venv\\Lib\\site-packages\\tf_keras\\src\\backend.py:873: The name tf.get_default_graph is deprecated. Please use tf.compat.v1.get_default_graph instead.\n",
      "\n",
      "WARNING:tensorflow:From d:\\Git Projects\\ml_ecomm\\4_lab\\venv\\Lib\\site-packages\\tf_keras\\src\\layers\\pooling\\max_pooling2d.py:161: The name tf.nn.max_pool is deprecated. Please use tf.nn.max_pool2d instead.\n",
      "\n"
     ]
    }
   ],
   "source": [
    "model = Sequential()\n",
    "model.add(Conv2D(32, kernel_size=(3, 3),\n",
    "                 activation='relu',\n",
    "                 input_shape=input_shape))\n",
    "model.add(Conv2D(64, (3, 3), activation='relu'))\n",
    "model.add(MaxPooling2D(pool_size=(2, 2)))\n",
    "model.add(Dropout(0.25))\n",
    "model.add(Conv2D(64, (3, 3), activation='relu'))\n",
    "model.add(Conv2D(96, (3, 3), activation='relu'))\n",
    "model.add(MaxPooling2D(pool_size=(2, 2)))\n",
    "model.add(Dropout(0.25))\n",
    "model.add(Flatten())\n",
    "model.add(Dense(256, activation='relu'))\n",
    "model.add(Dropout(0.5))\n",
    "model.add(Dense(num_classes, activation='softmax'))\n",
    "# model.add(Dense(1, kernel_initializer='normal'))"
   ]
  },
  {
   "cell_type": "code",
   "execution_count": 16,
   "metadata": {},
   "outputs": [
    {
     "name": "stdout",
     "output_type": "stream",
     "text": [
      "WARNING:tensorflow:From d:\\Git Projects\\ml_ecomm\\4_lab\\venv\\Lib\\site-packages\\tf_keras\\src\\optimizers\\__init__.py:317: The name tf.train.Optimizer is deprecated. Please use tf.compat.v1.train.Optimizer instead.\n",
      "\n"
     ]
    }
   ],
   "source": [
    "model.compile(\n",
    "    loss='binary_crossentropy',\n",
    "    optimizer='rmsprop',\n",
    "    metrics=['accuracy']\n",
    ")\n",
    "# model.compile(loss='mean_squared_error',\n",
    "#               optimizer='rmsprop',\n",
    "#               metrics=['mse', 'mae', 'mape'])"
   ]
  },
  {
   "cell_type": "markdown",
   "metadata": {},
   "source": [
    "### Обучаем модель"
   ]
  },
  {
   "cell_type": "code",
   "execution_count": 17,
   "metadata": {},
   "outputs": [],
   "source": [
    "datagen.fit(X_train)"
   ]
  },
  {
   "cell_type": "code",
   "execution_count": 20,
   "metadata": {},
   "outputs": [],
   "source": [
    "batch_size = 128\n",
    "epochs = 100"
   ]
  },
  {
   "cell_type": "code",
   "execution_count": 21,
   "metadata": {},
   "outputs": [
    {
     "name": "stdout",
     "output_type": "stream",
     "text": [
      "Epoch 1/100\n"
     ]
    },
    {
     "name": "stderr",
     "output_type": "stream",
     "text": [
      "C:\\Users\\roaoc\\AppData\\Local\\Temp\\ipykernel_7780\\738339635.py:4: UserWarning: `Model.fit_generator` is deprecated and will be removed in a future version. Please use `Model.fit`, which supports generators.\n",
      "  history_callback =  model.fit_generator(\n"
     ]
    },
    {
     "name": "stdout",
     "output_type": "stream",
     "text": [
      "90/90 [==============================] - 29s 325ms/step - loss: 0.5902 - accuracy: 0.6928 - val_loss: 0.5041 - val_accuracy: 0.7548\n",
      "Epoch 2/100\n",
      "90/90 [==============================] - 28s 311ms/step - loss: 0.5774 - accuracy: 0.7015 - val_loss: 0.5104 - val_accuracy: 0.7489\n",
      "Epoch 3/100\n",
      "90/90 [==============================] - 28s 308ms/step - loss: 0.5659 - accuracy: 0.7080 - val_loss: 0.4667 - val_accuracy: 0.7770\n",
      "Epoch 4/100\n",
      "90/90 [==============================] - 28s 309ms/step - loss: 0.5488 - accuracy: 0.7244 - val_loss: 0.4552 - val_accuracy: 0.7776\n",
      "Epoch 5/100\n",
      "90/90 [==============================] - 28s 308ms/step - loss: 0.5329 - accuracy: 0.7357 - val_loss: 0.4293 - val_accuracy: 0.7992\n",
      "Epoch 6/100\n",
      "90/90 [==============================] - 28s 308ms/step - loss: 0.5163 - accuracy: 0.7417 - val_loss: 0.4144 - val_accuracy: 0.8065\n",
      "Epoch 7/100\n",
      "90/90 [==============================] - 28s 307ms/step - loss: 0.5081 - accuracy: 0.7558 - val_loss: 0.4070 - val_accuracy: 0.8146\n",
      "Epoch 8/100\n",
      "90/90 [==============================] - 28s 308ms/step - loss: 0.4810 - accuracy: 0.7701 - val_loss: 0.3859 - val_accuracy: 0.8238\n",
      "Epoch 9/100\n",
      "90/90 [==============================] - 28s 307ms/step - loss: 0.4711 - accuracy: 0.7754 - val_loss: 0.3952 - val_accuracy: 0.8220\n",
      "Epoch 10/100\n",
      "90/90 [==============================] - 28s 310ms/step - loss: 0.4547 - accuracy: 0.7878 - val_loss: 0.3656 - val_accuracy: 0.8358\n",
      "Epoch 11/100\n",
      "90/90 [==============================] - 28s 308ms/step - loss: 0.4432 - accuracy: 0.7943 - val_loss: 0.3470 - val_accuracy: 0.8486\n",
      "Epoch 12/100\n",
      "90/90 [==============================] - 29s 315ms/step - loss: 0.4381 - accuracy: 0.7939 - val_loss: 0.3459 - val_accuracy: 0.8472\n",
      "Epoch 13/100\n",
      "90/90 [==============================] - 28s 314ms/step - loss: 0.4156 - accuracy: 0.8082 - val_loss: 0.3347 - val_accuracy: 0.8501\n",
      "Epoch 14/100\n",
      "90/90 [==============================] - 28s 306ms/step - loss: 0.4168 - accuracy: 0.8100 - val_loss: 0.3406 - val_accuracy: 0.8543\n",
      "Epoch 15/100\n",
      "90/90 [==============================] - 28s 306ms/step - loss: 0.4042 - accuracy: 0.8146 - val_loss: 0.3540 - val_accuracy: 0.8395\n",
      "Epoch 16/100\n",
      "90/90 [==============================] - 28s 305ms/step - loss: 0.4000 - accuracy: 0.8142 - val_loss: 0.3248 - val_accuracy: 0.8619\n",
      "Epoch 17/100\n",
      "90/90 [==============================] - 28s 305ms/step - loss: 0.3944 - accuracy: 0.8216 - val_loss: 0.3423 - val_accuracy: 0.8478\n",
      "Epoch 18/100\n",
      "90/90 [==============================] - 28s 309ms/step - loss: 0.3891 - accuracy: 0.8247 - val_loss: 0.3361 - val_accuracy: 0.8562\n",
      "Epoch 19/100\n",
      "90/90 [==============================] - 28s 306ms/step - loss: 0.3714 - accuracy: 0.8326 - val_loss: 0.3116 - val_accuracy: 0.8698\n",
      "Epoch 20/100\n",
      "90/90 [==============================] - 28s 306ms/step - loss: 0.3746 - accuracy: 0.8322 - val_loss: 0.3167 - val_accuracy: 0.8647\n",
      "Epoch 21/100\n",
      "90/90 [==============================] - 28s 305ms/step - loss: 0.3679 - accuracy: 0.8345 - val_loss: 0.3243 - val_accuracy: 0.8625\n",
      "Epoch 22/100\n",
      "90/90 [==============================] - 28s 305ms/step - loss: 0.3640 - accuracy: 0.8405 - val_loss: 0.2963 - val_accuracy: 0.8720\n",
      "Epoch 23/100\n",
      "90/90 [==============================] - 28s 309ms/step - loss: 0.3672 - accuracy: 0.8341 - val_loss: 0.2935 - val_accuracy: 0.8779\n",
      "Epoch 24/100\n",
      "90/90 [==============================] - 28s 306ms/step - loss: 0.3549 - accuracy: 0.8396 - val_loss: 0.3187 - val_accuracy: 0.8633\n",
      "Epoch 25/100\n",
      "90/90 [==============================] - 28s 306ms/step - loss: 0.3545 - accuracy: 0.8436 - val_loss: 0.3014 - val_accuracy: 0.8741\n",
      "Epoch 26/100\n",
      "90/90 [==============================] - 28s 305ms/step - loss: 0.3485 - accuracy: 0.8454 - val_loss: 0.2973 - val_accuracy: 0.8832\n",
      "Epoch 27/100\n",
      "90/90 [==============================] - 28s 306ms/step - loss: 0.3461 - accuracy: 0.8429 - val_loss: 0.3557 - val_accuracy: 0.8531\n",
      "Epoch 28/100\n",
      "90/90 [==============================] - 28s 308ms/step - loss: 0.3429 - accuracy: 0.8481 - val_loss: 0.3081 - val_accuracy: 0.8661\n",
      "Epoch 29/100\n",
      "90/90 [==============================] - 28s 314ms/step - loss: 0.3401 - accuracy: 0.8518 - val_loss: 0.2928 - val_accuracy: 0.8773\n",
      "Epoch 30/100\n",
      "90/90 [==============================] - 28s 309ms/step - loss: 0.3391 - accuracy: 0.8505 - val_loss: 0.2833 - val_accuracy: 0.8777\n",
      "Epoch 31/100\n",
      "90/90 [==============================] - 28s 306ms/step - loss: 0.3300 - accuracy: 0.8551 - val_loss: 0.2938 - val_accuracy: 0.8769\n",
      "Epoch 32/100\n",
      "90/90 [==============================] - 28s 307ms/step - loss: 0.3293 - accuracy: 0.8550 - val_loss: 0.2816 - val_accuracy: 0.8826\n",
      "Epoch 33/100\n",
      "90/90 [==============================] - 28s 307ms/step - loss: 0.3305 - accuracy: 0.8546 - val_loss: 0.2924 - val_accuracy: 0.8846\n",
      "Epoch 34/100\n",
      "90/90 [==============================] - 29s 319ms/step - loss: 0.3232 - accuracy: 0.8580 - val_loss: 0.2746 - val_accuracy: 0.8861\n",
      "Epoch 35/100\n",
      "90/90 [==============================] - 29s 319ms/step - loss: 0.3281 - accuracy: 0.8566 - val_loss: 0.2710 - val_accuracy: 0.8842\n",
      "Epoch 36/100\n",
      "90/90 [==============================] - 29s 318ms/step - loss: 0.3258 - accuracy: 0.8539 - val_loss: 0.3108 - val_accuracy: 0.8779\n",
      "Epoch 37/100\n",
      "90/90 [==============================] - 29s 318ms/step - loss: 0.3191 - accuracy: 0.8600 - val_loss: 0.2684 - val_accuracy: 0.8889\n",
      "Epoch 38/100\n",
      "90/90 [==============================] - 29s 316ms/step - loss: 0.3154 - accuracy: 0.8629 - val_loss: 0.2876 - val_accuracy: 0.8873\n",
      "Epoch 39/100\n",
      "90/90 [==============================] - 29s 318ms/step - loss: 0.3124 - accuracy: 0.8633 - val_loss: 0.2817 - val_accuracy: 0.8832\n",
      "Epoch 40/100\n",
      "90/90 [==============================] - 29s 319ms/step - loss: 0.3148 - accuracy: 0.8600 - val_loss: 0.2868 - val_accuracy: 0.8789\n",
      "Epoch 41/100\n",
      "90/90 [==============================] - 29s 319ms/step - loss: 0.3116 - accuracy: 0.8627 - val_loss: 0.2670 - val_accuracy: 0.8889\n",
      "Epoch 42/100\n",
      "90/90 [==============================] - 29s 317ms/step - loss: 0.3133 - accuracy: 0.8641 - val_loss: 0.2619 - val_accuracy: 0.8881\n",
      "Epoch 43/100\n",
      "90/90 [==============================] - 29s 316ms/step - loss: 0.3085 - accuracy: 0.8661 - val_loss: 0.2701 - val_accuracy: 0.8875\n",
      "Epoch 44/100\n",
      "90/90 [==============================] - 29s 319ms/step - loss: 0.3105 - accuracy: 0.8641 - val_loss: 0.2708 - val_accuracy: 0.8859\n",
      "Epoch 45/100\n",
      "90/90 [==============================] - 30s 335ms/step - loss: 0.3077 - accuracy: 0.8682 - val_loss: 0.2694 - val_accuracy: 0.8859\n",
      "Epoch 46/100\n",
      "90/90 [==============================] - 29s 317ms/step - loss: 0.3078 - accuracy: 0.8682 - val_loss: 0.2717 - val_accuracy: 0.8889\n",
      "Epoch 47/100\n",
      "90/90 [==============================] - 29s 317ms/step - loss: 0.3079 - accuracy: 0.8690 - val_loss: 0.2561 - val_accuracy: 0.8938\n",
      "Epoch 48/100\n",
      "90/90 [==============================] - 29s 319ms/step - loss: 0.2980 - accuracy: 0.8684 - val_loss: 0.2942 - val_accuracy: 0.8857\n",
      "Epoch 49/100\n",
      "90/90 [==============================] - 29s 319ms/step - loss: 0.2989 - accuracy: 0.8703 - val_loss: 0.2728 - val_accuracy: 0.8922\n",
      "Epoch 50/100\n",
      "90/90 [==============================] - 29s 319ms/step - loss: 0.2988 - accuracy: 0.8688 - val_loss: 0.2547 - val_accuracy: 0.8948\n",
      "Epoch 51/100\n",
      "90/90 [==============================] - 28s 311ms/step - loss: 0.2998 - accuracy: 0.8697 - val_loss: 0.2588 - val_accuracy: 0.8916\n",
      "Epoch 52/100\n",
      "90/90 [==============================] - 28s 308ms/step - loss: 0.2976 - accuracy: 0.8735 - val_loss: 0.2529 - val_accuracy: 0.8966\n",
      "Epoch 53/100\n",
      "90/90 [==============================] - 28s 306ms/step - loss: 0.3057 - accuracy: 0.8684 - val_loss: 0.2684 - val_accuracy: 0.8873\n",
      "Epoch 54/100\n",
      "90/90 [==============================] - 28s 307ms/step - loss: 0.2969 - accuracy: 0.8702 - val_loss: 0.2603 - val_accuracy: 0.8954\n",
      "Epoch 55/100\n",
      "90/90 [==============================] - 28s 314ms/step - loss: 0.2979 - accuracy: 0.8682 - val_loss: 0.2747 - val_accuracy: 0.8844\n",
      "Epoch 56/100\n",
      "90/90 [==============================] - 28s 307ms/step - loss: 0.2930 - accuracy: 0.8734 - val_loss: 0.2554 - val_accuracy: 0.8973\n",
      "Epoch 57/100\n",
      "90/90 [==============================] - 28s 306ms/step - loss: 0.2940 - accuracy: 0.8748 - val_loss: 0.2469 - val_accuracy: 0.8979\n",
      "Epoch 58/100\n",
      "90/90 [==============================] - 28s 307ms/step - loss: 0.2936 - accuracy: 0.8710 - val_loss: 0.2661 - val_accuracy: 0.8895\n",
      "Epoch 59/100\n",
      "90/90 [==============================] - 28s 306ms/step - loss: 0.2911 - accuracy: 0.8728 - val_loss: 0.2781 - val_accuracy: 0.8932\n",
      "Epoch 60/100\n",
      "90/90 [==============================] - 28s 305ms/step - loss: 0.2855 - accuracy: 0.8804 - val_loss: 0.2738 - val_accuracy: 0.8885\n",
      "Epoch 61/100\n",
      "90/90 [==============================] - 27s 304ms/step - loss: 0.2902 - accuracy: 0.8720 - val_loss: 0.2526 - val_accuracy: 0.8954\n",
      "Epoch 62/100\n",
      "90/90 [==============================] - 28s 305ms/step - loss: 0.2917 - accuracy: 0.8743 - val_loss: 0.2599 - val_accuracy: 0.8948\n",
      "Epoch 63/100\n",
      "90/90 [==============================] - 28s 306ms/step - loss: 0.2912 - accuracy: 0.8715 - val_loss: 0.2576 - val_accuracy: 0.9009\n",
      "Epoch 64/100\n",
      "90/90 [==============================] - 28s 306ms/step - loss: 0.2813 - accuracy: 0.8783 - val_loss: 0.2442 - val_accuracy: 0.8997\n",
      "Epoch 65/100\n",
      "90/90 [==============================] - 28s 305ms/step - loss: 0.2856 - accuracy: 0.8761 - val_loss: 0.2531 - val_accuracy: 0.8981\n",
      "Epoch 66/100\n",
      "90/90 [==============================] - 28s 305ms/step - loss: 0.2884 - accuracy: 0.8789 - val_loss: 0.2504 - val_accuracy: 0.8936\n",
      "Epoch 67/100\n",
      "90/90 [==============================] - 28s 305ms/step - loss: 0.2836 - accuracy: 0.8778 - val_loss: 0.2676 - val_accuracy: 0.8946\n",
      "Epoch 68/100\n",
      "90/90 [==============================] - 28s 306ms/step - loss: 0.2858 - accuracy: 0.8764 - val_loss: 0.2565 - val_accuracy: 0.8946\n",
      "Epoch 69/100\n",
      "90/90 [==============================] - 28s 305ms/step - loss: 0.2800 - accuracy: 0.8827 - val_loss: 0.2569 - val_accuracy: 0.8983\n",
      "Epoch 70/100\n",
      "90/90 [==============================] - 28s 305ms/step - loss: 0.2858 - accuracy: 0.8766 - val_loss: 0.2624 - val_accuracy: 0.8970\n",
      "Epoch 71/100\n",
      "90/90 [==============================] - 28s 305ms/step - loss: 0.2872 - accuracy: 0.8749 - val_loss: 0.2634 - val_accuracy: 0.8968\n",
      "Epoch 72/100\n",
      "90/90 [==============================] - 28s 305ms/step - loss: 0.2777 - accuracy: 0.8811 - val_loss: 0.2486 - val_accuracy: 0.9013\n",
      "Epoch 73/100\n",
      "90/90 [==============================] - 28s 305ms/step - loss: 0.2818 - accuracy: 0.8798 - val_loss: 0.2826 - val_accuracy: 0.8889\n",
      "Epoch 74/100\n",
      "90/90 [==============================] - 27s 304ms/step - loss: 0.2809 - accuracy: 0.8760 - val_loss: 0.2469 - val_accuracy: 0.9009\n",
      "Epoch 75/100\n",
      "90/90 [==============================] - 28s 305ms/step - loss: 0.2809 - accuracy: 0.8821 - val_loss: 0.2744 - val_accuracy: 0.8942\n",
      "Epoch 76/100\n",
      "90/90 [==============================] - 28s 311ms/step - loss: 0.2763 - accuracy: 0.8828 - val_loss: 0.2538 - val_accuracy: 0.9009\n",
      "Epoch 77/100\n",
      "90/90 [==============================] - 28s 309ms/step - loss: 0.2736 - accuracy: 0.8809 - val_loss: 0.2675 - val_accuracy: 0.8950\n",
      "Epoch 78/100\n",
      "90/90 [==============================] - 28s 306ms/step - loss: 0.2721 - accuracy: 0.8841 - val_loss: 0.2604 - val_accuracy: 0.8968\n",
      "Epoch 79/100\n",
      "90/90 [==============================] - 28s 308ms/step - loss: 0.2718 - accuracy: 0.8840 - val_loss: 0.2466 - val_accuracy: 0.8975\n",
      "Epoch 80/100\n",
      "90/90 [==============================] - 28s 306ms/step - loss: 0.2744 - accuracy: 0.8814 - val_loss: 0.2480 - val_accuracy: 0.9007\n",
      "Epoch 81/100\n",
      "90/90 [==============================] - 28s 306ms/step - loss: 0.2811 - accuracy: 0.8762 - val_loss: 0.2593 - val_accuracy: 0.8985\n",
      "Epoch 82/100\n",
      "90/90 [==============================] - 28s 307ms/step - loss: 0.2731 - accuracy: 0.8777 - val_loss: 0.2644 - val_accuracy: 0.9001\n",
      "Epoch 83/100\n",
      "90/90 [==============================] - 28s 307ms/step - loss: 0.2723 - accuracy: 0.8818 - val_loss: 0.2616 - val_accuracy: 0.8991\n",
      "Epoch 84/100\n",
      "90/90 [==============================] - 28s 306ms/step - loss: 0.2698 - accuracy: 0.8848 - val_loss: 0.2700 - val_accuracy: 0.8977\n",
      "Epoch 85/100\n",
      "90/90 [==============================] - 28s 307ms/step - loss: 0.2690 - accuracy: 0.8832 - val_loss: 0.2519 - val_accuracy: 0.9023\n",
      "Epoch 86/100\n",
      "90/90 [==============================] - 28s 307ms/step - loss: 0.2617 - accuracy: 0.8902 - val_loss: 0.2580 - val_accuracy: 0.9005\n",
      "Epoch 87/100\n",
      "90/90 [==============================] - 28s 307ms/step - loss: 0.2666 - accuracy: 0.8834 - val_loss: 0.2678 - val_accuracy: 0.9056\n",
      "Epoch 88/100\n",
      "90/90 [==============================] - 28s 305ms/step - loss: 0.2673 - accuracy: 0.8849 - val_loss: 0.2607 - val_accuracy: 0.8966\n",
      "Epoch 89/100\n",
      "90/90 [==============================] - 27s 303ms/step - loss: 0.2642 - accuracy: 0.8845 - val_loss: 0.2514 - val_accuracy: 0.9027\n",
      "Epoch 90/100\n",
      "90/90 [==============================] - 28s 305ms/step - loss: 0.2707 - accuracy: 0.8845 - val_loss: 0.2543 - val_accuracy: 0.8952\n",
      "Epoch 91/100\n",
      "90/90 [==============================] - 27s 304ms/step - loss: 0.2690 - accuracy: 0.8851 - val_loss: 0.2522 - val_accuracy: 0.9015\n",
      "Epoch 92/100\n",
      "90/90 [==============================] - 28s 305ms/step - loss: 0.2697 - accuracy: 0.8843 - val_loss: 0.2434 - val_accuracy: 0.9040\n",
      "Epoch 93/100\n",
      "90/90 [==============================] - 27s 304ms/step - loss: 0.2673 - accuracy: 0.8873 - val_loss: 0.2389 - val_accuracy: 0.9058\n",
      "Epoch 94/100\n",
      "90/90 [==============================] - 28s 305ms/step - loss: 0.2679 - accuracy: 0.8892 - val_loss: 0.2469 - val_accuracy: 0.9013\n",
      "Epoch 95/100\n",
      "90/90 [==============================] - 28s 304ms/step - loss: 0.2732 - accuracy: 0.8843 - val_loss: 0.2515 - val_accuracy: 0.9023\n",
      "Epoch 96/100\n",
      "90/90 [==============================] - 27s 304ms/step - loss: 0.2665 - accuracy: 0.8831 - val_loss: 0.2350 - val_accuracy: 0.9046\n",
      "Epoch 97/100\n",
      "90/90 [==============================] - 28s 305ms/step - loss: 0.2673 - accuracy: 0.8863 - val_loss: 0.2540 - val_accuracy: 0.8989\n",
      "Epoch 98/100\n",
      "90/90 [==============================] - 28s 310ms/step - loss: 0.2609 - accuracy: 0.8874 - val_loss: 0.2579 - val_accuracy: 0.8997\n",
      "Epoch 99/100\n",
      "90/90 [==============================] - 28s 306ms/step - loss: 0.2732 - accuracy: 0.8827 - val_loss: 0.2391 - val_accuracy: 0.9048\n",
      "Epoch 100/100\n",
      "90/90 [==============================] - 27s 304ms/step - loss: 0.2633 - accuracy: 0.8849 - val_loss: 0.2412 - val_accuracy: 0.8995\n"
     ]
    }
   ],
   "source": [
    "import tensorflow as tf\n",
    "\n",
    "with tf.device('/GPU:0'):\n",
    "    history_callback =  model.fit_generator(\n",
    "        datagen.flow(X_train, y_train, batch_size=batch_size),\n",
    "        epochs=epochs,\n",
    "        validation_data=(X_test, y_test),\n",
    "        workers=4\n",
    "    )"
   ]
  },
  {
   "cell_type": "code",
   "execution_count": 22,
   "metadata": {},
   "outputs": [],
   "source": [
    "loss_history = history_callback.history[\"loss\"]"
   ]
  },
  {
   "cell_type": "code",
   "execution_count": 23,
   "metadata": {},
   "outputs": [
    {
     "data": {
      "image/png": "[encoded data removed]",
      "text/plain": [
       "<Figure size 640x480 with 1 Axes>"
      ]
     },
     "metadata": {},
     "output_type": "display_data"
    }
   ],
   "source": [
    "plt.plot(loss_history)\n",
    "plt.ylabel('Loss')\n",
    "plt.xlabel('Epoch')\n",
    "plt.show()"
   ]
  },
  {
   "cell_type": "markdown",
   "metadata": {},
   "source": [
    "### Смотрим на предсказания"
   ]
  },
  {
   "cell_type": "code",
   "execution_count": 36,
   "metadata": {},
   "outputs": [
    {
     "name": "stdout",
     "output_type": "stream",
     "text": [
      "1/1 [==============================] - 0s 18ms/step\n",
      "[0.0036843 0.9963158]\n",
      "[0. 1.]\n"
     ]
    },
    {
     "data": {
      "image/png": "[encoded data removed]",
      "text/plain": [
       "<Figure size 640x480 with 1 Axes>"
      ]
     },
     "metadata": {},
     "output_type": "display_data"
    }
   ],
   "source": [
    "img_idx = 1000\n",
    "p_age = model.predict(np.array([X_test[img_idx]]))\n",
    "print(p_age[0])\n",
    "print(y_test[img_idx])\n",
    "plt.imshow(X_test[img_idx].reshape(img_cols, img_rows))\n",
    "plt.show()"
   ]
  },
  {
   "cell_type": "markdown",
   "metadata": {},
   "source": [
    "### Сохраняем модель"
   ]
  },
  {
   "cell_type": "code",
   "execution_count": 37,
   "metadata": {},
   "outputs": [
    {
     "name": "stdout",
     "output_type": "stream",
     "text": [
      "Saved model to disk\n"
     ]
    }
   ],
   "source": [
    "model_json = model.to_json()\n",
    "with open(\"gender_model.json\", \"w\") as json_file:\n",
    "    json_file.write(model_json)\n",
    "# serialize weights to HDF5\n",
    "model.save_weights(\"gender_model.h5\")\n",
    "print(\"Saved model to disk\")"
   ]
  },
  {
   "cell_type": "code",
   "execution_count": 38,
   "metadata": {},
   "outputs": [],
   "source": [
    "from tf_keras.models import model_from_json"
   ]
  },
  {
   "cell_type": "code",
   "execution_count": 39,
   "metadata": {},
   "outputs": [
    {
     "data": {
      "text/plain": [
       "'2.18.0'"
      ]
     },
     "execution_count": 39,
     "metadata": {},
     "output_type": "execute_result"
    }
   ],
   "source": [
    "keras.__version__"
   ]
  },
  {
   "cell_type": "markdown",
   "metadata": {},
   "source": [
    "### Загружаем модель"
   ]
  },
  {
   "cell_type": "code",
   "execution_count": 46,
   "metadata": {},
   "outputs": [],
   "source": [
    "# load json and create model\n",
    "json_file = open('gender_model.json', 'r')\n",
    "loaded_model_json = json_file.read()\n",
    "json_file.close()\n",
    "loaded_model = model_from_json(loaded_model_json)"
   ]
  },
  {
   "cell_type": "code",
   "execution_count": 47,
   "metadata": {},
   "outputs": [
    {
     "name": "stdout",
     "output_type": "stream",
     "text": [
      "Loaded model from disk\n"
     ]
    }
   ],
   "source": [
    "# load weights into new model\n",
    "loaded_model.load_weights(\"gender_model.h5\") # type: ignore\n",
    "print(\"Loaded model from disk\")"
   ]
  },
  {
   "cell_type": "code",
   "execution_count": 48,
   "metadata": {},
   "outputs": [
    {
     "name": "stdout",
     "output_type": "stream",
     "text": [
      "1/1 [==============================] - 0s 57ms/step\n",
      "[0.59041077 0.40958926]\n",
      "[0. 1.]\n"
     ]
    },
    {
     "data": {
      "image/png": "[encoded data removed]",
      "text/plain": [
       "<Figure size 640x480 with 1 Axes>"
      ]
     },
     "metadata": {},
     "output_type": "display_data"
    }
   ],
   "source": [
    "img_idx = 1090\n",
    "p_age = loaded_model.predict(np.array([X_test[img_idx]])) # type: ignore\n",
    "print(p_age[0])\n",
    "print(y_test[img_idx])\n",
    "plt.imshow(X_test[img_idx].reshape(img_cols, img_rows))\n",
    "plt.show()"
   ]
  },
  {
   "cell_type": "code",
   "execution_count": null,
   "metadata": {},
   "outputs": [],
   "source": []
  }
 ],
 "metadata": {
  "kernelspec": {
   "display_name": "venv",
   "language": "python",
   "name": "python3"
  },
  "language_info": {
   "codemirror_mode": {
    "name": "ipython",
    "version": 3
   },
   "file_extension": ".py",
   "mimetype": "text/x-python",
   "name": "python",
   "nbconvert_exporter": "python",
   "pygments_lexer": "ipython3",
   "version": "3.12.3"
  },
  "toc": {
   "base_numbering": 1,
   "nav_menu": {
    "height": "12px",
    "width": "252px"
   },
   "number_sections": true,
   "sideBar": true,
   "skip_h1_title": false,
   "title_cell": "Table of Contents",
   "title_sidebar": "Contents",
   "toc_cell": false,
   "toc_position": {},
   "toc_section_display": "block",
   "toc_window_display": false
  }
 },
 "nbformat": 4,
 "nbformat_minor": 2
}
