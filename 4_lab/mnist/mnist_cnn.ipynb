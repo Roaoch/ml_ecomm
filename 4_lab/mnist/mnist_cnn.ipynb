{
 "cells": [
  {
   "cell_type": "code",
   "execution_count": 33,
   "metadata": {},
   "outputs": [],
   "source": [
    "from __future__ import print_function\n",
    "import tf_keras as keras\n",
    "from tf_keras.datasets import mnist\n",
    "from tf_keras.models import Sequential\n",
    "from tf_keras.layers import Dense, Dropout, Flatten\n",
    "from tf_keras.layers import Conv2D, MaxPooling2D\n",
    "from tf_keras import backend as K"
   ]
  },
  {
   "cell_type": "code",
   "execution_count": 2,
   "metadata": {},
   "outputs": [],
   "source": [
    "batch_size = 128\n",
    "num_classes = 10\n",
    "epochs = 12\n",
    "\n",
    "# input image dimensions\n",
    "img_rows, img_cols = 28, 28"
   ]
  },
  {
   "cell_type": "code",
   "execution_count": 3,
   "metadata": {},
   "outputs": [],
   "source": [
    "# the data, split between train and test sets\n",
    "(x_train, y_train), (x_test, y_test) = mnist.load_data()\n",
    "\n",
    "if K.image_data_format() == 'channels_first':\n",
    "    x_train = x_train.reshape(x_train.shape[0], 1, img_rows, img_cols)\n",
    "    x_test = x_test.reshape(x_test.shape[0], 1, img_rows, img_cols)\n",
    "    input_shape = (1, img_rows, img_cols)\n",
    "else:\n",
    "    x_train = x_train.reshape(x_train.shape[0], img_rows, img_cols, 1)\n",
    "    x_test = x_test.reshape(x_test.shape[0], img_rows, img_cols, 1)\n",
    "    input_shape = (img_rows, img_cols, 1)"
   ]
  },
  {
   "cell_type": "code",
   "execution_count": 4,
   "metadata": {},
   "outputs": [
    {
     "name": "stdout",
     "output_type": "stream",
     "text": [
      "x_train shape: (60000, 28, 28, 1)\n",
      "60000 train samples\n",
      "10000 test samples\n"
     ]
    }
   ],
   "source": [
    "x_train = x_train.astype('float32')\n",
    "x_test = x_test.astype('float32')\n",
    "x_train /= 255\n",
    "x_test /= 255\n",
    "print('x_train shape:', x_train.shape)\n",
    "print(x_train.shape[0], 'train samples')\n",
    "print(x_test.shape[0], 'test samples')"
   ]
  },
  {
   "cell_type": "code",
   "execution_count": 5,
   "metadata": {},
   "outputs": [],
   "source": [
    "y_train = keras.utils.to_categorical(y_train, num_classes)\n",
    "y_test = keras.utils.to_categorical(y_test, num_classes)"
   ]
  },
  {
   "cell_type": "markdown",
   "metadata": {},
   "source": [
    "# Original"
   ]
  },
  {
   "cell_type": "code",
   "execution_count": 6,
   "metadata": {},
   "outputs": [
    {
     "name": "stdout",
     "output_type": "stream",
     "text": [
      "WARNING:tensorflow:From d:\\Git Projects\\ml_ecomm\\4_lab\\venv\\Lib\\site-packages\\tf_keras\\src\\backend.py:873: The name tf.get_default_graph is deprecated. Please use tf.compat.v1.get_default_graph instead.\n",
      "\n",
      "WARNING:tensorflow:From d:\\Git Projects\\ml_ecomm\\4_lab\\venv\\Lib\\site-packages\\tf_keras\\src\\layers\\pooling\\max_pooling2d.py:161: The name tf.nn.max_pool is deprecated. Please use tf.nn.max_pool2d instead.\n",
      "\n"
     ]
    }
   ],
   "source": [
    "model = Sequential()\n",
    "model.add(\n",
    "    Conv2D(\n",
    "        32, \n",
    "        kernel_size=(3, 3),\n",
    "        activation='relu',\n",
    "        input_shape=input_shape\n",
    "    )\n",
    ")\n",
    "model.add(Conv2D(64, (3, 3), activation='relu'))\n",
    "model.add(MaxPooling2D(pool_size=(2, 2)))\n",
    "model.add(Dropout(0.25))\n",
    "model.add(Flatten())\n",
    "model.add(Dense(128, activation='relu'))\n",
    "model.add(Dropout(0.5))\n",
    "model.add(Dense(num_classes, activation='softmax'))\n",
    "\n",
    "model.compile(\n",
    "    loss=keras.losses.categorical_crossentropy,\n",
    "    optimizer=keras.optimizers.Adadelta(),\n",
    "    metrics=['accuracy']\n",
    ")"
   ]
  },
  {
   "cell_type": "code",
   "execution_count": 7,
   "metadata": {},
   "outputs": [
    {
     "name": "stdout",
     "output_type": "stream",
     "text": [
      "Epoch 1/12\n",
      "WARNING:tensorflow:From d:\\Git Projects\\ml_ecomm\\4_lab\\venv\\Lib\\site-packages\\tf_keras\\src\\utils\\tf_utils.py:492: The name tf.ragged.RaggedTensorValue is deprecated. Please use tf.compat.v1.ragged.RaggedTensorValue instead.\n",
      "\n",
      "WARNING:tensorflow:From d:\\Git Projects\\ml_ecomm\\4_lab\\venv\\Lib\\site-packages\\tf_keras\\src\\engine\\base_layer_utils.py:384: The name tf.executing_eagerly_outside_functions is deprecated. Please use tf.compat.v1.executing_eagerly_outside_functions instead.\n",
      "\n",
      "469/469 [==============================] - 18s 36ms/step - loss: 2.2769 - accuracy: 0.1707 - val_loss: 2.2306 - val_accuracy: 0.4589\n",
      "Epoch 2/12\n",
      "469/469 [==============================] - 17s 36ms/step - loss: 2.2066 - accuracy: 0.2827 - val_loss: 2.1437 - val_accuracy: 0.5707\n",
      "Epoch 3/12\n",
      "469/469 [==============================] - 17s 36ms/step - loss: 2.1165 - accuracy: 0.3797 - val_loss: 2.0290 - val_accuracy: 0.6367\n",
      "Epoch 4/12\n",
      "469/469 [==============================] - 17s 36ms/step - loss: 1.9983 - accuracy: 0.4536 - val_loss: 1.8789 - val_accuracy: 0.7000\n",
      "Epoch 5/12\n",
      "469/469 [==============================] - 17s 36ms/step - loss: 1.8485 - accuracy: 0.5187 - val_loss: 1.6937 - val_accuracy: 0.7289\n",
      "Epoch 6/12\n",
      "469/469 [==============================] - 17s 36ms/step - loss: 1.6800 - accuracy: 0.5652 - val_loss: 1.4864 - val_accuracy: 0.7561\n",
      "Epoch 7/12\n",
      "469/469 [==============================] - 17s 35ms/step - loss: 1.5053 - accuracy: 0.5992 - val_loss: 1.2841 - val_accuracy: 0.7793\n",
      "Epoch 8/12\n",
      "469/469 [==============================] - 17s 35ms/step - loss: 1.3488 - accuracy: 0.6285 - val_loss: 1.1094 - val_accuracy: 0.7965\n",
      "Epoch 9/12\n",
      "469/469 [==============================] - 17s 36ms/step - loss: 1.2155 - accuracy: 0.6553 - val_loss: 0.9701 - val_accuracy: 0.8096\n",
      "Epoch 10/12\n",
      "469/469 [==============================] - 16s 35ms/step - loss: 1.1108 - accuracy: 0.6766 - val_loss: 0.8618 - val_accuracy: 0.8197\n",
      "Epoch 11/12\n",
      "469/469 [==============================] - 17s 36ms/step - loss: 1.0248 - accuracy: 0.6975 - val_loss: 0.7770 - val_accuracy: 0.8306\n",
      "Epoch 12/12\n",
      "469/469 [==============================] - 16s 35ms/step - loss: 0.9572 - accuracy: 0.7137 - val_loss: 0.7096 - val_accuracy: 0.8413\n",
      "Test loss: 0.7096216082572937\n",
      "Test accuracy: 0.8413000106811523\n"
     ]
    }
   ],
   "source": [
    "model.fit(\n",
    "    x_train, y_train,\n",
    "    batch_size=batch_size,\n",
    "    epochs=epochs,\n",
    "    verbose=1,\n",
    "    validation_data=(x_test, y_test)\n",
    ")\n",
    "score = model.evaluate(x_test, y_test, verbose=0)\n",
    "print('Test loss:', score[0])\n",
    "print('Test accuracy:', score[1])"
   ]
  },
  {
   "cell_type": "markdown",
   "metadata": {},
   "source": [
    "# Student"
   ]
  },
  {
   "cell_type": "code",
   "execution_count": 57,
   "metadata": {},
   "outputs": [],
   "source": [
    "model = Sequential()\n",
    "model.add(\n",
    "    Conv2D(\n",
    "        32, \n",
    "        kernel_size=2,\n",
    "        activation='relu',\n",
    "        input_shape=input_shape\n",
    "    )\n",
    ")\n",
    "model.add(Conv2D(64, 5, activation='relu'))\n",
    "model.add(MaxPooling2D(pool_size=(2, 2)))\n",
    "model.add(Dropout(0.25))\n",
    "model.add(Flatten())\n",
    "model.add(Dense(128, activation='relu'))\n",
    "model.add(Dropout(0.5))\n",
    "model.add(Dense(num_classes, activation='softmax'))\n",
    "\n",
    "model.compile(\n",
    "    loss=keras.losses.categorical_crossentropy,\n",
    "    optimizer=keras.optimizers.Adadelta(),\n",
    "    metrics=['accuracy']\n",
    ")"
   ]
  },
  {
   "cell_type": "code",
   "execution_count": 58,
   "metadata": {},
   "outputs": [
    {
     "name": "stdout",
     "output_type": "stream",
     "text": [
      "Epoch 1/12\n",
      "469/469 [==============================] - 27s 57ms/step - loss: 2.2560 - accuracy: 0.1758 - val_loss: 2.1901 - val_accuracy: 0.4480\n",
      "Epoch 2/12\n",
      "469/469 [==============================] - 27s 57ms/step - loss: 2.1510 - accuracy: 0.3249 - val_loss: 2.0513 - val_accuracy: 0.6097\n",
      "Epoch 3/12\n",
      "469/469 [==============================] - 27s 57ms/step - loss: 2.0091 - accuracy: 0.4395 - val_loss: 1.8649 - val_accuracy: 0.6999\n",
      "Epoch 4/12\n",
      "469/469 [==============================] - 26s 56ms/step - loss: 1.8326 - accuracy: 0.5163 - val_loss: 1.6428 - val_accuracy: 0.7429\n",
      "Epoch 5/12\n",
      "469/469 [==============================] - 27s 57ms/step - loss: 1.6398 - accuracy: 0.5703 - val_loss: 1.4148 - val_accuracy: 0.7717\n",
      "Epoch 6/12\n",
      "469/469 [==============================] - 27s 57ms/step - loss: 1.4567 - accuracy: 0.6093 - val_loss: 1.2098 - val_accuracy: 0.7928\n",
      "Epoch 7/12\n",
      "469/469 [==============================] - 27s 57ms/step - loss: 1.2978 - accuracy: 0.6444 - val_loss: 1.0386 - val_accuracy: 0.8123\n",
      "Epoch 8/12\n",
      "469/469 [==============================] - 26s 56ms/step - loss: 1.1697 - accuracy: 0.6700 - val_loss: 0.9035 - val_accuracy: 0.8257\n",
      "Epoch 9/12\n",
      "469/469 [==============================] - 26s 56ms/step - loss: 1.0727 - accuracy: 0.6892 - val_loss: 0.7994 - val_accuracy: 0.8368\n",
      "Epoch 10/12\n",
      "469/469 [==============================] - 26s 56ms/step - loss: 0.9883 - accuracy: 0.7100 - val_loss: 0.7187 - val_accuracy: 0.8470\n",
      "Epoch 11/12\n",
      "469/469 [==============================] - 26s 56ms/step - loss: 0.9168 - accuracy: 0.7292 - val_loss: 0.6556 - val_accuracy: 0.8538\n",
      "Epoch 12/12\n",
      "469/469 [==============================] - 27s 57ms/step - loss: 0.8660 - accuracy: 0.7405 - val_loss: 0.6067 - val_accuracy: 0.8605\n",
      "Test loss: 0.6067495346069336\n",
      "Test accuracy: 0.8604999780654907\n"
     ]
    }
   ],
   "source": [
    "model.fit(\n",
    "    x_train, y_train,\n",
    "    batch_size=batch_size,\n",
    "    epochs=epochs,\n",
    "    verbose=1,\n",
    "    validation_data=(x_test, y_test)\n",
    ")\n",
    "score = model.evaluate(x_test, y_test, verbose=0)\n",
    "print('Test loss:', score[0])\n",
    "print('Test accuracy:', score[1])"
   ]
  }
 ],
 "metadata": {
  "kernelspec": {
   "display_name": "venv",
   "language": "python",
   "name": "python3"
  },
  "language_info": {
   "codemirror_mode": {
    "name": "ipython",
    "version": 3
   },
   "file_extension": ".py",
   "mimetype": "text/x-python",
   "name": "python",
   "nbconvert_exporter": "python",
   "pygments_lexer": "ipython3",
   "version": "3.12.3"
  },
  "toc": {
   "base_numbering": 1,
   "nav_menu": {},
   "number_sections": true,
   "sideBar": true,
   "skip_h1_title": false,
   "title_cell": "Table of Contents",
   "title_sidebar": "Contents",
   "toc_cell": false,
   "toc_position": {},
   "toc_section_display": true,
   "toc_window_display": false
  }
 },
 "nbformat": 4,
 "nbformat_minor": 2
}
