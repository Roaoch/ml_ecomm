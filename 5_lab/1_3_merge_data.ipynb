{
 "cells": [
  {
   "cell_type": "markdown",
   "metadata": {},
   "source": [
    "В этом ноутбуке я собираю данные из трех датасетов в один"
   ]
  },
  {
   "cell_type": "code",
   "execution_count": 1,
   "metadata": {},
   "outputs": [],
   "source": [
    "import pandas as pd\n",
    "from datasets import Dataset"
   ]
  },
  {
   "cell_type": "markdown",
   "metadata": {},
   "source": [
    "# Concat Data"
   ]
  },
  {
   "cell_type": "markdown",
   "metadata": {},
   "source": [
    "Так как тексты от отзывов и вопросов, для решаемой задачи, в общем-то имеют одинаковую природу, эти два датасета просто соединяю между собой, добавля метку responder - бинарный признак со значениями 'Клиент' или 'Магазин', указывающий на истончик записи"
   ]
  },
  {
   "cell_type": "code",
   "execution_count": 2,
   "metadata": {},
   "outputs": [
    {
     "data": {
      "text/html": [
       "<div>\n",
       "<style scoped>\n",
       "    .dataframe tbody tr th:only-of-type {\n",
       "        vertical-align: middle;\n",
       "    }\n",
       "\n",
       "    .dataframe tbody tr th {\n",
       "        vertical-align: top;\n",
       "    }\n",
       "\n",
       "    .dataframe thead th {\n",
       "        text-align: right;\n",
       "    }\n",
       "</style>\n",
       "<table border=\"1\" class=\"dataframe\">\n",
       "  <thead>\n",
       "    <tr style=\"text-align: right;\">\n",
       "      <th></th>\n",
       "      <th>nmId</th>\n",
       "      <th>text</th>\n",
       "      <th>answer</th>\n",
       "    </tr>\n",
       "  </thead>\n",
       "  <tbody>\n",
       "    <tr>\n",
       "      <th>0</th>\n",
       "      <td>0</td>\n",
       "      <td>25.07.21 получил данный товар. Упаковка была н...</td>\n",
       "      <td></td>\n",
       "    </tr>\n",
       "    <tr>\n",
       "      <th>1</th>\n",
       "      <td>0</td>\n",
       "      <td>4 раза покупала пасту этой фирмы на подарки, и...</td>\n",
       "      <td>Видимо потому, что с ростом заказов в онлайне ...</td>\n",
       "    </tr>\n",
       "    <tr>\n",
       "      <th>2</th>\n",
       "      <td>0</td>\n",
       "      <td>Банка, как и у многих, пришла разбитая. К сожа...</td>\n",
       "      <td>Алексей, добрый день! Жаль, что баночка была п...</td>\n",
       "    </tr>\n",
       "    <tr>\n",
       "      <th>3</th>\n",
       "      <td>0</td>\n",
       "      <td>В наш город перестали завозить этот корм, а ко...</td>\n",
       "      <td></td>\n",
       "    </tr>\n",
       "    <tr>\n",
       "      <th>4</th>\n",
       "      <td>0</td>\n",
       "      <td>Вместо льняного семя прислали ореховую пасту и...</td>\n",
       "      <td>Добрый день. Мы абсолютно с Вами согласны, под...</td>\n",
       "    </tr>\n",
       "    <tr>\n",
       "      <th>...</th>\n",
       "      <td>...</td>\n",
       "      <td>...</td>\n",
       "      <td>...</td>\n",
       "    </tr>\n",
       "    <tr>\n",
       "      <th>8270798</th>\n",
       "      <td>9997980</td>\n",
       "      <td>Неплохое платье. На фигуру грушу не очень село...</td>\n",
       "      <td></td>\n",
       "    </tr>\n",
       "    <tr>\n",
       "      <th>8270799</th>\n",
       "      <td>99981867</td>\n",
       "      <td>Ботинки классные, но пришлось отказаться, так ...</td>\n",
       "      <td>Добрый день! Благодарим вас за заказ и высокую...</td>\n",
       "    </tr>\n",
       "    <tr>\n",
       "      <th>8270800</th>\n",
       "      <td>9998234</td>\n",
       "      <td>Беру уже второе такое) очень нравится качество...</td>\n",
       "      <td>Добрый день!\\n\\nСпасибо Вам за отзыв и обратну...</td>\n",
       "    </tr>\n",
       "    <tr>\n",
       "      <th>8270801</th>\n",
       "      <td>9998234</td>\n",
       "      <td>Покрывало симпатичное, покупаю вашу фирму не в...</td>\n",
       "      <td>Добрый день!\\nСпасибо Вам за отзыв и обратную ...</td>\n",
       "    </tr>\n",
       "    <tr>\n",
       "      <th>8270802</th>\n",
       "      <td>99983471</td>\n",
       "      <td>Товар сильно отличается от фото, пистолет держ...</td>\n",
       "      <td>Спасибо за отзыв! Мы рады что данный товар вам...</td>\n",
       "    </tr>\n",
       "  </tbody>\n",
       "</table>\n",
       "<p>8270803 rows × 3 columns</p>\n",
       "</div>"
      ],
      "text/plain": [
       "             nmId                                               text  \\\n",
       "0               0  25.07.21 получил данный товар. Упаковка была н...   \n",
       "1               0  4 раза покупала пасту этой фирмы на подарки, и...   \n",
       "2               0  Банка, как и у многих, пришла разбитая. К сожа...   \n",
       "3               0  В наш город перестали завозить этот корм, а ко...   \n",
       "4               0  Вместо льняного семя прислали ореховую пасту и...   \n",
       "...           ...                                                ...   \n",
       "8270798   9997980  Неплохое платье. На фигуру грушу не очень село...   \n",
       "8270799  99981867  Ботинки классные, но пришлось отказаться, так ...   \n",
       "8270800   9998234  Беру уже второе такое) очень нравится качество...   \n",
       "8270801   9998234  Покрывало симпатичное, покупаю вашу фирму не в...   \n",
       "8270802  99983471  Товар сильно отличается от фото, пистолет держ...   \n",
       "\n",
       "                                                    answer  \n",
       "0                                                           \n",
       "1        Видимо потому, что с ростом заказов в онлайне ...  \n",
       "2        Алексей, добрый день! Жаль, что баночка была п...  \n",
       "3                                                           \n",
       "4        Добрый день. Мы абсолютно с Вами согласны, под...  \n",
       "...                                                    ...  \n",
       "8270798                                                     \n",
       "8270799  Добрый день! Благодарим вас за заказ и высокую...  \n",
       "8270800  Добрый день!\\n\\nСпасибо Вам за отзыв и обратну...  \n",
       "8270801  Добрый день!\\nСпасибо Вам за отзыв и обратную ...  \n",
       "8270802  Спасибо за отзыв! Мы рады что данный товар вам...  \n",
       "\n",
       "[8270803 rows x 3 columns]"
      ]
     },
     "execution_count": 2,
     "metadata": {},
     "output_type": "execute_result"
    }
   ],
   "source": [
    "feedback_df = pd.read_parquet('__input__/clean_feedback.parquet')\n",
    "\n",
    "feedback_df"
   ]
  },
  {
   "cell_type": "code",
   "execution_count": 3,
   "metadata": {},
   "outputs": [
    {
     "data": {
      "text/html": [
       "<div>\n",
       "<style scoped>\n",
       "    .dataframe tbody tr th:only-of-type {\n",
       "        vertical-align: middle;\n",
       "    }\n",
       "\n",
       "    .dataframe tbody tr th {\n",
       "        vertical-align: top;\n",
       "    }\n",
       "\n",
       "    .dataframe thead th {\n",
       "        text-align: right;\n",
       "    }\n",
       "</style>\n",
       "<table border=\"1\" class=\"dataframe\">\n",
       "  <thead>\n",
       "    <tr style=\"text-align: right;\">\n",
       "      <th></th>\n",
       "      <th>nmId</th>\n",
       "      <th>question</th>\n",
       "      <th>answer</th>\n",
       "    </tr>\n",
       "  </thead>\n",
       "  <tbody>\n",
       "    <tr>\n",
       "      <th>0</th>\n",
       "      <td>1001205</td>\n",
       "      <td>Здравствуйте! А вес рюкзака подскажите,пожалуй...</td>\n",
       "      <td>Здравствуйте. Вес рюкзака 1080 гр.</td>\n",
       "    </tr>\n",
       "    <tr>\n",
       "      <th>1</th>\n",
       "      <td>1001205</td>\n",
       "      <td>Подскажи пожалуйста дно мягкое или твердое?</td>\n",
       "      <td>Здравствуйте!Дно уплотненно..</td>\n",
       "    </tr>\n",
       "    <tr>\n",
       "      <th>2</th>\n",
       "      <td>1001213</td>\n",
       "      <td>Здравствуйте! Какое у него дно? Может ли стоя...</td>\n",
       "      <td>Здравствуйте!Дно рюкзака уплотнено.Вес рюкзака...</td>\n",
       "    </tr>\n",
       "    <tr>\n",
       "      <th>3</th>\n",
       "      <td>1002463</td>\n",
       "      <td>Здравствуйте, а перчатки кожа или кож.зам?</td>\n",
       "      <td>Добрый день.синтетическая кожа</td>\n",
       "    </tr>\n",
       "    <tr>\n",
       "      <th>4</th>\n",
       "      <td>1002467</td>\n",
       "      <td>Здравствуйте. Хотела бы уточнить когда у вас ...</td>\n",
       "      <td>Здравствуйте. По поступлению данной модели нет...</td>\n",
       "    </tr>\n",
       "    <tr>\n",
       "      <th>...</th>\n",
       "      <td>...</td>\n",
       "      <td>...</td>\n",
       "      <td>...</td>\n",
       "    </tr>\n",
       "    <tr>\n",
       "      <th>5494101</th>\n",
       "      <td>1178615</td>\n",
       "      <td>Здравствуйте, а можно ли узнать артикул этого ...</td>\n",
       "      <td>Здравствуйте, данная модель является реквизито...</td>\n",
       "    </tr>\n",
       "    <tr>\n",
       "      <th>5494102</th>\n",
       "      <td>1178625</td>\n",
       "      <td>Здравствуйте! Будет ли поступление этого товар...</td>\n",
       "      <td>Здравствуйте, к сожалению, поступления данной ...</td>\n",
       "    </tr>\n",
       "    <tr>\n",
       "      <th>5494103</th>\n",
       "      <td>1178626</td>\n",
       "      <td>Здравствуйте! А пуговки не идут в комплекте до...</td>\n",
       "      <td>Здравствуйте.  К сожалению, ответить на Ваш во...</td>\n",
       "    </tr>\n",
       "    <tr>\n",
       "      <th>5494104</th>\n",
       "      <td>1178626</td>\n",
       "      <td>здравствуйте! ожидается ли поступление товара ...</td>\n",
       "      <td>Здравствуйте, к сожалению, поступлений данной ...</td>\n",
       "    </tr>\n",
       "    <tr>\n",
       "      <th>5494105</th>\n",
       "      <td>1178631</td>\n",
       "      <td>Поясните, на российский 44 р. точно 42 подойде...</td>\n",
       "      <td>Здравствуйте.К сожалению, мы не можем проверит...</td>\n",
       "    </tr>\n",
       "  </tbody>\n",
       "</table>\n",
       "<p>5494106 rows × 3 columns</p>\n",
       "</div>"
      ],
      "text/plain": [
       "            nmId                                           question  \\\n",
       "0        1001205  Здравствуйте! А вес рюкзака подскажите,пожалуй...   \n",
       "1        1001205        Подскажи пожалуйста дно мягкое или твердое?   \n",
       "2        1001213   Здравствуйте! Какое у него дно? Может ли стоя...   \n",
       "3        1002463         Здравствуйте, а перчатки кожа или кож.зам?   \n",
       "4        1002467   Здравствуйте. Хотела бы уточнить когда у вас ...   \n",
       "...          ...                                                ...   \n",
       "5494101  1178615  Здравствуйте, а можно ли узнать артикул этого ...   \n",
       "5494102  1178625  Здравствуйте! Будет ли поступление этого товар...   \n",
       "5494103  1178626  Здравствуйте! А пуговки не идут в комплекте до...   \n",
       "5494104  1178626  здравствуйте! ожидается ли поступление товара ...   \n",
       "5494105  1178631  Поясните, на российский 44 р. точно 42 подойде...   \n",
       "\n",
       "                                                    answer  \n",
       "0                       Здравствуйте. Вес рюкзака 1080 гр.  \n",
       "1                            Здравствуйте!Дно уплотненно..  \n",
       "2        Здравствуйте!Дно рюкзака уплотнено.Вес рюкзака...  \n",
       "3                           Добрый день.синтетическая кожа  \n",
       "4        Здравствуйте. По поступлению данной модели нет...  \n",
       "...                                                    ...  \n",
       "5494101  Здравствуйте, данная модель является реквизито...  \n",
       "5494102  Здравствуйте, к сожалению, поступления данной ...  \n",
       "5494103  Здравствуйте.  К сожалению, ответить на Ваш во...  \n",
       "5494104  Здравствуйте, к сожалению, поступлений данной ...  \n",
       "5494105  Здравствуйте.К сожалению, мы не можем проверит...  \n",
       "\n",
       "[5494106 rows x 3 columns]"
      ]
     },
     "execution_count": 3,
     "metadata": {},
     "output_type": "execute_result"
    }
   ],
   "source": [
    "question_df = pd.read_parquet('__input__/clean_questions.parquet')\n",
    "\n",
    "question_df"
   ]
  },
  {
   "cell_type": "markdown",
   "metadata": {},
   "source": [
    "Из-за того, что у меня в данный момент не ресурсов обработать такой датасет, было принято решение случайным образом выбрать 1 млн записей"
   ]
  },
  {
   "cell_type": "code",
   "execution_count": 4,
   "metadata": {},
   "outputs": [],
   "source": [
    "feedback_df = feedback_df.sample(500000)\n",
    "question_df = question_df.sample(500000)"
   ]
  },
  {
   "cell_type": "markdown",
   "metadata": {},
   "source": [
    "Данные планируется привести сначала к схеме:\n",
    "* nmId (int64) - Id продукта\n",
    "* text (string) - Текст вопроса/отзыва клиента или магазина\n",
    "* type (class: {Вопрос, Отзыв}) - Текст принадлежит датасету вопросов или отзывов\n",
    "* responder (class: {Клиент, Магазин}) - Оставил ли текст Клиент или это ответ магазина"
   ]
  },
  {
   "cell_type": "code",
   "execution_count": 5,
   "metadata": {},
   "outputs": [],
   "source": [
    "def split_qa(df: pd.DataFrame) -> pd.DataFrame:\n",
    "    df = df.rename({\n",
    "        'question': 'text'\n",
    "    }, axis=1)\n",
    "\n",
    "    q_df = df[[\n",
    "        'nmId',\n",
    "        'text'\n",
    "    ]].dropna().drop_duplicates()\n",
    "    a_df = df[[\n",
    "        'nmId',\n",
    "        'answer'\n",
    "    ]].dropna().drop_duplicates()\n",
    "\n",
    "    a_df = a_df.rename({\n",
    "        'answer': 'text'\n",
    "    }, axis=1)\n",
    "\n",
    "    q_df['responder'] = 'Клиент'\n",
    "    a_df['responder'] = 'Магазин'\n",
    "\n",
    "    return pd.concat([\n",
    "        q_df,\n",
    "        a_df\n",
    "    ])"
   ]
  },
  {
   "cell_type": "code",
   "execution_count": 6,
   "metadata": {},
   "outputs": [],
   "source": [
    "feedback_df = split_qa(feedback_df)"
   ]
  },
  {
   "cell_type": "code",
   "execution_count": 7,
   "metadata": {},
   "outputs": [],
   "source": [
    "question_df = split_qa(question_df)"
   ]
  },
  {
   "cell_type": "code",
   "execution_count": 8,
   "metadata": {},
   "outputs": [],
   "source": [
    "feedback_df['type'] = 'Отзыв'\n",
    "question_df['type'] = 'Вопрос'"
   ]
  },
  {
   "cell_type": "code",
   "execution_count": 9,
   "metadata": {},
   "outputs": [
    {
     "data": {
      "text/html": [
       "<div>\n",
       "<style scoped>\n",
       "    .dataframe tbody tr th:only-of-type {\n",
       "        vertical-align: middle;\n",
       "    }\n",
       "\n",
       "    .dataframe tbody tr th {\n",
       "        vertical-align: top;\n",
       "    }\n",
       "\n",
       "    .dataframe thead th {\n",
       "        text-align: right;\n",
       "    }\n",
       "</style>\n",
       "<table border=\"1\" class=\"dataframe\">\n",
       "  <thead>\n",
       "    <tr style=\"text-align: right;\">\n",
       "      <th></th>\n",
       "      <th>nmId</th>\n",
       "      <th>text</th>\n",
       "      <th>responder</th>\n",
       "      <th>type</th>\n",
       "    </tr>\n",
       "  </thead>\n",
       "  <tbody>\n",
       "    <tr>\n",
       "      <th>7715824</th>\n",
       "      <td>168406783</td>\n",
       "      <td>Заказывала пенку с алое вера для проблемной ко...</td>\n",
       "      <td>Клиент</td>\n",
       "      <td>Отзыв</td>\n",
       "    </tr>\n",
       "    <tr>\n",
       "      <th>1516882</th>\n",
       "      <td>3767664</td>\n",
       "      <td>Стильный пиджачок! Хлопок, тонкий.  На бирке н...</td>\n",
       "      <td>Клиент</td>\n",
       "      <td>Отзыв</td>\n",
       "    </tr>\n",
       "    <tr>\n",
       "      <th>4732095</th>\n",
       "      <td>42589420</td>\n",
       "      <td>На свой 56 перезаказала 58 размер, вот он подо...</td>\n",
       "      <td>Клиент</td>\n",
       "      <td>Отзыв</td>\n",
       "    </tr>\n",
       "    <tr>\n",
       "      <th>125535</th>\n",
       "      <td>10513374</td>\n",
       "      <td>Ручка красивая, крупная, смотрится хорошо и за...</td>\n",
       "      <td>Клиент</td>\n",
       "      <td>Отзыв</td>\n",
       "    </tr>\n",
       "    <tr>\n",
       "      <th>6041942</th>\n",
       "      <td>100287701</td>\n",
       "      <td>Пришла водолазка с браком. Наверное шили её сл...</td>\n",
       "      <td>Клиент</td>\n",
       "      <td>Отзыв</td>\n",
       "    </tr>\n",
       "    <tr>\n",
       "      <th>...</th>\n",
       "      <td>...</td>\n",
       "      <td>...</td>\n",
       "      <td>...</td>\n",
       "      <td>...</td>\n",
       "    </tr>\n",
       "    <tr>\n",
       "      <th>1237489</th>\n",
       "      <td>3706159</td>\n",
       "      <td>Добрый день!Длина стельки 26,5 см.</td>\n",
       "      <td>Магазин</td>\n",
       "      <td>Вопрос</td>\n",
       "    </tr>\n",
       "    <tr>\n",
       "      <th>4924538</th>\n",
       "      <td>8132501</td>\n",
       "      <td>Здравствуйте! Поставщик в праве сам регулирова...</td>\n",
       "      <td>Магазин</td>\n",
       "      <td>Вопрос</td>\n",
       "    </tr>\n",
       "    <tr>\n",
       "      <th>866208</th>\n",
       "      <td>3073284</td>\n",
       "      <td>Доброе утро! Вероятно Вам пришел брак. Спасибо...</td>\n",
       "      <td>Магазин</td>\n",
       "      <td>Вопрос</td>\n",
       "    </tr>\n",
       "    <tr>\n",
       "      <th>1569776</th>\n",
       "      <td>4264147</td>\n",
       "      <td>Добрый день! \\n\\nАрт. 4264148</td>\n",
       "      <td>Магазин</td>\n",
       "      <td>Вопрос</td>\n",
       "    </tr>\n",
       "    <tr>\n",
       "      <th>2892190</th>\n",
       "      <td>6101877</td>\n",
       "      <td>Добрый день! Данный артикул идет в продаже без...</td>\n",
       "      <td>Магазин</td>\n",
       "      <td>Вопрос</td>\n",
       "    </tr>\n",
       "  </tbody>\n",
       "</table>\n",
       "<p>1966075 rows × 4 columns</p>\n",
       "</div>"
      ],
      "text/plain": [
       "              nmId                                               text  \\\n",
       "7715824  168406783  Заказывала пенку с алое вера для проблемной ко...   \n",
       "1516882    3767664  Стильный пиджачок! Хлопок, тонкий.  На бирке н...   \n",
       "4732095   42589420  На свой 56 перезаказала 58 размер, вот он подо...   \n",
       "125535    10513374  Ручка красивая, крупная, смотрится хорошо и за...   \n",
       "6041942  100287701  Пришла водолазка с браком. Наверное шили её сл...   \n",
       "...            ...                                                ...   \n",
       "1237489    3706159                 Добрый день!Длина стельки 26,5 см.   \n",
       "4924538    8132501  Здравствуйте! Поставщик в праве сам регулирова...   \n",
       "866208     3073284  Доброе утро! Вероятно Вам пришел брак. Спасибо...   \n",
       "1569776    4264147                      Добрый день! \\n\\nАрт. 4264148   \n",
       "2892190    6101877  Добрый день! Данный артикул идет в продаже без...   \n",
       "\n",
       "        responder    type  \n",
       "7715824    Клиент   Отзыв  \n",
       "1516882    Клиент   Отзыв  \n",
       "4732095    Клиент   Отзыв  \n",
       "125535     Клиент   Отзыв  \n",
       "6041942    Клиент   Отзыв  \n",
       "...           ...     ...  \n",
       "1237489   Магазин  Вопрос  \n",
       "4924538   Магазин  Вопрос  \n",
       "866208    Магазин  Вопрос  \n",
       "1569776   Магазин  Вопрос  \n",
       "2892190   Магазин  Вопрос  \n",
       "\n",
       "[1966075 rows x 4 columns]"
      ]
     },
     "execution_count": 9,
     "metadata": {},
     "output_type": "execute_result"
    }
   ],
   "source": [
    "all_df = pd.concat([\n",
    "    feedback_df,\n",
    "    question_df\n",
    "])\n",
    "\n",
    "all_df"
   ]
  },
  {
   "cell_type": "code",
   "execution_count": 10,
   "metadata": {},
   "outputs": [],
   "source": [
    "del feedback_df\n",
    "del question_df"
   ]
  },
  {
   "cell_type": "markdown",
   "metadata": {},
   "source": [
    "# Обогащение данных"
   ]
  },
  {
   "cell_type": "markdown",
   "metadata": {},
   "source": [
    "Теперь мы можем обогатить наши тексты информацией по продукту, к которому они оставлены"
   ]
  },
  {
   "cell_type": "code",
   "execution_count": 11,
   "metadata": {},
   "outputs": [
    {
     "data": {
      "text/html": [
       "<div>\n",
       "<style scoped>\n",
       "    .dataframe tbody tr th:only-of-type {\n",
       "        vertical-align: middle;\n",
       "    }\n",
       "\n",
       "    .dataframe tbody tr th {\n",
       "        vertical-align: top;\n",
       "    }\n",
       "\n",
       "    .dataframe thead th {\n",
       "        text-align: right;\n",
       "    }\n",
       "</style>\n",
       "<table border=\"1\" class=\"dataframe\">\n",
       "  <thead>\n",
       "    <tr style=\"text-align: right;\">\n",
       "      <th></th>\n",
       "      <th>nmId</th>\n",
       "      <th>product_name</th>\n",
       "      <th>product_category_2</th>\n",
       "      <th>product_category_1</th>\n",
       "      <th>product_color</th>\n",
       "      <th>product_description</th>\n",
       "      <th>product_brand</th>\n",
       "    </tr>\n",
       "  </thead>\n",
       "  <tbody>\n",
       "    <tr>\n",
       "      <th>0</th>\n",
       "      <td>13349977</td>\n",
       "      <td>Очки TRUESPIN Candor Art</td>\n",
       "      <td>Солнцезащитные очки</td>\n",
       "      <td>Аксессуары</td>\n",
       "      <td>белый</td>\n",
       "      <td></td>\n",
       "      <td>True Spin</td>\n",
       "    </tr>\n",
       "    <tr>\n",
       "      <th>1</th>\n",
       "      <td>13350015</td>\n",
       "      <td>Капри</td>\n",
       "      <td>Капри</td>\n",
       "      <td>Одежда</td>\n",
       "      <td>белый</td>\n",
       "      <td></td>\n",
       "      <td>LAFEI-NIER</td>\n",
       "    </tr>\n",
       "    <tr>\n",
       "      <th>2</th>\n",
       "      <td>13350016</td>\n",
       "      <td>Джинсы</td>\n",
       "      <td>Джинсы</td>\n",
       "      <td>Одежда</td>\n",
       "      <td>голубой</td>\n",
       "      <td></td>\n",
       "      <td>LAFEI-NIER</td>\n",
       "    </tr>\n",
       "    <tr>\n",
       "      <th>3</th>\n",
       "      <td>13350019</td>\n",
       "      <td>Топ</td>\n",
       "      <td>Топы</td>\n",
       "      <td>Одежда</td>\n",
       "      <td>бежевый</td>\n",
       "      <td></td>\n",
       "      <td>LAFEI-NIER</td>\n",
       "    </tr>\n",
       "    <tr>\n",
       "      <th>4</th>\n",
       "      <td>13350027</td>\n",
       "      <td>Жакет/приталенный /большие размеры</td>\n",
       "      <td>Жакеты</td>\n",
       "      <td>Одежда</td>\n",
       "      <td>голубой</td>\n",
       "      <td>Классический приталенный пиджак из стрейч ткан...</td>\n",
       "      <td>LAFEI-NIER</td>\n",
       "    </tr>\n",
       "  </tbody>\n",
       "</table>\n",
       "</div>"
      ],
      "text/plain": [
       "       nmId                        product_name   product_category_2  \\\n",
       "0  13349977            Очки TRUESPIN Candor Art  Солнцезащитные очки   \n",
       "1  13350015                               Капри                Капри   \n",
       "2  13350016                              Джинсы               Джинсы   \n",
       "3  13350019                                 Топ                 Топы   \n",
       "4  13350027  Жакет/приталенный /большие размеры               Жакеты   \n",
       "\n",
       "  product_category_1 product_color  \\\n",
       "0         Аксессуары         белый   \n",
       "1             Одежда         белый   \n",
       "2             Одежда       голубой   \n",
       "3             Одежда       бежевый   \n",
       "4             Одежда       голубой   \n",
       "\n",
       "                                 product_description product_brand  \n",
       "0                                                        True Spin  \n",
       "1                                                       LAFEI-NIER  \n",
       "2                                                       LAFEI-NIER  \n",
       "3                                                       LAFEI-NIER  \n",
       "4  Классический приталенный пиджак из стрейч ткан...    LAFEI-NIER  "
      ]
     },
     "execution_count": 11,
     "metadata": {},
     "output_type": "execute_result"
    }
   ],
   "source": [
    "products_df = pd.read_parquet(\n",
    "    './__input__/clean_products.parquet',\n",
    "    columns=[\n",
    "        'nm_id',\n",
    "        'imt_name',\n",
    "        'subj_name',\n",
    "        'subj_root_name',\n",
    "        'nm_colors_names',\n",
    "        'description',\n",
    "        'brand_name'\n",
    "    ]\n",
    ")\n",
    "\n",
    "products_df = products_df.rename({\n",
    "    'nm_id': 'nmId',\n",
    "    'imt_name': 'product_name',\n",
    "    'subj_name': 'product_category_2',\n",
    "    'subj_root_name': 'product_category_1',\n",
    "    'nm_colors_names': 'product_color',\n",
    "    'description': 'product_description',\n",
    "    'brand_name': 'product_brand',\n",
    "}, axis=1)\n",
    "\n",
    "products_df.head()"
   ]
  },
  {
   "cell_type": "code",
   "execution_count": 12,
   "metadata": {},
   "outputs": [
    {
     "data": {
      "text/html": [
       "<div>\n",
       "<style scoped>\n",
       "    .dataframe tbody tr th:only-of-type {\n",
       "        vertical-align: middle;\n",
       "    }\n",
       "\n",
       "    .dataframe tbody tr th {\n",
       "        vertical-align: top;\n",
       "    }\n",
       "\n",
       "    .dataframe thead th {\n",
       "        text-align: right;\n",
       "    }\n",
       "</style>\n",
       "<table border=\"1\" class=\"dataframe\">\n",
       "  <thead>\n",
       "    <tr style=\"text-align: right;\">\n",
       "      <th></th>\n",
       "      <th>nmId</th>\n",
       "      <th>text</th>\n",
       "      <th>responder</th>\n",
       "      <th>type</th>\n",
       "      <th>product_name</th>\n",
       "      <th>product_category_2</th>\n",
       "      <th>product_category_1</th>\n",
       "      <th>product_color</th>\n",
       "      <th>product_description</th>\n",
       "      <th>product_brand</th>\n",
       "    </tr>\n",
       "  </thead>\n",
       "  <tbody>\n",
       "    <tr>\n",
       "      <th>0</th>\n",
       "      <td>168406783</td>\n",
       "      <td>Заказывала пенку с алое вера для проблемной ко...</td>\n",
       "      <td>Клиент</td>\n",
       "      <td>Отзыв</td>\n",
       "      <td>NaN</td>\n",
       "      <td>NaN</td>\n",
       "      <td>NaN</td>\n",
       "      <td>NaN</td>\n",
       "      <td>NaN</td>\n",
       "      <td>NaN</td>\n",
       "    </tr>\n",
       "    <tr>\n",
       "      <th>1</th>\n",
       "      <td>3767664</td>\n",
       "      <td>Стильный пиджачок! Хлопок, тонкий.  На бирке н...</td>\n",
       "      <td>Клиент</td>\n",
       "      <td>Отзыв</td>\n",
       "      <td>Пиджак</td>\n",
       "      <td>Пиджаки</td>\n",
       "      <td>Одежда</td>\n",
       "      <td>синий</td>\n",
       "      <td></td>\n",
       "      <td>Sisley Young</td>\n",
       "    </tr>\n",
       "    <tr>\n",
       "      <th>2</th>\n",
       "      <td>42589420</td>\n",
       "      <td>На свой 56 перезаказала 58 размер, вот он подо...</td>\n",
       "      <td>Клиент</td>\n",
       "      <td>Отзыв</td>\n",
       "      <td>Платье для дома</td>\n",
       "      <td>Платья</td>\n",
       "      <td>Одежда</td>\n",
       "      <td>синий, желтый, белый, голубой</td>\n",
       "      <td>Платье повседневное домашнее хлопковое большие...</td>\n",
       "      <td>Милослава</td>\n",
       "    </tr>\n",
       "    <tr>\n",
       "      <th>3</th>\n",
       "      <td>10513374</td>\n",
       "      <td>Ручка красивая, крупная, смотрится хорошо и за...</td>\n",
       "      <td>Клиент</td>\n",
       "      <td>Отзыв</td>\n",
       "      <td>Ручка керамическая для мебели \"Ливанский узор\"...</td>\n",
       "      <td>Ручки мебельные</td>\n",
       "      <td>Мебель</td>\n",
       "      <td></td>\n",
       "      <td>Самая обычная мебель с непритязательным дизайн...</td>\n",
       "      <td>BlumenHaus</td>\n",
       "    </tr>\n",
       "    <tr>\n",
       "      <th>4</th>\n",
       "      <td>100287701</td>\n",
       "      <td>Пришла водолазка с браком. Наверное шили её сл...</td>\n",
       "      <td>Клиент</td>\n",
       "      <td>Отзыв</td>\n",
       "      <td>Базовая водолазка с горлом</td>\n",
       "      <td>Водолазки</td>\n",
       "      <td>Одежда</td>\n",
       "      <td>черный</td>\n",
       "      <td>Водолазка  женская  – модный и универсальный э...</td>\n",
       "      <td>PUSTOVETOVAAV</td>\n",
       "    </tr>\n",
       "  </tbody>\n",
       "</table>\n",
       "</div>"
      ],
      "text/plain": [
       "        nmId                                               text responder  \\\n",
       "0  168406783  Заказывала пенку с алое вера для проблемной ко...    Клиент   \n",
       "1    3767664  Стильный пиджачок! Хлопок, тонкий.  На бирке н...    Клиент   \n",
       "2   42589420  На свой 56 перезаказала 58 размер, вот он подо...    Клиент   \n",
       "3   10513374  Ручка красивая, крупная, смотрится хорошо и за...    Клиент   \n",
       "4  100287701  Пришла водолазка с браком. Наверное шили её сл...    Клиент   \n",
       "\n",
       "    type                                       product_name  \\\n",
       "0  Отзыв                                                NaN   \n",
       "1  Отзыв                                             Пиджак   \n",
       "2  Отзыв                                    Платье для дома   \n",
       "3  Отзыв  Ручка керамическая для мебели \"Ливанский узор\"...   \n",
       "4  Отзыв                         Базовая водолазка с горлом   \n",
       "\n",
       "  product_category_2 product_category_1                  product_color  \\\n",
       "0                NaN                NaN                            NaN   \n",
       "1            Пиджаки             Одежда                          синий   \n",
       "2             Платья             Одежда  синий, желтый, белый, голубой   \n",
       "3    Ручки мебельные             Мебель                                  \n",
       "4          Водолазки             Одежда                         черный   \n",
       "\n",
       "                                 product_description  product_brand  \n",
       "0                                                NaN            NaN  \n",
       "1                                                      Sisley Young  \n",
       "2  Платье повседневное домашнее хлопковое большие...      Милослава  \n",
       "3  Самая обычная мебель с непритязательным дизайн...     BlumenHaus  \n",
       "4  Водолазка  женская  – модный и универсальный э...  PUSTOVETOVAAV  "
      ]
     },
     "execution_count": 12,
     "metadata": {},
     "output_type": "execute_result"
    }
   ],
   "source": [
    "all_df = all_df.merge(products_df, on='nmId', how='left')\n",
    "\n",
    "all_df.head()"
   ]
  },
  {
   "cell_type": "markdown",
   "metadata": {},
   "source": [
    "Процент ненайденный nmId в продуктах"
   ]
  },
  {
   "cell_type": "code",
   "execution_count": 17,
   "metadata": {},
   "outputs": [
    {
     "name": "stdout",
     "output_type": "stream",
     "text": [
      "2.670211%\n"
     ]
    }
   ],
   "source": [
    "print(f'{len(all_df[all_df['product_brand'].isna()]) / len(all_df):%}')"
   ]
  },
  {
   "cell_type": "code",
   "execution_count": 18,
   "metadata": {},
   "outputs": [],
   "source": [
    "all_df = all_df.dropna(subset=['product_brand'])\n",
    "\n",
    "all_df.to_parquet('./__input__/dataset.parquet')"
   ]
  },
  {
   "cell_type": "markdown",
   "metadata": {},
   "source": [
    "# Сохраняю итоговый на HF"
   ]
  },
  {
   "cell_type": "code",
   "execution_count": 3,
   "metadata": {},
   "outputs": [
    {
     "data": {
      "application/vnd.jupyter.widget-view+json": {
       "model_id": "1369d3b4fd5e4792a55a5f724fc8c827",
       "version_major": 2,
       "version_minor": 0
      },
      "text/plain": [
       "Generating train split: 0 examples [00:00, ? examples/s]"
      ]
     },
     "metadata": {},
     "output_type": "display_data"
    },
    {
     "data": {
      "text/plain": [
       "DatasetDict({\n",
       "    train: Dataset({\n",
       "        features: ['nmId', 'text', 'responder', 'type', 'product_name', 'product_category_2', 'product_category_1', 'product_color', 'product_description', 'product_brand', '__index_level_0__'],\n",
       "        num_rows: 1435746\n",
       "    })\n",
       "    test: Dataset({\n",
       "        features: ['nmId', 'text', 'responder', 'type', 'product_name', 'product_category_2', 'product_category_1', 'product_color', 'product_description', 'product_brand', '__index_level_0__'],\n",
       "        num_rows: 478583\n",
       "    })\n",
       "})"
      ]
     },
     "execution_count": 3,
     "metadata": {},
     "output_type": "execute_result"
    }
   ],
   "source": [
    "ds: Dataset = Dataset.from_parquet('./__input__/dataset.parquet') # type: ignore\n",
    "ds.train_test_split(\n",
    "    test_size=0.25,\n",
    "    shuffle=True\n",
    ")"
   ]
  },
  {
   "cell_type": "code",
   "execution_count": 5,
   "metadata": {},
   "outputs": [
    {
     "data": {
      "application/vnd.jupyter.widget-view+json": {
       "model_id": "ec985ed49ea54063a2749227165e88d7",
       "version_major": 2,
       "version_minor": 0
      },
      "text/plain": [
       "Uploading the dataset shards:   0%|          | 0/7 [00:00<?, ?it/s]"
      ]
     },
     "metadata": {},
     "output_type": "display_data"
    },
    {
     "data": {
      "application/vnd.jupyter.widget-view+json": {
       "model_id": "a15fcf7ec5b044eaabb102e33a935902",
       "version_major": 2,
       "version_minor": 0
      },
      "text/plain": [
       "Creating parquet from Arrow format:   0%|          | 0/274 [00:00<?, ?ba/s]"
      ]
     },
     "metadata": {},
     "output_type": "display_data"
    },
    {
     "data": {
      "application/vnd.jupyter.widget-view+json": {
       "model_id": "fd22439521d749309b8afa479070f468",
       "version_major": 2,
       "version_minor": 0
      },
      "text/plain": [
       "Creating parquet from Arrow format:   0%|          | 0/274 [00:00<?, ?ba/s]"
      ]
     },
     "metadata": {},
     "output_type": "display_data"
    },
    {
     "data": {
      "application/vnd.jupyter.widget-view+json": {
       "model_id": "c4b4e77929d4472a9e2f71d67ff1b10e",
       "version_major": 2,
       "version_minor": 0
      },
      "text/plain": [
       "Creating parquet from Arrow format:   0%|          | 0/274 [00:00<?, ?ba/s]"
      ]
     },
     "metadata": {},
     "output_type": "display_data"
    },
    {
     "data": {
      "application/vnd.jupyter.widget-view+json": {
       "model_id": "8d79a6308fa64cc4b02f28d465f01579",
       "version_major": 2,
       "version_minor": 0
      },
      "text/plain": [
       "Creating parquet from Arrow format:   0%|          | 0/274 [00:00<?, ?ba/s]"
      ]
     },
     "metadata": {},
     "output_type": "display_data"
    },
    {
     "data": {
      "application/vnd.jupyter.widget-view+json": {
       "model_id": "4487a79b3ac44596b19013225ad306b8",
       "version_major": 2,
       "version_minor": 0
      },
      "text/plain": [
       "Creating parquet from Arrow format:   0%|          | 0/274 [00:00<?, ?ba/s]"
      ]
     },
     "metadata": {},
     "output_type": "display_data"
    },
    {
     "data": {
      "application/vnd.jupyter.widget-view+json": {
       "model_id": "e0fb6b8afee9444cb588fedccda5c203",
       "version_major": 2,
       "version_minor": 0
      },
      "text/plain": [
       "Creating parquet from Arrow format:   0%|          | 0/274 [00:00<?, ?ba/s]"
      ]
     },
     "metadata": {},
     "output_type": "display_data"
    },
    {
     "data": {
      "application/vnd.jupyter.widget-view+json": {
       "model_id": "7df13289ea0b42e99460ef3ed948beb0",
       "version_major": 2,
       "version_minor": 0
      },
      "text/plain": [
       "Creating parquet from Arrow format:   0%|          | 0/274 [00:00<?, ?ba/s]"
      ]
     },
     "metadata": {},
     "output_type": "display_data"
    },
    {
     "data": {
      "application/vnd.jupyter.widget-view+json": {
       "model_id": "ef14babe4f5d40548cf2b0db424163f9",
       "version_major": 2,
       "version_minor": 0
      },
      "text/plain": [
       "README.md:   0%|          | 0.00/24.0 [00:00<?, ?B/s]"
      ]
     },
     "metadata": {},
     "output_type": "display_data"
    },
    {
     "data": {
      "text/plain": [
       "CommitInfo(commit_url='https://huggingface.co/datasets/Roaoch/urfu_ecom_wb/commit/989a1d9b420a9e76b8e5390bd6b9b13980119b40', commit_message='Upload dataset', commit_description='', oid='989a1d9b420a9e76b8e5390bd6b9b13980119b40', pr_url=None, repo_url=RepoUrl('https://huggingface.co/datasets/Roaoch/urfu_ecom_wb', endpoint='https://huggingface.co', repo_type='dataset', repo_id='Roaoch/urfu_ecom_wb'), pr_revision=None, pr_num=None)"
      ]
     },
     "execution_count": 5,
     "metadata": {},
     "output_type": "execute_result"
    }
   ],
   "source": [
    "ds.push_to_hub('Roaoch/urfu_ecom_wb')"
   ]
  }
 ],
 "metadata": {
  "kernelspec": {
   "display_name": ".venv",
   "language": "python",
   "name": "python3"
  },
  "language_info": {
   "codemirror_mode": {
    "name": "ipython",
    "version": 3
   },
   "file_extension": ".py",
   "mimetype": "text/x-python",
   "name": "python",
   "nbconvert_exporter": "python",
   "pygments_lexer": "ipython3",
   "version": "3.12.8"
  }
 },
 "nbformat": 4,
 "nbformat_minor": 2
}
