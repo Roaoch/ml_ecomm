{
 "cells": [
  {
   "cell_type": "markdown",
   "metadata": {},
   "source": [
    "В данном блоке начинается процесс по приведению датасета в вид, пригодный для обучения модели"
   ]
  },
  {
   "cell_type": "markdown",
   "metadata": {},
   "source": [
    "<img src='./imgs/MasterDeck - Inferece.jpg' alt='Схема обучения' width='900'>\n",
    "</img>"
   ]
  },
  {
   "cell_type": "markdown",
   "metadata": {},
   "source": [
    "Основная того, как модель будет работать по итогу - мы передаем в модель не только изначальный текст, но так же и дополнительную информаци:\n",
    "* Класс токсичности, опрделенный сторонней моделью\n",
    "* Класс эмоциональности, определенный сторонней моделью\n",
    "* Информация о продукте (Описание товара, магазин, категория, это Отзыв или Вопрос и тд.)"
   ]
  },
  {
   "cell_type": "markdown",
   "metadata": {},
   "source": [
    "<img src='./imgs/MasterDeck%20-%20Train.jpg' alt='Схема обучения' width='900'>\n",
    "</img>"
   ]
  },
  {
   "cell_type": "markdown",
   "metadata": {},
   "source": [
    "Для того, чтоюы модель работала по такому механизму её нужно дообучить на корпусе, состоящем из изначального текста и текста, который мы хотим получить в итоге\n",
    "\n",
    "Так как у нас есть просто набор текстов, нужно изначально выделить \"Плохие\" тексты (токсичные, негативные излишне депрессивные), которые мы будем менять, и \"Хорошие\" тексты (в основном нейтральные, но могут быть и позитивными), которые будут для нас таргетом\n",
    "\n",
    "После этого мы должны найти ближайшие тексты по смыслу из группы \"Хороших\" на каждый \"Плохой\" текст, с помошью матчинга"
   ]
  },
  {
   "cell_type": "code",
   "execution_count": 30,
   "metadata": {},
   "outputs": [],
   "source": [
    "import random\n",
    "from datasets import load_dataset\n",
    "from transformers import AutoTokenizer, pipeline\n",
    "from optimum.onnxruntime import ORTModelForSequenceClassification\n",
    "from sentence_transformers import SentenceTransformer"
   ]
  },
  {
   "cell_type": "markdown",
   "metadata": {},
   "source": [
    "Классификация по эмоциональности и токсичности, понадобиться дальше для формирование промта и подбора обучающей выборки\n",
    "\n",
    "\\*Решил протестировать скорость работы optimum'а с Onnx в бекенде"
   ]
  },
  {
   "cell_type": "code",
   "execution_count": 2,
   "metadata": {},
   "outputs": [],
   "source": [
    "def load_calssif(name: str):\n",
    "    return pipeline(\n",
    "        task='text-classification',\n",
    "        model=ORTModelForSequenceClassification.from_pretrained(\n",
    "            name,\n",
    "            export=True,\n",
    "            provider=\"CUDAExecutionProvider\",\n",
    "            use_io_binding=True\n",
    "        ), # type: ignore\n",
    "        tokenizer=AutoTokenizer.from_pretrained(\n",
    "            name,\n",
    "            useFast=True\n",
    "        ),\n",
    "        device='cuda:0'\n",
    "    )"
   ]
  },
  {
   "cell_type": "code",
   "execution_count": 6,
   "metadata": {},
   "outputs": [
    {
     "data": {
      "text/plain": [
       "Dataset({\n",
       "    features: ['nmId', 'text', 'responder', 'type', 'product_name', 'product_category_2', 'product_category_1', 'product_color', 'product_description', 'product_brand', '__index_level_0__'],\n",
       "    num_rows: 1914329\n",
       "})"
      ]
     },
     "execution_count": 6,
     "metadata": {},
     "output_type": "execute_result"
    }
   ],
   "source": [
    "ds = load_dataset('Roaoch/urfu_ecom_wb', split='train')\n",
    "\n",
    "ds"
   ]
  },
  {
   "cell_type": "code",
   "execution_count": 7,
   "metadata": {},
   "outputs": [
    {
     "data": {
      "text/plain": [
       "DatasetDict({\n",
       "    train: Dataset({\n",
       "        features: ['nmId', 'text', 'responder', 'type', 'product_name', 'product_category_2', 'product_category_1', 'product_color', 'product_description', 'product_brand', '__index_level_0__'],\n",
       "        num_rows: 1435746\n",
       "    })\n",
       "    test: Dataset({\n",
       "        features: ['nmId', 'text', 'responder', 'type', 'product_name', 'product_category_2', 'product_category_1', 'product_color', 'product_description', 'product_brand', '__index_level_0__'],\n",
       "        num_rows: 478583\n",
       "    })\n",
       "})"
      ]
     },
     "execution_count": 7,
     "metadata": {},
     "output_type": "execute_result"
    }
   ],
   "source": [
    "ds = ds.train_test_split( # type: ignore\n",
    "    test_size=0.25,\n",
    "    shuffle=True\n",
    ")\n",
    "\n",
    "ds"
   ]
  },
  {
   "cell_type": "code",
   "execution_count": 8,
   "metadata": {},
   "outputs": [
    {
     "data": {
      "application/vnd.jupyter.widget-view+json": {
       "model_id": "89184883a1dd46cca74e85675e4ec0c9",
       "version_major": 2,
       "version_minor": 0
      },
      "text/plain": [
       "config.json:   0%|          | 0.00/957 [00:00<?, ?B/s]"
      ]
     },
     "metadata": {},
     "output_type": "display_data"
    },
    {
     "data": {
      "application/vnd.jupyter.widget-view+json": {
       "model_id": "36036d4681ab4f988a7ac913bec777cd",
       "version_major": 2,
       "version_minor": 0
      },
      "text/plain": [
       "model.safetensors:   0%|          | 0.00/47.2M [00:00<?, ?B/s]"
      ]
     },
     "metadata": {},
     "output_type": "display_data"
    },
    {
     "data": {
      "application/vnd.jupyter.widget-view+json": {
       "model_id": "15c971ff8384441b8aa52720b8ba97be",
       "version_major": 2,
       "version_minor": 0
      },
      "text/plain": [
       "tokenizer_config.json:   0%|          | 0.00/377 [00:00<?, ?B/s]"
      ]
     },
     "metadata": {},
     "output_type": "display_data"
    },
    {
     "data": {
      "application/vnd.jupyter.widget-view+json": {
       "model_id": "fc3ec70101c64b8093aac1007e9a02fc",
       "version_major": 2,
       "version_minor": 0
      },
      "text/plain": [
       "vocab.txt:   0%|          | 0.00/241k [00:00<?, ?B/s]"
      ]
     },
     "metadata": {},
     "output_type": "display_data"
    },
    {
     "data": {
      "application/vnd.jupyter.widget-view+json": {
       "model_id": "1466d94dee1c4608946827d45bacb20c",
       "version_major": 2,
       "version_minor": 0
      },
      "text/plain": [
       "tokenizer.json:   0%|          | 0.00/468k [00:00<?, ?B/s]"
      ]
     },
     "metadata": {},
     "output_type": "display_data"
    },
    {
     "data": {
      "application/vnd.jupyter.widget-view+json": {
       "model_id": "442cfe740fab46e19bf0fd6fc775df5b",
       "version_major": 2,
       "version_minor": 0
      },
      "text/plain": [
       "special_tokens_map.json:   0%|          | 0.00/112 [00:00<?, ?B/s]"
      ]
     },
     "metadata": {},
     "output_type": "display_data"
    }
   ],
   "source": [
    "tox_class_pipe = load_calssif('cointegrated/rubert-tiny-toxicity')"
   ]
  },
  {
   "cell_type": "code",
   "execution_count": 9,
   "metadata": {},
   "outputs": [
    {
     "data": {
      "application/vnd.jupyter.widget-view+json": {
       "model_id": "a1fac3a0e76e4646aff29f7c0dbead6e",
       "version_major": 2,
       "version_minor": 0
      },
      "text/plain": [
       "config.json:   0%|          | 0.00/1.01k [00:00<?, ?B/s]"
      ]
     },
     "metadata": {},
     "output_type": "display_data"
    },
    {
     "data": {
      "application/vnd.jupyter.widget-view+json": {
       "model_id": "e90a50539a6f4b6f8f653c5a7d75c2ac",
       "version_major": 2,
       "version_minor": 0
      },
      "text/plain": [
       "model.safetensors:   0%|          | 0.00/117M [00:00<?, ?B/s]"
      ]
     },
     "metadata": {},
     "output_type": "display_data"
    },
    {
     "data": {
      "application/vnd.jupyter.widget-view+json": {
       "model_id": "47c0bfca4afa453c94e9f363f739e84a",
       "version_major": 2,
       "version_minor": 0
      },
      "text/plain": [
       "tokenizer_config.json:   0%|          | 0.00/379 [00:00<?, ?B/s]"
      ]
     },
     "metadata": {},
     "output_type": "display_data"
    },
    {
     "data": {
      "application/vnd.jupyter.widget-view+json": {
       "model_id": "a21367d506084249a078469f3d91048e",
       "version_major": 2,
       "version_minor": 0
      },
      "text/plain": [
       "vocab.txt:   0%|          | 0.00/1.08M [00:00<?, ?B/s]"
      ]
     },
     "metadata": {},
     "output_type": "display_data"
    },
    {
     "data": {
      "application/vnd.jupyter.widget-view+json": {
       "model_id": "4d95712915c24979b15f1927fdff7595",
       "version_major": 2,
       "version_minor": 0
      },
      "text/plain": [
       "tokenizer.json:   0%|          | 0.00/1.74M [00:00<?, ?B/s]"
      ]
     },
     "metadata": {},
     "output_type": "display_data"
    },
    {
     "data": {
      "application/vnd.jupyter.widget-view+json": {
       "model_id": "949932479faa4511ab7305f1cf858fb1",
       "version_major": 2,
       "version_minor": 0
      },
      "text/plain": [
       "special_tokens_map.json:   0%|          | 0.00/112 [00:00<?, ?B/s]"
      ]
     },
     "metadata": {},
     "output_type": "display_data"
    }
   ],
   "source": [
    "emot_class_pipe = load_calssif('cointegrated/rubert-tiny2-cedr-emotion-detection')"
   ]
  },
  {
   "cell_type": "markdown",
   "metadata": {},
   "source": [
    "Для матчинга нам нужно вытянуть вектор предложения, для чего буду использовать Sentence-transformers, так же с бекендом в виде Onnx"
   ]
  },
  {
   "cell_type": "code",
   "execution_count": 10,
   "metadata": {},
   "outputs": [
    {
     "data": {
      "application/vnd.jupyter.widget-view+json": {
       "model_id": "00d03b5ece7d4b3ea34057204e244883",
       "version_major": 2,
       "version_minor": 0
      },
      "text/plain": [
       "modules.json:   0%|          | 0.00/229 [00:00<?, ?B/s]"
      ]
     },
     "metadata": {},
     "output_type": "display_data"
    },
    {
     "data": {
      "application/vnd.jupyter.widget-view+json": {
       "model_id": "03d8094ec63245ab86db7cd48fd422a9",
       "version_major": 2,
       "version_minor": 0
      },
      "text/plain": [
       "config_sentence_transformers.json:   0%|          | 0.00/122 [00:00<?, ?B/s]"
      ]
     },
     "metadata": {},
     "output_type": "display_data"
    },
    {
     "data": {
      "application/vnd.jupyter.widget-view+json": {
       "model_id": "cdc3745698ba49948e3115dae6a30c6f",
       "version_major": 2,
       "version_minor": 0
      },
      "text/plain": [
       "README.md:   0%|          | 0.00/4.12k [00:00<?, ?B/s]"
      ]
     },
     "metadata": {},
     "output_type": "display_data"
    },
    {
     "data": {
      "application/vnd.jupyter.widget-view+json": {
       "model_id": "35dd534066aa4f1aa827ef02ca0ddc09",
       "version_major": 2,
       "version_minor": 0
      },
      "text/plain": [
       "sentence_bert_config.json:   0%|          | 0.00/53.0 [00:00<?, ?B/s]"
      ]
     },
     "metadata": {},
     "output_type": "display_data"
    },
    {
     "data": {
      "application/vnd.jupyter.widget-view+json": {
       "model_id": "ea8cb86483464f909f59b646f8b7f50c",
       "version_major": 2,
       "version_minor": 0
      },
      "text/plain": [
       "config.json:   0%|          | 0.00/645 [00:00<?, ?B/s]"
      ]
     },
     "metadata": {},
     "output_type": "display_data"
    },
    {
     "name": "stderr",
     "output_type": "stream",
     "text": [
      "Multiple ONNX files found in 'sentence-transformers/paraphrase-multilingual-MiniLM-L12-v2': ['onnx/model.onnx', 'onnx/model_O1.onnx', 'onnx/model_O2.onnx', 'onnx/model_O3.onnx', 'onnx/model_O4.onnx', 'onnx/model_qint8_arm64.onnx', 'onnx/model_qint8_avx512.onnx', 'onnx/model_qint8_avx512_vnni.onnx', 'onnx/model_quint8_avx2.onnx'], defaulting to 'onnx/model.onnx'. Please specify the desired file name via `model_kwargs={\"file_name\": \"<file_name>\"}`.\n"
     ]
    },
    {
     "data": {
      "application/vnd.jupyter.widget-view+json": {
       "model_id": "73f12f81ed224d7c937a949c4f1dad61",
       "version_major": 2,
       "version_minor": 0
      },
      "text/plain": [
       "model.onnx:   0%|          | 0.00/470M [00:00<?, ?B/s]"
      ]
     },
     "metadata": {},
     "output_type": "display_data"
    },
    {
     "name": "stdout",
     "output_type": "stream",
     "text": [
      "*************** EP Error ***************\n",
      "EP Error D:\\a\\_work\\1\\s\\onnxruntime\\python\\onnxruntime_pybind_state.cc:507 onnxruntime::python::RegisterTensorRTPluginsAsCustomOps Please install TensorRT libraries as mentioned in the GPU requirements page, make sure they're in the PATH or LD_LIBRARY_PATH, and that your GPU is supported.\n",
      " when using ['TensorrtExecutionProvider', 'CUDAExecutionProvider']\n",
      "Falling back to ['CUDAExecutionProvider', 'CPUExecutionProvider'] and retrying.\n",
      "****************************************\n"
     ]
    },
    {
     "data": {
      "application/vnd.jupyter.widget-view+json": {
       "model_id": "3d16b35b317343f58542e0562698d79b",
       "version_major": 2,
       "version_minor": 0
      },
      "text/plain": [
       "tokenizer_config.json:   0%|          | 0.00/480 [00:00<?, ?B/s]"
      ]
     },
     "metadata": {},
     "output_type": "display_data"
    },
    {
     "data": {
      "application/vnd.jupyter.widget-view+json": {
       "model_id": "54fa826196eb49ce96e401937e0b3e35",
       "version_major": 2,
       "version_minor": 0
      },
      "text/plain": [
       "tokenizer.json:   0%|          | 0.00/9.08M [00:00<?, ?B/s]"
      ]
     },
     "metadata": {},
     "output_type": "display_data"
    },
    {
     "data": {
      "application/vnd.jupyter.widget-view+json": {
       "model_id": "0d533f84118e4f13ad5ab1999da9be19",
       "version_major": 2,
       "version_minor": 0
      },
      "text/plain": [
       "special_tokens_map.json:   0%|          | 0.00/239 [00:00<?, ?B/s]"
      ]
     },
     "metadata": {},
     "output_type": "display_data"
    },
    {
     "data": {
      "application/vnd.jupyter.widget-view+json": {
       "model_id": "a5194b09d97b4fd288656bfdf964cd80",
       "version_major": 2,
       "version_minor": 0
      },
      "text/plain": [
       "1_Pooling/config.json:   0%|          | 0.00/190 [00:00<?, ?B/s]"
      ]
     },
     "metadata": {},
     "output_type": "display_data"
    }
   ],
   "source": [
    "vecorizer = SentenceTransformer(\n",
    "    'sentence-transformers/paraphrase-multilingual-MiniLM-L12-v2',\n",
    "    backend='onnx'\n",
    ")"
   ]
  },
  {
   "cell_type": "markdown",
   "metadata": {},
   "source": [
    "Обрабатываем тренировочные тексты моделям, тестовый набор оставляем для валидации в конце"
   ]
  },
  {
   "cell_type": "code",
   "execution_count": 19,
   "metadata": {},
   "outputs": [
    {
     "data": {
      "application/vnd.jupyter.widget-view+json": {
       "model_id": "2c46b050494940faa8aaa15f2b71e001",
       "version_major": 2,
       "version_minor": 0
      },
      "text/plain": [
       "Map:   0%|          | 0/1435746 [00:00<?, ? examples/s]"
      ]
     },
     "metadata": {},
     "output_type": "display_data"
    },
    {
     "data": {
      "text/plain": [
       "DatasetDict({\n",
       "    train: Dataset({\n",
       "        features: ['nmId', 'text', 'responder', 'type', 'product_name', 'product_category_2', 'product_category_1', 'product_color', 'product_description', 'product_brand', '__index_level_0__', 'vector', 'toxicity', 'emotions'],\n",
       "        num_rows: 1435746\n",
       "    })\n",
       "    test: Dataset({\n",
       "        features: ['nmId', 'text', 'responder', 'type', 'product_name', 'product_category_2', 'product_category_1', 'product_color', 'product_description', 'product_brand', '__index_level_0__'],\n",
       "        num_rows: 478583\n",
       "    })\n",
       "})"
      ]
     },
     "execution_count": 19,
     "metadata": {},
     "output_type": "execute_result"
    }
   ],
   "source": [
    "def predict(row):\n",
    "    return {\n",
    "        **row,\n",
    "        'vector': vecorizer.encode(row['text'][:vecorizer.max_seq_length]),\n",
    "        'toxicity': tox_class_pipe(row['text'][:tox_class_pipe.tokenizer.model_max_length])[0]['label'], # type: ignore\n",
    "        'emotions': emot_class_pipe(row['text'][:emot_class_pipe.tokenizer.model_max_length])[0]['label'] # type: ignore\n",
    "    }\n",
    "\n",
    "\n",
    "ds['train'] = ds['train'].map(\n",
    "    predict\n",
    ")\n",
    "\n",
    "ds"
   ]
  },
  {
   "cell_type": "code",
   "execution_count": 26,
   "metadata": {},
   "outputs": [
    {
     "data": {
      "application/vnd.jupyter.widget-view+json": {
       "model_id": "41ec783f1652482bad1bc3539ef4b74a",
       "version_major": 2,
       "version_minor": 0
      },
      "text/plain": [
       "Creating parquet from Arrow format:   0%|          | 0/1436 [00:00<?, ?ba/s]"
      ]
     },
     "metadata": {},
     "output_type": "display_data"
    },
    {
     "data": {
      "application/vnd.jupyter.widget-view+json": {
       "model_id": "008e48c8a7bc4a43bb00c74bd65a57b7",
       "version_major": 2,
       "version_minor": 0
      },
      "text/plain": [
       "Creating parquet from Arrow format:   0%|          | 0/479 [00:00<?, ?ba/s]"
      ]
     },
     "metadata": {},
     "output_type": "display_data"
    },
    {
     "data": {
      "text/plain": [
       "846985890"
      ]
     },
     "execution_count": 26,
     "metadata": {},
     "output_type": "execute_result"
    }
   ],
   "source": [
    "ds['train'].to_parquet('./__output__/train.parquet')\n",
    "ds['test'].to_parquet('./__output__/test.parquet')"
   ]
  },
  {
   "cell_type": "code",
   "execution_count": 44,
   "metadata": {},
   "outputs": [
    {
     "data": {
      "text/plain": [
       "{'nmId': 15250124,\n",
       " 'text': 'почему за ваш брак с меня ещё содрали 300 р за возврат??? проверила на пункте выдачи открыв посылку в присутствие оператора и там трещина на колбе!!! у вас не качественный товар с браком и вы бессовестные с меня ещё удержал 300р, потом ещё кому-нибудь отправите и так по кругу будете людей обманывать. вот так значит валберес зарабатывает....',\n",
       " 'responder': 'Клиент',\n",
       " 'type': 'Отзыв',\n",
       " 'product_name': 'Погружной мощный блендер с насадками 700 Вт , SC-HB42F91',\n",
       " 'product_category_2': 'Блендеры',\n",
       " 'product_category_1': 'Техника для кухни',\n",
       " 'product_color': '',\n",
       " 'product_description': 'Погружной блендер Scarlett SC-HB42F91 сочетает в себе функционал блендера, миксера и измельчителя. Утонченный белый корпус небольшого веса и мощный мотор созданы специально для удобной работы и компактного хранения даже на самой маленькой кухне. 14 плавно переключающихся скоростных режимов дают свободу выбора и полет фантазии для приготовления самых изысканных блюд на каждый день. Ножи MULTIEFFECT способны за считанные секунды расправится с самыми твердыми продуктами питания. Погружная часть блендера выполнена из нержавеющей стали собственной марки STEEL PRO, что обеспечивает эффективное измельчение и смешивание продуктов любой температуры и консистенции.\\nБлендер для смузи коктейлей с чашей',\n",
       " 'product_brand': 'Scarlett',\n",
       " '__index_level_0__': 66644,\n",
       " 'vector': [0.09635105729103088,\n",
       "  0.12989681959152222,\n",
       "  -0.035058584064245224,\n",
       "  -0.1533730924129486,\n",
       "  0.028217732906341553,\n",
       "  -0.10102123767137527,\n",
       "  0.24366246163845062,\n",
       "  -0.009939952753484249,\n",
       "  0.12632133066654205,\n",
       "  0.01722857542335987,\n",
       "  0.3517685830593109,\n",
       "  -0.10720383375883102,\n",
       "  0.07548770308494568,\n",
       "  -0.21224330365657806,\n",
       "  -0.05760347843170166,\n",
       "  -0.021027052775025368,\n",
       "  0.013845499604940414,\n",
       "  -0.14482071995735168,\n",
       "  -0.23632100224494934,\n",
       "  0.07693614065647125,\n",
       "  -0.2332371026277542,\n",
       "  -0.15623712539672852,\n",
       "  -0.1823166459798813,\n",
       "  0.06633646041154861,\n",
       "  0.1517661213874817,\n",
       "  0.1554049849510193,\n",
       "  -0.15425699949264526,\n",
       "  0.07997241616249084,\n",
       "  -0.07669136673212051,\n",
       "  0.1269136369228363,\n",
       "  -0.0227801613509655,\n",
       "  -0.023422343656420708,\n",
       "  0.02272334322333336,\n",
       "  0.019590431824326515,\n",
       "  0.22954446077346802,\n",
       "  -0.11203864961862564,\n",
       "  -0.04471088573336601,\n",
       "  -0.08424057066440582,\n",
       "  0.07657414674758911,\n",
       "  0.11055423319339752,\n",
       "  -0.057779595255851746,\n",
       "  -0.08426625281572342,\n",
       "  0.14241403341293335,\n",
       "  0.15461905300617218,\n",
       "  -0.16166196763515472,\n",
       "  -0.00010364750778535381,\n",
       "  0.1198011264204979,\n",
       "  0.08149267733097076,\n",
       "  0.17025226354599,\n",
       "  0.03021828643977642,\n",
       "  0.02971450798213482,\n",
       "  0.07397922873497009,\n",
       "  -0.1851012110710144,\n",
       "  0.14376431703567505,\n",
       "  0.052895765751600266,\n",
       "  0.12900841236114502,\n",
       "  0.17824429273605347,\n",
       "  0.14941848814487457,\n",
       "  -0.21223010122776031,\n",
       "  0.1066415011882782,\n",
       "  0.06305655837059021,\n",
       "  0.1043582484126091,\n",
       "  -0.17372062802314758,\n",
       "  -0.09582106024026871,\n",
       "  -0.2753842771053314,\n",
       "  -0.02193496935069561,\n",
       "  -0.07209429144859314,\n",
       "  -0.08935423940420151,\n",
       "  -0.05605468526482582,\n",
       "  0.1317880004644394,\n",
       "  0.06154443323612213,\n",
       "  -0.017730921506881714,\n",
       "  -0.1789785921573639,\n",
       "  0.057096049189567566,\n",
       "  -0.07306715846061707,\n",
       "  -0.06550821661949158,\n",
       "  0.004824576899409294,\n",
       "  0.0596592016518116,\n",
       "  0.03633067384362221,\n",
       "  -0.06961727887392044,\n",
       "  -0.02829132415354252,\n",
       "  0.020493868738412857,\n",
       "  -0.03338482975959778,\n",
       "  -0.04015187919139862,\n",
       "  -0.013248519040644169,\n",
       "  -0.014172042720019817,\n",
       "  0.018809719011187553,\n",
       "  -0.02602001652121544,\n",
       "  0.1957487016916275,\n",
       "  0.0011748629622161388,\n",
       "  0.1819031536579132,\n",
       "  -0.2688421607017517,\n",
       "  0.142355814576149,\n",
       "  0.029636753723025322,\n",
       "  -0.20118466019630432,\n",
       "  -0.00562452943995595,\n",
       "  0.01124631892889738,\n",
       "  0.15827608108520508,\n",
       "  -0.09292009472846985,\n",
       "  0.16377586126327515,\n",
       "  0.14737193286418915,\n",
       "  0.08827637135982513,\n",
       "  -0.39633646607398987,\n",
       "  -0.06075572967529297,\n",
       "  -0.048007745295763016,\n",
       "  0.22541454434394836,\n",
       "  -0.07891861349344254,\n",
       "  0.16636469960212708,\n",
       "  0.038554683327674866,\n",
       "  -0.20000077784061432,\n",
       "  -0.1148785874247551,\n",
       "  -0.06721181422472,\n",
       "  0.13615155220031738,\n",
       "  -0.04487575590610504,\n",
       "  -0.10236896574497223,\n",
       "  0.19590385258197784,\n",
       "  -0.23828019201755524,\n",
       "  0.1652303785085678,\n",
       "  -0.05835079401731491,\n",
       "  -0.0752263218164444,\n",
       "  0.046361684799194336,\n",
       "  -0.08569905161857605,\n",
       "  -0.11501479148864746,\n",
       "  -0.15873128175735474,\n",
       "  -0.1360958367586136,\n",
       "  -0.44837772846221924,\n",
       "  0.10437673330307007,\n",
       "  -0.21053177118301392,\n",
       "  -0.02084331028163433,\n",
       "  0.09581518173217773,\n",
       "  -0.06553339213132858,\n",
       "  -0.013949457556009293,\n",
       "  -0.04508642479777336,\n",
       "  0.06838469952344894,\n",
       "  -0.005399445537477732,\n",
       "  -0.0255274698138237,\n",
       "  -0.03177349641919136,\n",
       "  0.06179214268922806,\n",
       "  -0.028210792690515518,\n",
       "  -0.12743209302425385,\n",
       "  0.062397345900535583,\n",
       "  -0.031427934765815735,\n",
       "  -0.11576510965824127,\n",
       "  0.21479472517967224,\n",
       "  0.06336449086666107,\n",
       "  0.09359555691480637,\n",
       "  0.12480899691581726,\n",
       "  0.08919171243906021,\n",
       "  0.04475449025630951,\n",
       "  -0.2688242495059967,\n",
       "  -0.08135255426168442,\n",
       "  0.2247166633605957,\n",
       "  -0.1403599977493286,\n",
       "  0.020492298528552055,\n",
       "  -0.1278352588415146,\n",
       "  -0.07702640444040298,\n",
       "  0.1693091094493866,\n",
       "  0.030484646558761597,\n",
       "  0.010717085562646389,\n",
       "  -0.09773562103509903,\n",
       "  0.13225887715816498,\n",
       "  -0.049065448343753815,\n",
       "  -0.01789768785238266,\n",
       "  0.05896545946598053,\n",
       "  0.2052190601825714,\n",
       "  -0.24841123819351196,\n",
       "  -0.04972301423549652,\n",
       "  0.06246588006615639,\n",
       "  -0.13722890615463257,\n",
       "  -0.23286080360412598,\n",
       "  -0.057819776237010956,\n",
       "  0.049806639552116394,\n",
       "  -0.027530070394277573,\n",
       "  0.05725385248661041,\n",
       "  0.05453731119632721,\n",
       "  -0.04604457691311836,\n",
       "  0.26240232586860657,\n",
       "  -0.013557826168835163,\n",
       "  -0.13084973394870758,\n",
       "  -0.07704148441553116,\n",
       "  0.028696885332465172,\n",
       "  0.0835479199886322,\n",
       "  -0.3169431686401367,\n",
       "  0.11292501538991928,\n",
       "  -0.026115983724594116,\n",
       "  0.18756039440631866,\n",
       "  -0.277241587638855,\n",
       "  0.11357278376817703,\n",
       "  0.14694391191005707,\n",
       "  -0.07580037415027618,\n",
       "  -0.09838613122701645,\n",
       "  -0.062396664172410965,\n",
       "  -0.09344807267189026,\n",
       "  -0.1276932805776596,\n",
       "  0.0068170856684446335,\n",
       "  -0.037657514214515686,\n",
       "  -0.07022079825401306,\n",
       "  0.14092397689819336,\n",
       "  0.13548463582992554,\n",
       "  0.2007177174091339,\n",
       "  0.04299352690577507,\n",
       "  0.18570683896541595,\n",
       "  0.17891530692577362,\n",
       "  -0.10493786633014679,\n",
       "  -0.0701892077922821,\n",
       "  0.0986301377415657,\n",
       "  0.196796715259552,\n",
       "  -0.2516496181488037,\n",
       "  0.021505771204829216,\n",
       "  0.28726089000701904,\n",
       "  -0.08145776391029358,\n",
       "  0.02611909620463848,\n",
       "  0.08616527915000916,\n",
       "  0.10556969046592712,\n",
       "  0.11368196457624435,\n",
       "  -0.0739818885922432,\n",
       "  0.04181844741106033,\n",
       "  0.10784794390201569,\n",
       "  0.011175619438290596,\n",
       "  -0.031921520829200745,\n",
       "  0.05218047276139259,\n",
       "  -0.04330192506313324,\n",
       "  0.1020214855670929,\n",
       "  -0.14151440560817719,\n",
       "  0.0728754922747612,\n",
       "  -0.010467623360455036,\n",
       "  -0.09872010350227356,\n",
       "  -0.22408877313137054,\n",
       "  -0.13150472939014435,\n",
       "  -0.08061394840478897,\n",
       "  0.10943345725536346,\n",
       "  0.09913194179534912,\n",
       "  -0.02500845678150654,\n",
       "  -0.10106087476015091,\n",
       "  0.015580437146127224,\n",
       "  -0.1666220724582672,\n",
       "  0.2328500747680664,\n",
       "  -0.03584763780236244,\n",
       "  -0.09326455742120743,\n",
       "  -0.16207817196846008,\n",
       "  -0.12110000103712082,\n",
       "  -0.1579797863960266,\n",
       "  -0.19094102084636688,\n",
       "  0.011460344307124615,\n",
       "  0.008065970614552498,\n",
       "  -0.03871230408549309,\n",
       "  -0.012959246523678303,\n",
       "  0.18239720165729523,\n",
       "  0.06817431002855301,\n",
       "  0.06505215167999268,\n",
       "  0.06892309337854385,\n",
       "  -0.016910970211029053,\n",
       "  0.09835701435804367,\n",
       "  0.3204232454299927,\n",
       "  0.19755050539970398,\n",
       "  -0.015487094409763813,\n",
       "  -0.1811143010854721,\n",
       "  0.25127750635147095,\n",
       "  -0.07191107422113419,\n",
       "  -0.134517639875412,\n",
       "  0.015242736786603928,\n",
       "  0.09054173529148102,\n",
       "  0.14744625985622406,\n",
       "  -0.04160058870911598,\n",
       "  -0.10540036857128143,\n",
       "  -0.10089821368455887,\n",
       "  0.0030092927627265453,\n",
       "  0.05434431508183479,\n",
       "  -0.2013709843158722,\n",
       "  -0.09122578054666519,\n",
       "  0.1340622752904892,\n",
       "  -0.03446435183286667,\n",
       "  0.32901015877723694,\n",
       "  0.1873425841331482,\n",
       "  -0.02490425854921341,\n",
       "  -0.019762786105275154,\n",
       "  0.3996511995792389,\n",
       "  0.029233472421765327,\n",
       "  -0.06663855910301208,\n",
       "  0.11246243119239807,\n",
       "  -0.11451631039381027,\n",
       "  -0.05998450517654419,\n",
       "  0.4033220708370209,\n",
       "  0.06012096628546715,\n",
       "  -0.0561724491417408,\n",
       "  0.11362241208553314,\n",
       "  0.09231224656105042,\n",
       "  0.29560157656669617,\n",
       "  0.09243451803922653,\n",
       "  0.05950991436839104,\n",
       "  -0.05293628200888634,\n",
       "  0.004138645250350237,\n",
       "  0.04520846903324127,\n",
       "  -0.031079126521945,\n",
       "  -0.061179980635643005,\n",
       "  -0.16007159650325775,\n",
       "  -0.21207398176193237,\n",
       "  0.017957283183932304,\n",
       "  0.15088117122650146,\n",
       "  -0.05112023651599884,\n",
       "  0.01197002362459898,\n",
       "  0.06482213735580444,\n",
       "  -0.14174839854240417,\n",
       "  -0.03328651189804077,\n",
       "  0.20628057420253754,\n",
       "  0.06667809933423996,\n",
       "  -0.0529947355389595,\n",
       "  -0.03287442773580551,\n",
       "  0.11057985574007034,\n",
       "  -0.2736978530883789,\n",
       "  0.18233297765254974,\n",
       "  -0.011510069482028484,\n",
       "  0.09162124991416931,\n",
       "  -0.1156231164932251,\n",
       "  -0.014086495153605938,\n",
       "  0.1537284553050995,\n",
       "  -0.008842320181429386,\n",
       "  0.017957769334316254,\n",
       "  0.01949736289680004,\n",
       "  -0.14907783269882202,\n",
       "  0.05275269225239754,\n",
       "  -0.3513847589492798,\n",
       "  -0.02003628946840763,\n",
       "  -0.06062869355082512,\n",
       "  0.3064076900482178,\n",
       "  0.07775155454874039,\n",
       "  0.05083520710468292,\n",
       "  -0.16592606902122498,\n",
       "  -0.040465932339429855,\n",
       "  -0.018171092495322227,\n",
       "  -0.15636998414993286,\n",
       "  0.09104760736227036,\n",
       "  -0.19131149351596832,\n",
       "  -0.2950647473335266,\n",
       "  -0.05007575452327728,\n",
       "  -0.17176757752895355,\n",
       "  -0.15296818315982819,\n",
       "  -0.3880998492240906,\n",
       "  -0.12227800488471985,\n",
       "  -0.02921607717871666,\n",
       "  0.06746309995651245,\n",
       "  -0.02438591979444027,\n",
       "  -0.04359009489417076,\n",
       "  -0.02724933810532093,\n",
       "  -0.09238538146018982,\n",
       "  0.33104273676872253,\n",
       "  0.010147886350750923,\n",
       "  0.3174270987510681,\n",
       "  -0.020644420757889748,\n",
       "  0.05124581605195999,\n",
       "  0.07853071391582489,\n",
       "  0.139092817902565,\n",
       "  -0.026399968191981316,\n",
       "  0.03638217970728874,\n",
       "  -0.1428670883178711,\n",
       "  0.028799019753932953,\n",
       "  0.12148769944906235,\n",
       "  -0.04456286504864693,\n",
       "  0.06017730012536049,\n",
       "  0.04174986481666565,\n",
       "  -0.13242009282112122,\n",
       "  0.008043992333114147,\n",
       "  -0.10559875518083572,\n",
       "  0.2786846160888672,\n",
       "  -0.07528460025787354,\n",
       "  -0.15371593832969666,\n",
       "  -0.12330926954746246,\n",
       "  0.08376000821590424,\n",
       "  0.048026349395513535,\n",
       "  -0.09518174827098846,\n",
       "  -0.25872403383255005,\n",
       "  -0.07609184086322784,\n",
       "  -0.058796677738428116,\n",
       "  -0.11047204583883286,\n",
       "  -0.0235134270042181,\n",
       "  -0.1846095770597458,\n",
       "  0.21727100014686584,\n",
       "  -0.030354119837284088,\n",
       "  0.05779372900724411,\n",
       "  0.19109827280044556,\n",
       "  0.10155340284109116,\n",
       "  0.18831311166286469,\n",
       "  0.027386417612433434,\n",
       "  -0.01673562079668045],\n",
       " 'toxicity': 'non-toxic',\n",
       " 'emotions': 'surprise'}"
      ]
     },
     "execution_count": 44,
     "metadata": {},
     "output_type": "execute_result"
    }
   ],
   "source": [
    "ds['train'][random.randint(0, len(ds['train']))]"
   ]
  }
 ],
 "metadata": {
  "kernelspec": {
   "display_name": ".venv",
   "language": "python",
   "name": "python3"
  },
  "language_info": {
   "codemirror_mode": {
    "name": "ipython",
    "version": 3
   },
   "file_extension": ".py",
   "mimetype": "text/x-python",
   "name": "python",
   "nbconvert_exporter": "python",
   "pygments_lexer": "ipython3",
   "version": "3.12.8"
  }
 },
 "nbformat": 4,
 "nbformat_minor": 2
}
