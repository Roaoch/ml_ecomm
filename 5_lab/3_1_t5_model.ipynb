{
 "cells": [
  {
   "cell_type": "markdown",
   "metadata": {},
   "source": [
    "Из-за низкой скорости обработки одного батча (в перещете на один текст присерно 10 сек.), код этого и последующих этапов делался в облаке на Tesla A10"
   ]
  },
  {
   "cell_type": "code",
   "execution_count": 1,
   "metadata": {},
   "outputs": [],
   "source": [
    "import torch\n",
    "import uuid\n",
    "import os\n",
    "import evaluate\n",
    "from datasets import Dataset\n",
    "from transformers import (\n",
    "    T5ForConditionalGeneration,\n",
    "    AutoTokenizer,\n",
    "    DataCollatorForSeq2Seq,\n",
    "    Seq2SeqTrainer,\n",
    "    Seq2SeqTrainingArguments\n",
    ")\n",
    "from peft import LoraConfig, get_peft_model, TaskType # type: ignore\n",
    "from tqdm import tqdm"
   ]
  },
  {
   "cell_type": "markdown",
   "metadata": {},
   "source": [
    "Из-за того, что мы создаем датасет с помощью матчинга негативных текстов в какой-либо текст из позитивной или нейтральной группы, неизбежно появляются ошибки связанные с тем, что в оригинальном тексте и таргете, может в принципе говориться про разные продукты.\n",
    "\n",
    "Чтобы хоть как-то передать информацию о желаемым результатом, я предлагаю включить в промт информацию о продукте и типу текста"
   ]
  },
  {
   "cell_type": "code",
   "execution_count": 2,
   "metadata": {},
   "outputs": [
    {
     "data": {
      "application/vnd.jupyter.widget-view+json": {
       "model_id": "63d8bc990b9c494dadd2ff3f5d9d4b1e",
       "version_major": 2,
       "version_minor": 0
      },
      "text/plain": [
       "Generating train split: 0 examples [00:00, ? examples/s]"
      ]
     },
     "metadata": {},
     "output_type": "display_data"
    },
    {
     "data": {
      "application/vnd.jupyter.widget-view+json": {
       "model_id": "174159ff467a43d3b088366a23a29f02",
       "version_major": 2,
       "version_minor": 0
      },
      "text/plain": [
       "Generating train split: 0 examples [00:00, ? examples/s]"
      ]
     },
     "metadata": {},
     "output_type": "display_data"
    }
   ],
   "source": [
    "train = Dataset.from_parquet('./__output__/matched_train.parquet')\n",
    "test = Dataset.from_parquet('./__output__/matched_test.parquet')"
   ]
  },
  {
   "cell_type": "code",
   "execution_count": 3,
   "metadata": {},
   "outputs": [
    {
     "data": {
      "text/plain": [
       "Dataset({\n",
       "    features: ['nmId', 'text', 'responder', 'type', 'product_name', 'product_category_2', 'product_category_1', 'product_color', 'product_description', 'product_brand', 'vector', 'toxicity', 'emotions', 'target_nmId', 'target_text', 'target_responder', 'target_type', 'target_product_name', 'target_product_category_2', 'target_product_category_1', 'target_product_color', 'target_product_description', 'target_product_brand', 'target_vector', 'target_toxicity', 'target_emotions', '__index_level_0__'],\n",
       "    num_rows: 15147\n",
       "})"
      ]
     },
     "execution_count": 3,
     "metadata": {},
     "output_type": "execute_result"
    }
   ],
   "source": [
    "train"
   ]
  },
  {
   "cell_type": "code",
   "execution_count": 4,
   "metadata": {},
   "outputs": [
    {
     "data": {
      "text/plain": [
       "Dataset({\n",
       "    features: ['nmId', 'text', 'responder', 'type', 'product_name', 'product_category_2', 'product_category_1', 'product_color', 'product_description', 'product_brand', 'vector', 'toxicity', 'emotions', 'target_nmId', 'target_text', 'target_responder', 'target_type', 'target_product_name', 'target_product_category_2', 'target_product_category_1', 'target_product_color', 'target_product_description', 'target_product_brand', 'target_vector', 'target_toxicity', 'target_emotions', '__index_level_0__'],\n",
       "    num_rows: 1683\n",
       "})"
      ]
     },
     "execution_count": 4,
     "metadata": {},
     "output_type": "execute_result"
    }
   ],
   "source": [
    "test"
   ]
  },
  {
   "cell_type": "markdown",
   "metadata": {},
   "source": [
    "Так как у нас задача Seq2Seq модель, самым логичным вариантом будет выбрать какую-либо Encoder-Decoder модель, из которых самая популярная это flan-t5"
   ]
  },
  {
   "cell_type": "code",
   "execution_count": 5,
   "metadata": {},
   "outputs": [
    {
     "data": {
      "application/vnd.jupyter.widget-view+json": {
       "model_id": "56ec3122b4ce47fb9f0dc115743d664f",
       "version_major": 2,
       "version_minor": 0
      },
      "text/plain": [
       "config.json:   0%|          | 0.00/1.40k [00:00<?, ?B/s]"
      ]
     },
     "metadata": {},
     "output_type": "display_data"
    },
    {
     "data": {
      "application/vnd.jupyter.widget-view+json": {
       "model_id": "789c551005d94e6e8bf60f8edcd48ca6",
       "version_major": 2,
       "version_minor": 0
      },
      "text/plain": [
       "model.safetensors:   0%|          | 0.00/308M [00:00<?, ?B/s]"
      ]
     },
     "metadata": {},
     "output_type": "display_data"
    },
    {
     "data": {
      "application/vnd.jupyter.widget-view+json": {
       "model_id": "86ace8fb04eb4cfab2b7cadf32b3fe6c",
       "version_major": 2,
       "version_minor": 0
      },
      "text/plain": [
       "generation_config.json:   0%|          | 0.00/147 [00:00<?, ?B/s]"
      ]
     },
     "metadata": {},
     "output_type": "display_data"
    },
    {
     "data": {
      "application/vnd.jupyter.widget-view+json": {
       "model_id": "458c7c6298a142f89023b230fe260279",
       "version_major": 2,
       "version_minor": 0
      },
      "text/plain": [
       "tokenizer_config.json:   0%|          | 0.00/2.54k [00:00<?, ?B/s]"
      ]
     },
     "metadata": {},
     "output_type": "display_data"
    },
    {
     "data": {
      "application/vnd.jupyter.widget-view+json": {
       "model_id": "28a5672e7d2846cca7c7f64f207a800d",
       "version_major": 2,
       "version_minor": 0
      },
      "text/plain": [
       "spiece.model:   0%|          | 0.00/792k [00:00<?, ?B/s]"
      ]
     },
     "metadata": {},
     "output_type": "display_data"
    },
    {
     "data": {
      "application/vnd.jupyter.widget-view+json": {
       "model_id": "7bc559f70a3f4662887c4dc440006180",
       "version_major": 2,
       "version_minor": 0
      },
      "text/plain": [
       "tokenizer.json:   0%|          | 0.00/2.42M [00:00<?, ?B/s]"
      ]
     },
     "metadata": {},
     "output_type": "display_data"
    },
    {
     "data": {
      "application/vnd.jupyter.widget-view+json": {
       "model_id": "acb4cf176ca54e7ea8488a9fd3d21ae9",
       "version_major": 2,
       "version_minor": 0
      },
      "text/plain": [
       "special_tokens_map.json:   0%|          | 0.00/2.20k [00:00<?, ?B/s]"
      ]
     },
     "metadata": {},
     "output_type": "display_data"
    }
   ],
   "source": [
    "model = T5ForConditionalGeneration.from_pretrained(\n",
    "    'google/flan-t5-small',\n",
    "    device_map='cuda:0',\n",
    "    torch_dtype=torch.bfloat16,\n",
    ")\n",
    "tokenizer = AutoTokenizer.from_pretrained(\n",
    "    'google/flan-t5-small', \n",
    "    useFast=True\n",
    ")\n",
    "\n",
    "coll = DataCollatorForSeq2Seq(model=model, tokenizer=tokenizer)"
   ]
  },
  {
   "cell_type": "code",
   "execution_count": 6,
   "metadata": {},
   "outputs": [
    {
     "data": {
      "text/plain": [
       "76961152"
      ]
     },
     "execution_count": 6,
     "metadata": {},
     "output_type": "execute_result"
    }
   ],
   "source": [
    "sum([p.numel() for p in model.parameters() if p.requires_grad])"
   ]
  },
  {
   "cell_type": "code",
   "execution_count": 7,
   "metadata": {},
   "outputs": [],
   "source": [
    "peft_conf = LoraConfig(\n",
    "    TaskType.SEQ_2_SEQ_LM,\n",
    "    r=32,\n",
    "    lora_alpha=32,\n",
    "    target_modules=['q', 'v'],\n",
    "    lora_dropout=0.1,\n",
    "    bias='none',\n",
    "    inference_mode=False\n",
    ")\n",
    "\n",
    "peft_model = get_peft_model(model, peft_conf)"
   ]
  },
  {
   "cell_type": "code",
   "execution_count": 8,
   "metadata": {},
   "outputs": [
    {
     "data": {
      "text/plain": [
       "1376256"
      ]
     },
     "execution_count": 8,
     "metadata": {},
     "output_type": "execute_result"
    }
   ],
   "source": [
    "sum([p.numel() for p in peft_model.parameters() if p.requires_grad])"
   ]
  },
  {
   "cell_type": "code",
   "execution_count": 9,
   "metadata": {},
   "outputs": [
    {
     "name": "stderr",
     "output_type": "stream",
     "text": [
      "Token indices sequence length is longer than the specified maximum sequence length for this model (589 > 512). Running this sequence through the model will result in indexing errors\n"
     ]
    },
    {
     "data": {
      "text/plain": [
       "931"
      ]
     },
     "execution_count": 9,
     "metadata": {},
     "output_type": "execute_result"
    }
   ],
   "source": [
    "max([len(tokenizer.tokenize(row['text'])) for row in train]) # type: ignore"
   ]
  },
  {
   "cell_type": "code",
   "execution_count": 10,
   "metadata": {},
   "outputs": [
    {
     "data": {
      "text/plain": [
       "817"
      ]
     },
     "execution_count": 10,
     "metadata": {},
     "output_type": "execute_result"
    }
   ],
   "source": [
    "max([len(tokenizer.tokenize(row['target_text'])) for row in train]) # type: ignore"
   ]
  },
  {
   "cell_type": "code",
   "execution_count": 11,
   "metadata": {},
   "outputs": [],
   "source": [
    "def preprocess(e):\n",
    "    out = tokenizer(\n",
    "        f'''\n",
    "responder: {e['target_responder']}\n",
    "type: {e['target_type']}\n",
    "product_name: {e['target_product_name']}\n",
    "product_category_2: {e['target_product_category_2']}\n",
    "product_color: {e['target_product_color']}\n",
    "product_brand: {e['target_product_brand']}\n",
    "product_description: {e['target_product_description']}\n",
    "toxicity: {e['toxicity']}\n",
    "emotions: {e['emotions']}\n",
    "text: {e['text']}\n",
    "        ''',\n",
    "        truncation=True,\n",
    "        max_length=1500,\n",
    "        return_tensors='pt'\n",
    "    )\n",
    "\n",
    "    out['input_ids'] = out['input_ids'][0] # type: ignore\n",
    "    out['attention_mask'] = out['attention_mask'][0] # type: ignore\n",
    "\n",
    "    labels = tokenizer(\n",
    "        text_target=e['target_text'], \n",
    "        max_length=1500,         \n",
    "        truncation=True,\n",
    "        return_tensors='pt'\n",
    "    )\n",
    "    out['labels'] = labels['input_ids'][0] # type: ignore\n",
    "    \n",
    "    return out"
   ]
  },
  {
   "cell_type": "code",
   "execution_count": 12,
   "metadata": {},
   "outputs": [
    {
     "data": {
      "application/vnd.jupyter.widget-view+json": {
       "model_id": "9d443f9b72ad4e939877d2f6b3ea800d",
       "version_major": 2,
       "version_minor": 0
      },
      "text/plain": [
       "Map:   0%|          | 0/15147 [00:00<?, ? examples/s]"
      ]
     },
     "metadata": {},
     "output_type": "display_data"
    },
    {
     "data": {
      "application/vnd.jupyter.widget-view+json": {
       "model_id": "38b29bd147d44561bb9228c338aa1c97",
       "version_major": 2,
       "version_minor": 0
      },
      "text/plain": [
       "Map:   0%|          | 0/1683 [00:00<?, ? examples/s]"
      ]
     },
     "metadata": {},
     "output_type": "display_data"
    },
    {
     "data": {
      "text/plain": [
       "Dataset({\n",
       "    features: ['input_ids', 'attention_mask', 'labels'],\n",
       "    num_rows: 15147\n",
       "})"
      ]
     },
     "execution_count": 12,
     "metadata": {},
     "output_type": "execute_result"
    }
   ],
   "source": [
    "train = train.map(preprocess, remove_columns=train.column_names) # type: ignore\n",
    "test = test.map(preprocess, remove_columns=test.column_names) # type: ignore\n",
    "\n",
    "train"
   ]
  },
  {
   "cell_type": "code",
   "execution_count": 13,
   "metadata": {},
   "outputs": [
    {
     "data": {
      "text/plain": [
       "'8fd9c01d-3ad4-4dcf-b00c-ccb399091a74'"
      ]
     },
     "execution_count": 13,
     "metadata": {},
     "output_type": "execute_result"
    }
   ],
   "source": [
    "checkpoint = str(uuid.uuid4())\n",
    "\n",
    "checkpoint"
   ]
  },
  {
   "cell_type": "code",
   "execution_count": 14,
   "metadata": {},
   "outputs": [],
   "source": [
    "os.makedirs(f'./models/{checkpoint}')"
   ]
  },
  {
   "cell_type": "code",
   "execution_count": 15,
   "metadata": {},
   "outputs": [],
   "source": [
    "args = Seq2SeqTrainingArguments(\n",
    "    output_dir=f'./models/{checkpoint}/runs',\n",
    "    eval_strategy='epoch',\n",
    "    per_device_train_batch_size=5,\n",
    "    per_device_eval_batch_size=5,\n",
    "    num_train_epochs=5,\n",
    "    learning_rate=0.001,\n",
    "    warmup_ratio=0.1,\n",
    "    weight_decay=0.01,\n",
    "    save_strategy='no',\n",
    "    remove_unused_columns=False,\n",
    "    bf16=True,\n",
    "    predict_with_generate=True,\n",
    "    generation_max_length=300\n",
    ")\n",
    "\n",
    "trainer = Seq2SeqTrainer(\n",
    "    model=peft_model, # type: ignore\n",
    "    args=args,\n",
    "    data_collator=coll,\n",
    "    train_dataset=train, # type: ignore\n",
    "    eval_dataset=test, # type: ignore\n",
    ")"
   ]
  },
  {
   "cell_type": "code",
   "execution_count": 16,
   "metadata": {},
   "outputs": [
    {
     "name": "stderr",
     "output_type": "stream",
     "text": [
      "Passing a tuple of `past_key_values` is deprecated and will be removed in Transformers v4.48.0. You should pass an instance of `EncoderDecoderCache` instead, e.g. `past_key_values=EncoderDecoderCache.from_legacy_cache(past_key_values)`.\n"
     ]
    },
    {
     "data": {
      "text/html": [
       "\n",
       "    <div>\n",
       "      \n",
       "      <progress value='15150' max='15150' style='width:300px; height:20px; vertical-align: middle;'></progress>\n",
       "      [15150/15150 1:01:44, Epoch 5/5]\n",
       "    </div>\n",
       "    <table border=\"1\" class=\"dataframe\">\n",
       "  <thead>\n",
       " <tr style=\"text-align: left;\">\n",
       "      <th>Epoch</th>\n",
       "      <th>Training Loss</th>\n",
       "      <th>Validation Loss</th>\n",
       "    </tr>\n",
       "  </thead>\n",
       "  <tbody>\n",
       "    <tr>\n",
       "      <td>1</td>\n",
       "      <td>2.101300</td>\n",
       "      <td>1.937135</td>\n",
       "    </tr>\n",
       "    <tr>\n",
       "      <td>2</td>\n",
       "      <td>2.017700</td>\n",
       "      <td>1.856336</td>\n",
       "    </tr>\n",
       "    <tr>\n",
       "      <td>3</td>\n",
       "      <td>1.968600</td>\n",
       "      <td>1.819550</td>\n",
       "    </tr>\n",
       "    <tr>\n",
       "      <td>4</td>\n",
       "      <td>1.930100</td>\n",
       "      <td>1.794183</td>\n",
       "    </tr>\n",
       "    <tr>\n",
       "      <td>5</td>\n",
       "      <td>1.933900</td>\n",
       "      <td>1.783127</td>\n",
       "    </tr>\n",
       "  </tbody>\n",
       "</table><p>"
      ],
      "text/plain": [
       "<IPython.core.display.HTML object>"
      ]
     },
     "metadata": {},
     "output_type": "display_data"
    },
    {
     "data": {
      "text/plain": [
       "TrainOutput(global_step=15150, training_loss=2.0216667089682603, metrics={'train_runtime': 3705.7868, 'train_samples_per_second': 20.437, 'train_steps_per_second': 4.088, 'total_flos': 3.591972182035661e+16, 'train_loss': 2.0216667089682603, 'epoch': 5.0})"
      ]
     },
     "execution_count": 16,
     "metadata": {},
     "output_type": "execute_result"
    }
   ],
   "source": [
    "trainer.train()"
   ]
  },
  {
   "cell_type": "code",
   "execution_count": 17,
   "metadata": {},
   "outputs": [],
   "source": [
    "trainer.save_model(f'./models/{checkpoint}/model')"
   ]
  },
  {
   "cell_type": "code",
   "execution_count": 18,
   "metadata": {},
   "outputs": [
    {
     "name": "stderr",
     "output_type": "stream",
     "text": [
      "[nltk_data] Downloading package wordnet to /home/ubuntu/nltk_data...\n",
      "[nltk_data]   Package wordnet is already up-to-date!\n",
      "[nltk_data] Downloading package punkt_tab to /home/ubuntu/nltk_data...\n",
      "[nltk_data]   Package punkt_tab is already up-to-date!\n",
      "[nltk_data] Downloading package omw-1.4 to /home/ubuntu/nltk_data...\n",
      "[nltk_data]   Package omw-1.4 is already up-to-date!\n"
     ]
    }
   ],
   "source": [
    "meteor = evaluate.load('evaluate-metric/meteor')\n",
    "rouge = evaluate.load('evaluate-metric/rouge')\n",
    "bleu = evaluate.load('evaluate-metric/bleu')"
   ]
  },
  {
   "cell_type": "code",
   "execution_count": 19,
   "metadata": {},
   "outputs": [
    {
     "name": "stderr",
     "output_type": "stream",
     "text": [
      "  0%|          | 0/1683 [00:00<?, ?it/s]/home/ubuntu/.venv/lib/python3.12/site-packages/transformers/generation/utils.py:1375: UserWarning: Using the model-agnostic default `max_length` (=20) to control the generation length. We recommend setting `max_new_tokens` to control the maximum length of the generation.\n",
      "  warnings.warn(\n",
      "100%|██████████| 1683/1683 [10:28<00:00,  2.68it/s]\n"
     ]
    }
   ],
   "source": [
    "targets = []\n",
    "preds = []\n",
    "for row in tqdm(test):\n",
    "    text_input_ids = torch.LongTensor([row['input_ids']]).to('cuda:0')\n",
    "    text_attention_mask = torch.LongTensor([row['attention_mask']]).to('cuda:0')\n",
    "\n",
    "    model_out = model.generate(\n",
    "        input_ids=text_input_ids, \n",
    "        attention_mask=text_attention_mask,\n",
    "        top_k=1,\n",
    "        do_sample=True\n",
    "    )[0]\n",
    "\n",
    "    preds.append(tokenizer.decode(model_out, skip_special_tokens=True))\n",
    "    targets.append(tokenizer.decode(row['labels'], skip_special_tokens=True))"
   ]
  },
  {
   "cell_type": "code",
   "execution_count": 20,
   "metadata": {},
   "outputs": [
    {
     "name": "stdout",
     "output_type": "stream",
     "text": [
      "\n",
      "Test metrice:\n",
      "Meteor: 0.06076279690497971\n",
      "Rouge: 0.0030566091432843905,\n",
      "Bleu: 5.0306628085742025e-06\n",
      "\n"
     ]
    }
   ],
   "source": [
    "print(f'''\n",
    "Test metrice:\n",
    "Meteor: {meteor.compute(predictions=preds, references=targets)['meteor']}\n",
    "Rouge: {rouge.compute(predictions=preds, references=targets)['rougeLsum']},\n",
    "Bleu: {bleu.compute(predictions=preds, references=targets)['bleu']}\n",
    "''')"
   ]
  }
 ],
 "metadata": {
  "kernelspec": {
   "display_name": "Python 3 (ipykernel)",
   "language": "python",
   "name": "python3"
  }
 },
 "nbformat": 4,
 "nbformat_minor": 2
}
