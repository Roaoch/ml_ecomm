{
 "cells": [
  {
   "cell_type": "markdown",
   "metadata": {},
   "source": [
    "По итогу при одинаковых настройках ruT5 показала лучшие результаты за 5 эпох. Поэтому этом, пусть скорость падения loss'а и уменьшилась, как мне кажется из этой модели ещё можно вытянуть более хорошие результаты"
   ]
  },
  {
   "cell_type": "code",
   "execution_count": 1,
   "metadata": {},
   "outputs": [],
   "source": [
    "import torch\n",
    "import uuid\n",
    "import os\n",
    "import evaluate\n",
    "import numpy as np\n",
    "from typing import Callable, Any\n",
    "from datasets import Dataset\n",
    "from transformers import (\n",
    "    T5ForConditionalGeneration,\n",
    "    AutoTokenizer,\n",
    "    DataCollatorForSeq2Seq,\n",
    "    Seq2SeqTrainer,\n",
    "    Seq2SeqTrainingArguments\n",
    ")\n",
    "from peft import (\n",
    "    LoraConfig, # type: ignore\n",
    "    get_peft_model, # type: ignore\n",
    "    TaskType, # type: ignore\n",
    "    AutoPeftModelForSeq2SeqLM # type: ignore\n",
    ")\n",
    "from tqdm import tqdm"
   ]
  },
  {
   "cell_type": "code",
   "execution_count": 2,
   "metadata": {},
   "outputs": [],
   "source": [
    "train = Dataset.from_parquet('./__output__/matched_train.parquet')\n",
    "test = Dataset.from_parquet('./__output__/matched_test.parquet')"
   ]
  },
  {
   "cell_type": "code",
   "execution_count": 21,
   "metadata": {},
   "outputs": [],
   "source": [
    "model = T5ForConditionalGeneration.from_pretrained(\n",
    "    'ai-forever/ruT5-base',\n",
    "    device_map='cuda:0',\n",
    "    torch_dtype=torch.bfloat16,\n",
    ")\n",
    "tokenizer = AutoTokenizer.from_pretrained(\n",
    "    'ai-forever/ruT5-base',\n",
    "    useFast=True\n",
    ")\n",
    "\n",
    "coll = DataCollatorForSeq2Seq(model=model, tokenizer=tokenizer)"
   ]
  },
  {
   "cell_type": "markdown",
   "metadata": {},
   "source": [
    "# Сравнения промптов для генерации"
   ]
  },
  {
   "cell_type": "code",
   "execution_count": 4,
   "metadata": {},
   "outputs": [],
   "source": [
    "test_model = AutoPeftModelForSeq2SeqLM.from_pretrained(\n",
    "    './models/25494ed9-f307-4293-a192-80678a7aca3a/model',\n",
    "    device_map='cuda:0',\n",
    "    torch_dtype=torch.bfloat16\n",
    ")"
   ]
  },
  {
   "cell_type": "code",
   "execution_count": 5,
   "metadata": {},
   "outputs": [],
   "source": [
    "subset = test.select(np.random.randint(0, len(test), 4)) # type: ignore"
   ]
  },
  {
   "cell_type": "code",
   "execution_count": 6,
   "metadata": {},
   "outputs": [
    {
     "name": "stdout",
     "output_type": "stream",
     "text": [
      "Не разделяю восторженных отзывов. Для меня как минимум странно получить ниблер в простом зип пакете, без заводской упаковки, без минимальной информации по товару и обязательной по закону маркировки.. Я не рискнула оставить и уж тем более дать в пользование этот ниблер своему ребёнку...Тому, кто с этим не заморачивается,думаю, понравится. Внешне симпатичный, защелка крепкая. \n",
      "Заказала давно поводок, отзыв специально оставляю сейчас. Поводок отлично справляется. Я очень боялась что не выдержит, но все оказалось прекрасно! Собака 35 кг, может сильно потянуть поводок выдерживает. А у кого собака не воспитана и грызёт амуницию, виноват не поводок.\n",
      "Здравствуйте. Скажите пожалуйста, когда появятся в продаже пиджаки размер xs?\n",
      "Добрый день! Разницы нет. В карточке товара по ошибке задублирован размер.Рост модели - 170 см. Приятных покупок!\n"
     ]
    }
   ],
   "source": [
    "for t in subset:\n",
    "    print(t['text']) # type: ignore"
   ]
  },
  {
   "cell_type": "code",
   "execution_count": 7,
   "metadata": {},
   "outputs": [
    {
     "name": "stdout",
     "output_type": "stream",
     "text": [
      "Не думала, что придётся писать отрицательный отзыв. К самому товару притензий нет, а вот от упаковки я в шоке. Её вообще нет. Футляр поцарапаный и на крышке дурацкая наклейка, которую я кое как убрала, и теперь крышка липкая. Неужели такая проблема завернуть в полиэтилен? Думаю, что это не слишком  затратно для вас. Хорошо, что брала не на подарок. Вообщем неприятно от такого отношения к заказам.\n",
      "Начитавшись  положитеных отзывов....заказала коврик для резки.  Пришёл заказ с задержкой,  да это и не главное, зато  у меня появился новенький зелёный мат для работы. А самое интересное было далее....при использовании коврика  выяснилось,  что он прорезается полностью,  я в шоке! Для каких целей он тогда? Смотреть и любоваться? Такого я ещё не видела, мой старый коврик прослужил верой и правдой 5 лет и ещё живой....\n",
      "НЕ РЕКОМЕНДУЮ К ПОКУПКЕ !!!!\n",
      "Здравствуйте! А когда поступит в продажу размер xs?\n",
      "Добрый день! Длина изделия по спинке для 42 размера - 54 см. Приятных покупок!\n"
     ]
    }
   ],
   "source": [
    "for t in subset:\n",
    "    print(t['target_text']) # type: ignore"
   ]
  },
  {
   "cell_type": "code",
   "execution_count": 8,
   "metadata": {},
   "outputs": [],
   "source": [
    "def make_full_target_promt(e):\n",
    "    return f'''\n",
    "ответчик: {e['target_responder']}\n",
    "тип: {e['target_type']}\n",
    "название: {e['target_product_name']}\n",
    "категория 2: {e['target_product_category_2']}\n",
    "цвет: {e['target_product_color']}\n",
    "бренд: {e['target_product_brand']}\n",
    "описание: {e['target_product_description']}\n",
    "токсичность: {e['toxicity']}\n",
    "эиоциональность: {e['emotions']}\n",
    "текст: {e['text']}\n",
    "    '''\n",
    "\n",
    "\n",
    "def make_full_promt(e):\n",
    "    return f'''\n",
    "ответчик: {e['responder']}\n",
    "тип: {e['type']}\n",
    "название: {e['product_name']}\n",
    "категория 2: {e['product_category_2']}\n",
    "цвет: {e['product_color']}\n",
    "бренд: {e['product_brand']}\n",
    "описание: {e['product_description']}\n",
    "токсичность: {e['toxicity']}\n",
    "эиоциональность: {e['emotions']}\n",
    "текст: {e['text']}\n",
    "    '''\n",
    "\n",
    "\n",
    "def make_text_promt(e):\n",
    "    return f'''\n",
    "текст: {e['text']}\n",
    "    '''"
   ]
  },
  {
   "cell_type": "code",
   "execution_count": 9,
   "metadata": {},
   "outputs": [],
   "source": [
    "def generate_res(e, promt_make: Callable[[Any], str]):\n",
    "    model_in = tokenizer(\n",
    "        promt_make(e),\n",
    "        truncation=True,\n",
    "        max_length=1400,\n",
    "        return_tensors='pt'\n",
    "    ).to('cuda:0')\n",
    "\n",
    "    model_out = test_model.generate(\n",
    "        **model_in,\n",
    "        max_new_tokens=300,\n",
    "        top_k=1,\n",
    "        do_sample=True,\n",
    "    )[0]\n",
    "\n",
    "    return tokenizer.decode(model_out, skip_special_tokens=True)"
   ]
  },
  {
   "cell_type": "code",
   "execution_count": 10,
   "metadata": {},
   "outputs": [
    {
     "name": "stdout",
     "output_type": "stream",
     "text": [
      "Не разделяю восторженных отзывов. Не ожидала, что будет так много восторженных отзывов. Но, к сожалению, не могу не оценить. На фото видно, что пудра не сливается, а сливается. На фото видно, что пудра не сливается. На фото видно, что она не сливается. Но, видимо, это не пудра, а пудра.\n",
      "Коврик отличный, но я очень боялась, что не выдержит. Но, к сожалению, не выдержала. На мой взгляд, это не очень удобно. На мой взгляд, это не очень удобно. На мой взгляд, это не очень удобно. Но, к сожалению, не очень удобно. На мой взгляд, это не очень удобно.\n",
      "Здравствуйте, когда появятся в продаже пиджаки размера xs?\n",
      "Добрый день! Размер модели - 170 см.\n"
     ]
    }
   ],
   "source": [
    "for t in subset:\n",
    "    print(generate_res(t, make_full_target_promt))"
   ]
  },
  {
   "cell_type": "code",
   "execution_count": 11,
   "metadata": {},
   "outputs": [
    {
     "name": "stdout",
     "output_type": "stream",
     "text": [
      "Не разделяю восторженных отзывов. Ниблер пришел в ужасном состоянии. Не знаю, как можно так относиться к покупателям. Но я не могу не согласиться с тем, что он не соответствует заявленному. Не знаю, как можно так относиться к покупателям. Но я очень довольна покупкой.\n",
      "Поводок отличный, собака не боится, что не выдержит. Но я очень боялась, что не выдержит. Но, к сожалению, не выдержала. Собака не боится, не боится, не выскакивает, не выскакивает, не выскакивает, не выскакивает, не выскакивает, не выскакивает, не выскакивает, не выскакивает, не выскакивает, не выскакивает.\n",
      "Здравствуйте, когда появятся в продаже пиджаки размера xs?\n",
      "Добрый день! Размер модели - 170 см.\n"
     ]
    }
   ],
   "source": [
    "for t in subset:\n",
    "    print(generate_res(t, make_full_promt))"
   ]
  },
  {
   "cell_type": "code",
   "execution_count": 12,
   "metadata": {},
   "outputs": [
    {
     "name": "stdout",
     "output_type": "stream",
     "text": [
      "Не разделяю восторженных отзывов. Не разделяю восторженных отзывов. Не разделяю восторженных отзывов. Не могу не оценить качество ниблера. Не знаю, как можно получить ниблер без заводской упаковки, без заводской упаковки. Не знаю, как можно получить такой ниблер без заводской упаковки.\n",
      "Заказывала поводок, очень довольна. Собака очень довольна. Поводок отличный, очень довольна покупкой. Поводок отличный, собака не боится, не тянет, не тянет, не тянет. Поводок не тянет, не тянет, не тянет, не тянет. Поводок не тянет, не тянет, не тянет, не тянет.\n",
      "Здравствуйте. Когда появятся пиджаки размер xs?\n",
      "Добрый день! Приятных покупок! Приятных покупок!!!!!!!!!!!!!!!!!!!!!!!!!!!!!!!!!!!!!!!!!!!!!!!!!!!!!!!!!!!!!!!!!!!!!!!!!!!!!!!!!!!!!!!!!!!!!!!!!!!!!!!!!!!!!!!!!!!!!!!!!!!!!!!!!!!!!!!!!!!!!!!!!!!!!!!!!!!!!!!!!!!!!!!!!!!!!!!!!!!!!!!!!!!!!!!!!!!!!!!!!!!!!!!!!!!!!!!!!!!!!!!!!!!!!!!!!!!!!!!!!!!!!!!!!!!!!!!!!!!!!!!!!!!!!!!!!!!!!!!!!!!!!!!!\n"
     ]
    }
   ],
   "source": [
    "for t in subset:\n",
    "    print(generate_res(t, make_text_promt))"
   ]
  },
  {
   "cell_type": "markdown",
   "metadata": {},
   "source": [
    "В целом, модель улавливает и использует информацию из дополнительных полей, пусть и со своими нюансами, вызванными несовершенством датасета. Как мне кажется, можно продолжить использование такого подхода к формированию промпта"
   ]
  },
  {
   "cell_type": "code",
   "execution_count": 13,
   "metadata": {},
   "outputs": [],
   "source": [
    "del subset\n",
    "del test_model"
   ]
  },
  {
   "cell_type": "markdown",
   "metadata": {},
   "source": [
    "# Train"
   ]
  },
  {
   "cell_type": "code",
   "execution_count": 22,
   "metadata": {},
   "outputs": [],
   "source": [
    "peft_conf = LoraConfig(\n",
    "    TaskType.SEQ_2_SEQ_LM,\n",
    "    r=64,\n",
    "    lora_alpha=32,\n",
    "    target_modules=['q', 'v'],\n",
    "    lora_dropout=0.05,\n",
    "    bias='none',\n",
    "    inference_mode=False\n",
    ")\n",
    "\n",
    "peft_model = get_peft_model(model, peft_conf)"
   ]
  },
  {
   "cell_type": "markdown",
   "metadata": {},
   "source": [
    "Из-за того, что описание в некоторых редких случаях может быть очень длинным, предлагаю обрезать его по колличеству слов, разделенных пробелом."
   ]
  },
  {
   "cell_type": "code",
   "execution_count": 15,
   "metadata": {},
   "outputs": [],
   "source": [
    "def preprocess(e):\n",
    "    out = tokenizer(\n",
    "        f'''\n",
    "ответчик: {e['target_responder']}\n",
    "тип: {e['target_type']}\n",
    "название: {e['target_product_name']}\n",
    "категория 2: {e['target_product_category_2']}\n",
    "цвет: {e['target_product_color']}\n",
    "бренд: {e['target_product_brand']}\n",
    "описание: {' '.join(e['target_product_description'].split(' ')[:250])}\n",
    "токсичность: {e['toxicity']}\n",
    "эиоциональность: {e['emotions']}\n",
    "текст: {e['text']}\n",
    "        ''',\n",
    "        truncation=True,\n",
    "        max_length=1500,\n",
    "        return_tensors='pt'\n",
    "    )\n",
    "\n",
    "    out['input_ids'] = out['input_ids'][0] # type: ignore\n",
    "    out['attention_mask'] = out['attention_mask'][0] # type: ignore\n",
    "\n",
    "    labels = tokenizer(\n",
    "        text_target=e['target_text'], \n",
    "        max_length=1300,         \n",
    "        truncation=True,\n",
    "        return_tensors='pt'\n",
    "    )\n",
    "    out['labels'] = labels['input_ids'][0] # type: ignore\n",
    "    \n",
    "    return out"
   ]
  },
  {
   "cell_type": "code",
   "execution_count": 16,
   "metadata": {},
   "outputs": [
    {
     "data": {
      "application/vnd.jupyter.widget-view+json": {
       "model_id": "a66537880ea54f149e46dee17741abb0",
       "version_major": 2,
       "version_minor": 0
      },
      "text/plain": [
       "Map:   0%|          | 0/1683 [00:00<?, ? examples/s]"
      ]
     },
     "metadata": {},
     "output_type": "display_data"
    },
    {
     "data": {
      "text/plain": [
       "Dataset({\n",
       "    features: ['input_ids', 'attention_mask', 'labels'],\n",
       "    num_rows: 15147\n",
       "})"
      ]
     },
     "execution_count": 16,
     "metadata": {},
     "output_type": "execute_result"
    }
   ],
   "source": [
    "train = train.map(preprocess, remove_columns=train.column_names) # type: ignore\n",
    "test = test.map(preprocess, remove_columns=test.column_names) # type: ignore\n",
    "\n",
    "train"
   ]
  },
  {
   "cell_type": "code",
   "execution_count": 17,
   "metadata": {},
   "outputs": [
    {
     "data": {
      "text/plain": [
       "'64493f6d-6985-4089-9b47-f9ccc6ab248e'"
      ]
     },
     "execution_count": 17,
     "metadata": {},
     "output_type": "execute_result"
    }
   ],
   "source": [
    "checkpoint = str(uuid.uuid4())\n",
    "\n",
    "checkpoint"
   ]
  },
  {
   "cell_type": "code",
   "execution_count": 18,
   "metadata": {},
   "outputs": [],
   "source": [
    "os.makedirs(f'./models/{checkpoint}')"
   ]
  },
  {
   "cell_type": "code",
   "execution_count": 23,
   "metadata": {},
   "outputs": [],
   "source": [
    "args = Seq2SeqTrainingArguments(\n",
    "    output_dir=f'./models/{checkpoint}/runs',\n",
    "    eval_strategy='epoch',\n",
    "    per_device_train_batch_size=5,\n",
    "    per_device_eval_batch_size=5,\n",
    "    num_train_epochs=20,\n",
    "    learning_rate=0.001,\n",
    "    warmup_ratio=0.1,\n",
    "    weight_decay=0.01,\n",
    "    save_strategy='no',\n",
    "    remove_unused_columns=False,\n",
    "    bf16=True\n",
    ")\n",
    "\n",
    "trainer = Seq2SeqTrainer(\n",
    "    model=peft_model, # type: ignore\n",
    "    args=args,\n",
    "    data_collator=coll,\n",
    "    train_dataset=train, # type: ignore\n",
    "    eval_dataset=test, # type: ignore\n",
    ")"
   ]
  },
  {
   "cell_type": "code",
   "execution_count": 24,
   "metadata": {},
   "outputs": [
    {
     "data": {
      "text/html": [
       "\n",
       "    <div>\n",
       "      \n",
       "      <progress value='60600' max='60600' style='width:300px; height:20px; vertical-align: middle;'></progress>\n",
       "      [60600/60600 2:56:40, Epoch 20/20]\n",
       "    </div>\n",
       "    <table border=\"1\" class=\"dataframe\">\n",
       "  <thead>\n",
       " <tr style=\"text-align: left;\">\n",
       "      <th>Epoch</th>\n",
       "      <th>Training Loss</th>\n",
       "      <th>Validation Loss</th>\n",
       "    </tr>\n",
       "  </thead>\n",
       "  <tbody>\n",
       "    <tr>\n",
       "      <td>1</td>\n",
       "      <td>4.209300</td>\n",
       "      <td>3.713458</td>\n",
       "    </tr>\n",
       "    <tr>\n",
       "      <td>2</td>\n",
       "      <td>4.061100</td>\n",
       "      <td>3.634942</td>\n",
       "    </tr>\n",
       "    <tr>\n",
       "      <td>3</td>\n",
       "      <td>3.950500</td>\n",
       "      <td>3.566897</td>\n",
       "    </tr>\n",
       "    <tr>\n",
       "      <td>4</td>\n",
       "      <td>3.864400</td>\n",
       "      <td>3.532361</td>\n",
       "    </tr>\n",
       "    <tr>\n",
       "      <td>5</td>\n",
       "      <td>3.845700</td>\n",
       "      <td>3.515254</td>\n",
       "    </tr>\n",
       "    <tr>\n",
       "      <td>6</td>\n",
       "      <td>3.776400</td>\n",
       "      <td>3.496408</td>\n",
       "    </tr>\n",
       "    <tr>\n",
       "      <td>7</td>\n",
       "      <td>3.696100</td>\n",
       "      <td>3.463669</td>\n",
       "    </tr>\n",
       "    <tr>\n",
       "      <td>8</td>\n",
       "      <td>3.646600</td>\n",
       "      <td>3.454564</td>\n",
       "    </tr>\n",
       "    <tr>\n",
       "      <td>9</td>\n",
       "      <td>3.634800</td>\n",
       "      <td>3.436319</td>\n",
       "    </tr>\n",
       "    <tr>\n",
       "      <td>10</td>\n",
       "      <td>3.533500</td>\n",
       "      <td>3.428693</td>\n",
       "    </tr>\n",
       "    <tr>\n",
       "      <td>11</td>\n",
       "      <td>3.496300</td>\n",
       "      <td>3.427856</td>\n",
       "    </tr>\n",
       "    <tr>\n",
       "      <td>12</td>\n",
       "      <td>3.489400</td>\n",
       "      <td>3.388258</td>\n",
       "    </tr>\n",
       "    <tr>\n",
       "      <td>13</td>\n",
       "      <td>3.409600</td>\n",
       "      <td>3.401125</td>\n",
       "    </tr>\n",
       "    <tr>\n",
       "      <td>14</td>\n",
       "      <td>3.437600</td>\n",
       "      <td>3.384095</td>\n",
       "    </tr>\n",
       "    <tr>\n",
       "      <td>15</td>\n",
       "      <td>3.364300</td>\n",
       "      <td>3.382650</td>\n",
       "    </tr>\n",
       "    <tr>\n",
       "      <td>16</td>\n",
       "      <td>3.306500</td>\n",
       "      <td>3.374846</td>\n",
       "    </tr>\n",
       "    <tr>\n",
       "      <td>17</td>\n",
       "      <td>3.274700</td>\n",
       "      <td>3.374699</td>\n",
       "    </tr>\n",
       "    <tr>\n",
       "      <td>18</td>\n",
       "      <td>3.262500</td>\n",
       "      <td>3.373477</td>\n",
       "    </tr>\n",
       "    <tr>\n",
       "      <td>19</td>\n",
       "      <td>3.213400</td>\n",
       "      <td>3.368388</td>\n",
       "    </tr>\n",
       "    <tr>\n",
       "      <td>20</td>\n",
       "      <td>3.198100</td>\n",
       "      <td>3.368868</td>\n",
       "    </tr>\n",
       "  </tbody>\n",
       "</table><p>"
      ],
      "text/plain": [
       "<IPython.core.display.HTML object>"
      ]
     },
     "metadata": {},
     "output_type": "display_data"
    },
    {
     "data": {
      "text/plain": [
       "TrainOutput(global_step=60600, training_loss=3.612685836439479, metrics={'train_runtime': 10600.6585, 'train_samples_per_second': 28.577, 'train_steps_per_second': 5.717, 'total_flos': 1.750491822876457e+17, 'train_loss': 3.612685836439479, 'epoch': 20.0})"
      ]
     },
     "execution_count": 24,
     "metadata": {},
     "output_type": "execute_result"
    }
   ],
   "source": [
    "trainer.train()"
   ]
  },
  {
   "cell_type": "code",
   "execution_count": 25,
   "metadata": {},
   "outputs": [],
   "source": [
    "trainer.save_model(f'./models/{checkpoint}/model')"
   ]
  },
  {
   "cell_type": "markdown",
   "metadata": {},
   "source": [
    "# Eval"
   ]
  },
  {
   "cell_type": "code",
   "execution_count": 26,
   "metadata": {},
   "outputs": [
    {
     "name": "stderr",
     "output_type": "stream",
     "text": [
      "[nltk_data] Downloading package wordnet to /home/ubuntu/nltk_data...\n",
      "[nltk_data]   Package wordnet is already up-to-date!\n",
      "[nltk_data] Downloading package punkt_tab to /home/ubuntu/nltk_data...\n",
      "[nltk_data]   Package punkt_tab is already up-to-date!\n",
      "[nltk_data] Downloading package omw-1.4 to /home/ubuntu/nltk_data...\n",
      "[nltk_data]   Package omw-1.4 is already up-to-date!\n"
     ]
    }
   ],
   "source": [
    "meteor = evaluate.load('evaluate-metric/meteor')\n",
    "rouge = evaluate.load('evaluate-metric/rouge')\n",
    "bleu = evaluate.load('evaluate-metric/bleu')"
   ]
  },
  {
   "cell_type": "code",
   "execution_count": 27,
   "metadata": {},
   "outputs": [
    {
     "name": "stderr",
     "output_type": "stream",
     "text": [
      "  0%|          | 0/1683 [00:00<?, ?it/s]/home/ubuntu/.venv/lib/python3.12/site-packages/transformers/generation/utils.py:1375: UserWarning: Using the model-agnostic default `max_length` (=20) to control the generation length. We recommend setting `max_new_tokens` to control the maximum length of the generation.\n",
      "  warnings.warn(\n",
      "100%|██████████| 1683/1683 [11:48<00:00,  2.38it/s]\n"
     ]
    }
   ],
   "source": [
    "targets = []\n",
    "preds = []\n",
    "for row in tqdm(test):\n",
    "    text_input_ids = torch.LongTensor([row['input_ids']]).to('cuda:0')\n",
    "    text_attention_mask = torch.LongTensor([row['attention_mask']]).to('cuda:0')\n",
    "\n",
    "    model_out = model.generate(\n",
    "        input_ids=text_input_ids, \n",
    "        attention_mask=text_attention_mask,\n",
    "        top_k=1,\n",
    "        do_sample=True\n",
    "    )[0]\n",
    "\n",
    "    preds.append(tokenizer.decode(model_out, skip_special_tokens=True))\n",
    "    targets.append(tokenizer.decode(row['labels'], skip_special_tokens=True))"
   ]
  },
  {
   "cell_type": "code",
   "execution_count": 28,
   "metadata": {},
   "outputs": [
    {
     "name": "stdout",
     "output_type": "stream",
     "text": [
      "\n",
      "Test metrice:\n",
      "Meteor: 0.20874153798152043\n",
      "Rouge: 0.029328066789348607,\n",
      "Bleu: 0.012508183241244055\n",
      "\n"
     ]
    }
   ],
   "source": [
    "print(f'''\n",
    "Test metrice:\n",
    "Meteor: {meteor.compute(predictions=preds, references=targets)['meteor']}\n",
    "Rouge: {rouge.compute(predictions=preds, references=targets)['rougeLsum']},\n",
    "Bleu: {bleu.compute(predictions=preds, references=targets)['bleu']}\n",
    "''')"
   ]
  },
  {
   "cell_type": "code",
   "execution_count": 33,
   "metadata": {},
   "outputs": [],
   "source": [
    "train_epoch = []\n",
    "train_loss = []\n",
    "test_epoch = []\n",
    "test_loss = []\n",
    "\n",
    "for obj in trainer.state.log_history:\n",
    "    if 'loss' in obj:\n",
    "        train_epoch.append(obj['epoch'])\n",
    "        train_loss.append(obj['loss'])\n",
    "    elif 'eval_loss' in obj:\n",
    "        test_epoch.append(obj['epoch'])\n",
    "        test_loss.append(obj['eval_loss'])"
   ]
  },
  {
   "cell_type": "code",
   "execution_count": 47,
   "metadata": {},
   "outputs": [
    {
     "data": {
      "image/png": "[encoded data removed]",
      "text/plain": [
       "<Figure size 640x480 with 1 Axes>"
      ]
     },
     "metadata": {},
     "output_type": "display_data"
    }
   ],
   "source": [
    "import pandas as pd\n",
    "import seaborn as sns\n",
    "import matplotlib.pyplot as plt\n",
    "\n",
    "train_log = pd.DataFrame({\n",
    "    'loss': train_loss,\n",
    "    'epoch': train_epoch\n",
    "})\n",
    "test_log = pd.DataFrame({\n",
    "    'loss': test_loss,\n",
    "    'epoch': test_epoch\n",
    "})\n",
    "\n",
    "sns.lineplot(\n",
    "    data=train_log,\n",
    "    x='epoch',\n",
    "    y='loss'\n",
    ")\n",
    "sns.lineplot(\n",
    "    data=test_log,\n",
    "    x='epoch',\n",
    "    y='loss'\n",
    ")\n",
    "\n",
    "plt.show()"
   ]
  },
  {
   "cell_type": "markdown",
   "metadata": {},
   "source": [
    "Можно сказать, что модель достигла максимума, так как на валидационном датасете изменений нет, если продолжить обучения есть риск начала переобучения"
   ]
  }
 ],
 "metadata": {
  "kernelspec": {
   "display_name": "Python 3 (ipykernel)",
   "language": "python",
   "name": "python3"
  }
 },
 "nbformat": 4,
 "nbformat_minor": 2
}
