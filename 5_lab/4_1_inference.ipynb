{
 "cells": [
  {
   "cell_type": "markdown",
   "metadata": {},
   "source": [
    "Здесь мы звпускаем прогон модели на части тестовой выборке для демонстрации модели на новых данных"
   ]
  },
  {
   "cell_type": "code",
   "execution_count": 1,
   "metadata": {},
   "outputs": [],
   "source": [
    "import torch\n",
    "import numpy as np\n",
    "import pandas as pd\n",
    "from datasets import Dataset\n",
    "from optimum.onnxruntime import ORTModelForSequenceClassification\n",
    "from transformers import AutoTokenizer, pipeline\n",
    "from peft import AutoPeftModelForSeq2SeqLM # type: ignore\n",
    "from tqdm import tqdm\n",
    "\n",
    "tqdm.pandas()"
   ]
  },
  {
   "cell_type": "code",
   "execution_count": 2,
   "metadata": {},
   "outputs": [
    {
     "data": {
      "text/html": [
       "<div>\n",
       "<style scoped>\n",
       "    .dataframe tbody tr th:only-of-type {\n",
       "        vertical-align: middle;\n",
       "    }\n",
       "\n",
       "    .dataframe tbody tr th {\n",
       "        vertical-align: top;\n",
       "    }\n",
       "\n",
       "    .dataframe thead th {\n",
       "        text-align: right;\n",
       "    }\n",
       "</style>\n",
       "<table border=\"1\" class=\"dataframe\">\n",
       "  <thead>\n",
       "    <tr style=\"text-align: right;\">\n",
       "      <th></th>\n",
       "      <th>nmId</th>\n",
       "      <th>text</th>\n",
       "      <th>responder</th>\n",
       "      <th>type</th>\n",
       "      <th>product_name</th>\n",
       "      <th>product_category_2</th>\n",
       "      <th>product_category_1</th>\n",
       "      <th>product_color</th>\n",
       "      <th>product_description</th>\n",
       "      <th>product_brand</th>\n",
       "    </tr>\n",
       "  </thead>\n",
       "  <tbody>\n",
       "    <tr>\n",
       "      <th>135773</th>\n",
       "      <td>1068588</td>\n",
       "      <td>Здравствуйте. Данная модель рассчитана на темп...</td>\n",
       "      <td>Магазин</td>\n",
       "      <td>Вопрос</td>\n",
       "      <td>Комбинезон</td>\n",
       "      <td>Комбинезоны для малышей</td>\n",
       "      <td>Одежда для малышей</td>\n",
       "      <td>синий</td>\n",
       "      <td></td>\n",
       "      <td>Bell bimbo</td>\n",
       "    </tr>\n",
       "    <tr>\n",
       "      <th>101538</th>\n",
       "      <td>28885528</td>\n",
       "      <td>Добрый день! Большое спасибо за Ваш отзыв! Мы ...</td>\n",
       "      <td>Магазин</td>\n",
       "      <td>Отзыв</td>\n",
       "      <td>Юбка женская летняя для девочки</td>\n",
       "      <td>Юбки</td>\n",
       "      <td>Одежда</td>\n",
       "      <td>серый</td>\n",
       "      <td>Юбка LUNA миди, с разрезом. Ткань - вискоза 10...</td>\n",
       "      <td>Luna style</td>\n",
       "    </tr>\n",
       "    <tr>\n",
       "      <th>371650</th>\n",
       "      <td>8976468</td>\n",
       "      <td>В отзывах 28.08. Модель представлена ЦВЕТ СИНИ...</td>\n",
       "      <td>Клиент</td>\n",
       "      <td>Вопрос</td>\n",
       "      <td>Платье \"Школьница\"</td>\n",
       "      <td>Платья</td>\n",
       "      <td>Одежда</td>\n",
       "      <td>антрацитовый, белый, серый, черный</td>\n",
       "      <td>Платье для девочки выполнено из теплого хлопко...</td>\n",
       "      <td>Апрель</td>\n",
       "    </tr>\n",
       "    <tr>\n",
       "      <th>102265</th>\n",
       "      <td>3883790</td>\n",
       "      <td>Качество вроде нормальное, ткань тонкая, легка...</td>\n",
       "      <td>Клиент</td>\n",
       "      <td>Отзыв</td>\n",
       "      <td>Юбка</td>\n",
       "      <td>Юбки</td>\n",
       "      <td>Одежда</td>\n",
       "      <td>красный, черный</td>\n",
       "      <td></td>\n",
       "      <td>RAMANTI</td>\n",
       "    </tr>\n",
       "    <tr>\n",
       "      <th>337147</th>\n",
       "      <td>2992008</td>\n",
       "      <td>Хотелось бы уточнить есть ли у этой блузки вор...</td>\n",
       "      <td>Клиент</td>\n",
       "      <td>Вопрос</td>\n",
       "      <td>Блузка</td>\n",
       "      <td>Блузки</td>\n",
       "      <td>Одежда</td>\n",
       "      <td>темно-синий, синий, зеленый, темно-зеленый, кр...</td>\n",
       "      <td></td>\n",
       "      <td>OLBE</td>\n",
       "    </tr>\n",
       "    <tr>\n",
       "      <th>...</th>\n",
       "      <td>...</td>\n",
       "      <td>...</td>\n",
       "      <td>...</td>\n",
       "      <td>...</td>\n",
       "      <td>...</td>\n",
       "      <td>...</td>\n",
       "      <td>...</td>\n",
       "      <td>...</td>\n",
       "      <td>...</td>\n",
       "      <td>...</td>\n",
       "    </tr>\n",
       "    <tr>\n",
       "      <th>14740</th>\n",
       "      <td>11977609</td>\n",
       "      <td>Жакет приобрела вместе с юбкой, качество изгот...</td>\n",
       "      <td>Клиент</td>\n",
       "      <td>Отзыв</td>\n",
       "      <td>Жакет</td>\n",
       "      <td>Жакеты</td>\n",
       "      <td>Одежда</td>\n",
       "      <td>темно-синий, белый</td>\n",
       "      <td>Способность жакета одновременно визуально прид...</td>\n",
       "      <td>Модный дом Виктории Тишиной</td>\n",
       "    </tr>\n",
       "    <tr>\n",
       "      <th>431080</th>\n",
       "      <td>13616454</td>\n",
       "      <td>Невообразимо красивое кольцо! \\nКамень ровный,...</td>\n",
       "      <td>Клиент</td>\n",
       "      <td>Отзыв</td>\n",
       "      <td>ювелирное кольцо</td>\n",
       "      <td>Ювелирные кольца</td>\n",
       "      <td>Ювелирные украшения</td>\n",
       "      <td>белый</td>\n",
       "      <td>Кольцо с натуральным лунным камнем! Вставка - ...</td>\n",
       "      <td>NARIMAN JEWELLERY</td>\n",
       "    </tr>\n",
       "    <tr>\n",
       "      <th>128626</th>\n",
       "      <td>4012784</td>\n",
       "      <td>Способ применения указан на стикере.</td>\n",
       "      <td>Магазин</td>\n",
       "      <td>Вопрос</td>\n",
       "      <td>Ампульная сыворотка с пептидами</td>\n",
       "      <td>Сыворотки</td>\n",
       "      <td>Красота</td>\n",
       "      <td></td>\n",
       "      <td>Комплекс пептидов в составе сыворотки (олигопе...</td>\n",
       "      <td>La miso</td>\n",
       "    </tr>\n",
       "    <tr>\n",
       "      <th>173010</th>\n",
       "      <td>5592352</td>\n",
       "      <td>Добрый день! Да.</td>\n",
       "      <td>Магазин</td>\n",
       "      <td>Вопрос</td>\n",
       "      <td>Интерьерная наклейка \"Бабочки\" с сильным клеев...</td>\n",
       "      <td>Наклейки интерьерные</td>\n",
       "      <td>Дом</td>\n",
       "      <td>белый</td>\n",
       "      <td>Интерьерная наклейка \"Бабочки\" с сильным клеев...</td>\n",
       "      <td>Оранжевый Слоник</td>\n",
       "    </tr>\n",
       "    <tr>\n",
       "      <th>7158</th>\n",
       "      <td>2857588</td>\n",
       "      <td>Здравствуйте! В составе 65% шерсть, 35% полиэф...</td>\n",
       "      <td>Магазин</td>\n",
       "      <td>Вопрос</td>\n",
       "      <td>Одеяло Золотое руно 1,5 140х205 легкое, облегч...</td>\n",
       "      <td>Одеяла</td>\n",
       "      <td>Дом</td>\n",
       "      <td>бежевый</td>\n",
       "      <td>Хотите купить одеяло, которое согревает в холо...</td>\n",
       "      <td>ECOTEX</td>\n",
       "    </tr>\n",
       "  </tbody>\n",
       "</table>\n",
       "<p>200 rows × 10 columns</p>\n",
       "</div>"
      ],
      "text/plain": [
       "            nmId                                               text responder  \\\n",
       "135773   1068588  Здравствуйте. Данная модель рассчитана на темп...   Магазин   \n",
       "101538  28885528  Добрый день! Большое спасибо за Ваш отзыв! Мы ...   Магазин   \n",
       "371650   8976468  В отзывах 28.08. Модель представлена ЦВЕТ СИНИ...    Клиент   \n",
       "102265   3883790  Качество вроде нормальное, ткань тонкая, легка...    Клиент   \n",
       "337147   2992008  Хотелось бы уточнить есть ли у этой блузки вор...    Клиент   \n",
       "...          ...                                                ...       ...   \n",
       "14740   11977609  Жакет приобрела вместе с юбкой, качество изгот...    Клиент   \n",
       "431080  13616454  Невообразимо красивое кольцо! \\nКамень ровный,...    Клиент   \n",
       "128626   4012784              Способ применения указан на стикере.    Магазин   \n",
       "173010   5592352                                   Добрый день! Да.   Магазин   \n",
       "7158     2857588  Здравствуйте! В составе 65% шерсть, 35% полиэф...   Магазин   \n",
       "\n",
       "          type                                       product_name  \\\n",
       "135773  Вопрос                                         Комбинезон   \n",
       "101538   Отзыв                   Юбка женская летняя для девочки    \n",
       "371650  Вопрос                                 Платье \"Школьница\"   \n",
       "102265   Отзыв                                               Юбка   \n",
       "337147  Вопрос                                             Блузка   \n",
       "...        ...                                                ...   \n",
       "14740    Отзыв                                              Жакет   \n",
       "431080   Отзыв                                   ювелирное кольцо   \n",
       "128626  Вопрос                    Ампульная сыворотка с пептидами   \n",
       "173010  Вопрос  Интерьерная наклейка \"Бабочки\" с сильным клеев...   \n",
       "7158    Вопрос  Одеяло Золотое руно 1,5 140х205 легкое, облегч...   \n",
       "\n",
       "             product_category_2   product_category_1  \\\n",
       "135773  Комбинезоны для малышей   Одежда для малышей   \n",
       "101538                     Юбки               Одежда   \n",
       "371650                   Платья               Одежда   \n",
       "102265                     Юбки               Одежда   \n",
       "337147                   Блузки               Одежда   \n",
       "...                         ...                  ...   \n",
       "14740                    Жакеты               Одежда   \n",
       "431080         Ювелирные кольца  Ювелирные украшения   \n",
       "128626                Сыворотки              Красота   \n",
       "173010     Наклейки интерьерные                  Дом   \n",
       "7158                     Одеяла                  Дом   \n",
       "\n",
       "                                            product_color  \\\n",
       "135773                                              синий   \n",
       "101538                                              серый   \n",
       "371650                 антрацитовый, белый, серый, черный   \n",
       "102265                                    красный, черный   \n",
       "337147  темно-синий, синий, зеленый, темно-зеленый, кр...   \n",
       "...                                                   ...   \n",
       "14740                                  темно-синий, белый   \n",
       "431080                                              белый   \n",
       "128626                                                      \n",
       "173010                                              белый   \n",
       "7158                                              бежевый   \n",
       "\n",
       "                                      product_description  \\\n",
       "135773                                                      \n",
       "101538  Юбка LUNA миди, с разрезом. Ткань - вискоза 10...   \n",
       "371650  Платье для девочки выполнено из теплого хлопко...   \n",
       "102265                                                      \n",
       "337147                                                      \n",
       "...                                                   ...   \n",
       "14740   Способность жакета одновременно визуально прид...   \n",
       "431080  Кольцо с натуральным лунным камнем! Вставка - ...   \n",
       "128626  Комплекс пептидов в составе сыворотки (олигопе...   \n",
       "173010  Интерьерная наклейка \"Бабочки\" с сильным клеев...   \n",
       "7158    Хотите купить одеяло, которое согревает в холо...   \n",
       "\n",
       "                      product_brand  \n",
       "135773                   Bell bimbo  \n",
       "101538                   Luna style  \n",
       "371650                       Апрель  \n",
       "102265                      RAMANTI  \n",
       "337147                         OLBE  \n",
       "...                             ...  \n",
       "14740   Модный дом Виктории Тишиной  \n",
       "431080            NARIMAN JEWELLERY  \n",
       "128626                      La miso  \n",
       "173010             Оранжевый Слоник  \n",
       "7158                         ECOTEX  \n",
       "\n",
       "[200 rows x 10 columns]"
      ]
     },
     "execution_count": 2,
     "metadata": {},
     "output_type": "execute_result"
    }
   ],
   "source": [
    "df = pd.read_parquet('./__input__/test.parquet').drop('__index_level_0__', axis=1)\n",
    "df = df.drop_duplicates().dropna()\n",
    "df = df.sample(200)\n",
    "\n",
    "df"
   ]
  },
  {
   "cell_type": "code",
   "execution_count": 3,
   "metadata": {},
   "outputs": [],
   "source": [
    "ds = Dataset.from_pandas(df)"
   ]
  },
  {
   "cell_type": "code",
   "execution_count": 4,
   "metadata": {},
   "outputs": [],
   "source": [
    "def load_calssif(name: str):\n",
    "    return pipeline(\n",
    "        task='text-classification',\n",
    "        model=ORTModelForSequenceClassification.from_pretrained(\n",
    "            name,\n",
    "            export=True,\n",
    "            provider=\"CUDAExecutionProvider\",\n",
    "            use_io_binding=True\n",
    "        ), # type: ignore\n",
    "        tokenizer=AutoTokenizer.from_pretrained(\n",
    "            name,\n",
    "            useFast=True\n",
    "        ),\n",
    "        device='cuda:0'\n",
    "    )"
   ]
  },
  {
   "cell_type": "code",
   "execution_count": 5,
   "metadata": {},
   "outputs": [
    {
     "name": "stderr",
     "output_type": "stream",
     "text": [
      "\u001b[0;93m2024-12-23 20:06:50.103659366 [W:onnxruntime:, transformer_memcpy.cc:74 ApplyImpl] 3 Memcpy nodes are added to the graph main_graph for CUDAExecutionProvider. It might have negative impact on performance (including unable to run CUDA graph). Set session_options.log_severity_level=1 to see the detail logs before this message.\u001b[m\n"
     ]
    }
   ],
   "source": [
    "tox_class_pipe = load_calssif('cointegrated/rubert-tiny-toxicity')\n",
    "emot_class_pipe = load_calssif('cointegrated/rubert-tiny2-cedr-emotion-detection')"
   ]
  },
  {
   "cell_type": "code",
   "execution_count": 6,
   "metadata": {},
   "outputs": [],
   "source": [
    "def predict(row):\n",
    "    return {\n",
    "        **row,\n",
    "        'toxicity': tox_class_pipe(row['text'][:tox_class_pipe.tokenizer.model_max_length])[0]['label'], # type: ignore\n",
    "        'emotions': emot_class_pipe(row['text'][:emot_class_pipe.tokenizer.model_max_length])[0]['label'] # type: ignore\n",
    "    }"
   ]
  },
  {
   "cell_type": "code",
   "execution_count": 7,
   "metadata": {},
   "outputs": [
    {
     "name": "stderr",
     "output_type": "stream",
     "text": [
      "Parameter 'function'=<function predict at 0x710a9abed8a0> of the transform datasets.arrow_dataset.Dataset._map_single couldn't be hashed properly, a random hash was used instead. Make sure your transforms and parameters are serializable with pickle or dill for the dataset fingerprinting and caching to work. If you reuse this transform, the caching mechanism will consider it to be different from the previous calls and recompute everything. This warning is only showed once. Subsequent hashing failures won't be showed.\n"
     ]
    },
    {
     "data": {
      "application/vnd.jupyter.widget-view+json": {
       "model_id": "9037fbb3016e4887bc0c591be8ba2af4",
       "version_major": 2,
       "version_minor": 0
      },
      "text/plain": [
       "Map:   0%|          | 0/200 [00:00<?, ? examples/s]"
      ]
     },
     "metadata": {},
     "output_type": "display_data"
    },
    {
     "name": "stderr",
     "output_type": "stream",
     "text": [
      "You seem to be using the pipelines sequentially on GPU. In order to maximize efficiency please use a dataset\n"
     ]
    }
   ],
   "source": [
    "\n",
    "ds = ds.map(predict)"
   ]
  },
  {
   "cell_type": "code",
   "execution_count": 8,
   "metadata": {},
   "outputs": [
    {
     "name": "stderr",
     "output_type": "stream",
     "text": [
      "You are using the default legacy behaviour of the <class 'transformers.models.t5.tokenization_t5.T5Tokenizer'>. This is expected, and simply means that the `legacy` (previous) behavior will be used so nothing changes for you. If you want to use the new behaviour, set `legacy=False`. This should only be set if you understand what it means, and thoroughly read the reason why this was added as explained in https://github.com/huggingface/transformers/pull/24565\n"
     ]
    }
   ],
   "source": [
    "model = AutoPeftModelForSeq2SeqLM.from_pretrained(\n",
    "    './models/25494ed9-f307-4293-a192-80678a7aca3a/model',\n",
    "    device_map='cuda:0',\n",
    "    torch_dtype=torch.bfloat16\n",
    ")\n",
    "tokenizer = AutoTokenizer.from_pretrained(\n",
    "    'ai-forever/ruT5-base',\n",
    "    useFast=True\n",
    ")"
   ]
  },
  {
   "cell_type": "code",
   "execution_count": 9,
   "metadata": {},
   "outputs": [],
   "source": [
    "def make_full_promt(e):\n",
    "    return f'''\n",
    "ответчик: {e['responder']}\n",
    "тип: {e['type']}\n",
    "название: {e['product_name']}\n",
    "категория 2: {e['product_category_2']}\n",
    "цвет: {e['product_color']}\n",
    "бренд: {e['product_brand']}\n",
    "описание: {e['product_description']}\n",
    "токсичность: {e['toxicity']}\n",
    "эиоциональность: {e['emotions']}\n",
    "текст: {e['text']}\n",
    "    '''\n",
    "\n",
    "\n",
    "def generate_res(row):\n",
    "    model_in = tokenizer(\n",
    "        make_full_promt(row),\n",
    "        truncation=True,\n",
    "        max_length=1400,\n",
    "        return_tensors='pt'\n",
    "    ).to('cuda:0')\n",
    "\n",
    "    model_out = model.generate(\n",
    "        **model_in,\n",
    "        max_new_tokens=300,\n",
    "        top_k=1,\n",
    "        do_sample=True,\n",
    "    )[0]\n",
    "    return {\n",
    "        **row,\n",
    "        'preds': tokenizer.decode(model_out, skip_special_tokens=True)\n",
    "    }"
   ]
  },
  {
   "cell_type": "code",
   "execution_count": 10,
   "metadata": {},
   "outputs": [
    {
     "data": {
      "application/vnd.jupyter.widget-view+json": {
       "model_id": "8b3a7bda840b4780ac37cd78ce75fd68",
       "version_major": 2,
       "version_minor": 0
      },
      "text/plain": [
       "Map:   0%|          | 0/200 [00:00<?, ? examples/s]"
      ]
     },
     "metadata": {},
     "output_type": "display_data"
    },
    {
     "data": {
      "text/plain": [
       "Dataset({\n",
       "    features: ['nmId', 'text', 'responder', 'type', 'product_name', 'product_category_2', 'product_category_1', 'product_color', 'product_description', 'product_brand', '__index_level_0__', 'toxicity', 'emotions', 'preds'],\n",
       "    num_rows: 200\n",
       "})"
      ]
     },
     "execution_count": 10,
     "metadata": {},
     "output_type": "execute_result"
    }
   ],
   "source": [
    "ds = ds.map(generate_res)\n",
    "\n",
    "ds"
   ]
  },
  {
   "cell_type": "code",
   "execution_count": 11,
   "metadata": {},
   "outputs": [
    {
     "data": {
      "application/vnd.jupyter.widget-view+json": {
       "model_id": "f611f96b563440f0805fe5d1bfb406d4",
       "version_major": 2,
       "version_minor": 0
      },
      "text/plain": [
       "Creating parquet from Arrow format:   0%|          | 0/1 [00:00<?, ?ba/s]"
      ]
     },
     "metadata": {},
     "output_type": "display_data"
    },
    {
     "data": {
      "text/plain": [
       "382902"
      ]
     },
     "execution_count": 11,
     "metadata": {},
     "output_type": "execute_result"
    }
   ],
   "source": [
    "ds.to_parquet('./__output__/test_res.parquet')"
   ]
  },
  {
   "cell_type": "markdown",
   "metadata": {},
   "source": [
    "Вывод случайных 20 предложений в формате - {Изначальный текст} -> {После обработки моделью}"
   ]
  },
  {
   "cell_type": "code",
   "execution_count": 12,
   "metadata": {},
   "outputs": [
    {
     "name": "stdout",
     "output_type": "stream",
     "text": [
      "-------------------------\n",
      "\n",
      "Добрый день.Давно ищу эту пудру 13 оттенок HONEY BEIGE..Будет ли он в продаже? -> Здравствуйте! Будет ли в продаже эта пудра 13 оттенка?\n",
      "\n",
      "-------------------------\n",
      "\n",
      "Коврик бомба за свои деньги, при том что зайдя в магазин техники. Такой можно найти минимум от 1500.\n",
      "Большое спасибо продавцу.\n",
      "Очень надеюсь что до «умных» покупателей дойдет то что работная сторона черная и они перестанут портить рейтинг реально нормальным вещам) -> Коврик отличный, но за свои деньги он не стоит таких денег. За такую цену можно купить и за 1500. Но это не критично. Коврик не очень удобный, но если вы хотите купить, то лучше купить в подарок.\n",
      "\n",
      "-------------------------\n",
      "\n",
      "КАК БРАК НЕ ПОДТВЕРЖДЕН???? Мы сначала всем пунктом самовывоза во Владивостоке пытались  понять ЧТО ЭТО ТАКОЕ, а потом удивлялись - КАК ЭТО МОНО БЫЛО ПРИСЛАТЬ!!! 1. Крылья были припаяны в цепочками другой стороной, т.е. в месте соединения в центре колье были ДЛИННЫЕ КОНЧИКИ ПЕРЬЕВ - это НЕ БРАК????? 2. Страз в центре колье был прикреплен ВВЕРХ!!! Товар рассматривали на пункте самовывоза.  У вас на сортировках КТО работает?   -> Колье пришло в ужасном состоянии, не было ни одной детали, ни одной детали, ни одной детали, ни одной детали. В пункте выдачи не проверили, не проверили, не проверили, не проверили, не проверили, не проверили, не проверили, не проверили, не проверила, не проверяла, не проверяла, не проверяла, не проверяла.\n",
      "\n",
      "-------------------------\n",
      "\n",
      "Здравствуйте! Спасибо, очень приятно)) -> Здравствуйте! Очень приятно!\n",
      "\n",
      "-------------------------\n",
      "\n",
      "Здравствуйте! Некоторые пишут, что производитель Россия. Такое может быть? -> Здравствуйте! Подскажите, пожалуйста, производитель Россия?\n",
      "\n",
      "-------------------------\n",
      "\n",
      " -> Добрый день!\n",
      "\n",
      "-------------------------\n",
      "\n",
      "Здравствуйте, будет ли в наличии размер 1-3м? -> Здравствуйте, будет ли в наличии размер 1-3м?\n",
      "\n",
      "-------------------------\n",
      "\n",
      "Добрый деньданный крем должен появится в течение двух днейк сожалению шампуня у этого изготовителя в линейке товаров нет -> Добрый день! В течение двух дней крем появится в продаже.\n",
      "\n",
      "-------------------------\n",
      "\n",
      "Второй раз заказываю этот костюм в размере 92,при наличии, согласно сайта и второй раз приходит обивка, что заказ отменен, товара нет на складе. Что за обман? -> Здравствуйте, заказывала этот костюм в размере 92, но на сайте нет товара, а на сайте нет. Почему не отвечаете на вопрос?\n",
      "\n",
      "-------------------------\n",
      "\n",
      "Здравствуйте! Очень рады, что Вам понравился наш продукт!\n",
      " -> Здравствуйте! Очень рады, что Вам понравился наш продукт!\n",
      "\n",
      "-------------------------\n",
      "\n",
      "Здравствуйте! 28р-18,2см -> Здравствуйте! Размер: 28,2см\n",
      "\n",
      "-------------------------\n",
      "\n",
      "Способ применения указан на стикере.  -> Добрый день! Способ применения указан на стикере.\n",
      "\n",
      "-------------------------\n",
      "\n",
      "Скажите, пожалуйста, ожидается ли поступление данной модели????????? -> Здравствуйте! Ожидается ли поступление данной модели???\n",
      "\n",
      "-------------------------\n",
      "\n",
      "Добрый день, минимальная цена с учетом скидок была 2800. На данный момент мы перешагнули минимальный порог цен для акций и вынуждены вернуть цены без скидок. Добавьте товар в избранное и проверьте через 2-3 недели, скидки обновляются с воскресенья на понедельник. Спасибо, что выбрали нас. Мы очень рады за обратную связь.\n",
      "С наилучшими пожеланиями Anelli Laurel. -> Добрый день! На данный момент цена была 2800. Мы вынуждены вернуть цену без скидок.\n",
      "\n",
      "-------------------------\n",
      "\n",
      "Здравствуйте. Приносим Вам извинения за неверное вложение товара в заказе. При получении товара, Вы можете проверить его и,  при обнаружении несоответствия, вернуть сразу при доставке, указав причину возврата. После проверки такая позиция снимается с продажи. -> Здравствуйте! Приносим Вам свои извинения за неверное вложение товара. При получении товара Вы можете проверить его при получении товара, указав причину возврата. После проверки товара, Вы можете проверить его при получении, указав причину возврата. После проверки товара, Вы можете проверить его при получении, указав причину возврата. После проверки товара, Вы можете проверить его при получении, указав причину возврата. После проверки товара, Вы можете проверить его при получении, указав причину возврата. После проверки товара, Вы можете проверить его при получении, указав причину возврата, указав причину возврата, указав причину возврата, указав причину возврата, указав причину возврата, указав причину возврата, указав причину возврата, указав причину возврата. После проверки товара, Вы можете вернуть его сразу при доставке, указав причину возврата, указав причину возврата, указав причину возврата, указав причину возврата, указав причину возврата, указав причину возврата, указав причину возврата, указав причину возврата, указав причину возврата, указав причину возврата, указав причину возврата, указав причину возврата, указав причину возврата, указав причину возврата, указав причину возврата, указав причину возврата, указав причину возврата, указав причину возврата, указав причину возврата, указав причину возврата, указав причину возврата, указав причину\n",
      "\n",
      "-------------------------\n",
      "\n",
      "Добрый день!Это  полотенце для рук размером 30Х50 см. -> Добрый день! Это полотенце размером 30х50 см.\n",
      "\n",
      "-------------------------\n",
      "\n",
      "Здравствуйте\n",
      "Благодарим Вас за выбор нашей компании.\n",
      "Спасибо, что нашли время и оставили отзыв, для нас это очень важно\n",
      "\n",
      " -> Здравствуйте! Спасибо за выбор нашей компании. Спасибо, что нашли время и оставили отзыв. Для нас это очень важно.\n",
      "\n",
      "-------------------------\n",
      "\n",
      "Здравствуйте! Благодарим за Ваш отзыв! Очень рады, что Вы остались довольны. Носите с удовольствием. Будем стараться и дальше радовать Вас своими изделиями. Спасибо за выбор торгового дома LAVIRA. LAVIRA любит и ценит своих покупателей! -> Здравствуйте! Очень рады, что Вы остались довольны. Будем стараться, чтобы Вы остались довольны. Будем стараться, чтобы Вы остались довольны.\n",
      "\n",
      "-------------------------\n",
      "\n",
      "Здравствуйте, скажите пожалуйста когда можно ожидать размер 39? -> Здравствуйте, когда ожидается размер 39?\n",
      "\n",
      "-------------------------\n",
      "\n",
      "Добрый день! Спасибо за ваш интерес нашему бренду. Поставка не планируется. -> Здравствуйте! Спасибо за Ваш интерес к нашему бренду. Поставка не планируется.\n",
      "\n"
     ]
    }
   ],
   "source": [
    "for d in ds.select(np.random.randint(0, len(ds), 20)):\n",
    "    print('-------------------------')\n",
    "    print()\n",
    "    print(f'{d['text']} -> {d['preds']}')\n",
    "    print()"
   ]
  },
  {
   "cell_type": "markdown",
   "metadata": {},
   "source": [
    "Из этой демонстрации видно, что модель сохраняет информации из исходного текста, переписывая этот текст в более нейтральном ключе, но иногда может выдавать своеобразные речевые обороты и склонностью уходить в самоповтор"
   ]
  }
 ],
 "metadata": {
  "kernelspec": {
   "display_name": "Python 3 (ipykernel)",
   "language": "python",
   "name": "python3"
  }
 },
 "nbformat": 4,
 "nbformat_minor": 2
}
